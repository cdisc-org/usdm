{
 "cells": [
  {
   "cell_type": "code",
   "execution_count": 283,
   "metadata": {},
   "outputs": [
    {
     "name": "stdout",
     "output_type": "stream",
     "text": [
      "Requirement already satisfied: yfiles_jupyter_graphs in /Library/Frameworks/Python.framework/Versions/3.10/lib/python3.10/site-packages (1.4.3)\n",
      "Requirement already satisfied: ipywidgets>=7.6.0 in /Users/daveih/Library/Python/3.10/lib/python/site-packages (from yfiles_jupyter_graphs) (8.0.4)\n",
      "Requirement already satisfied: ipykernel>=4.5.1 in /Users/daveih/Library/Python/3.10/lib/python/site-packages (from ipywidgets>=7.6.0->yfiles_jupyter_graphs) (6.20.1)\n",
      "Requirement already satisfied: jupyterlab-widgets~=3.0 in /Users/daveih/Library/Python/3.10/lib/python/site-packages (from ipywidgets>=7.6.0->yfiles_jupyter_graphs) (3.0.5)\n",
      "Requirement already satisfied: widgetsnbextension~=4.0 in /Users/daveih/Library/Python/3.10/lib/python/site-packages (from ipywidgets>=7.6.0->yfiles_jupyter_graphs) (4.0.5)\n",
      "Requirement already satisfied: ipython>=6.1.0 in /Users/daveih/Library/Python/3.10/lib/python/site-packages (from ipywidgets>=7.6.0->yfiles_jupyter_graphs) (8.8.0)\n",
      "Requirement already satisfied: traitlets>=4.3.1 in /Users/daveih/Library/Python/3.10/lib/python/site-packages (from ipywidgets>=7.6.0->yfiles_jupyter_graphs) (5.8.1)\n",
      "Requirement already satisfied: pyzmq>=17 in /Users/daveih/Library/Python/3.10/lib/python/site-packages (from ipykernel>=4.5.1->ipywidgets>=7.6.0->yfiles_jupyter_graphs) (25.0.0)\n",
      "Requirement already satisfied: nest-asyncio in /Users/daveih/Library/Python/3.10/lib/python/site-packages (from ipykernel>=4.5.1->ipywidgets>=7.6.0->yfiles_jupyter_graphs) (1.5.6)\n",
      "Requirement already satisfied: packaging in /Library/Frameworks/Python.framework/Versions/3.10/lib/python3.10/site-packages (from ipykernel>=4.5.1->ipywidgets>=7.6.0->yfiles_jupyter_graphs) (21.3)\n",
      "Requirement already satisfied: tornado>=6.1 in /Users/daveih/Library/Python/3.10/lib/python/site-packages (from ipykernel>=4.5.1->ipywidgets>=7.6.0->yfiles_jupyter_graphs) (6.2)\n",
      "Requirement already satisfied: debugpy>=1.0 in /Users/daveih/Library/Python/3.10/lib/python/site-packages (from ipykernel>=4.5.1->ipywidgets>=7.6.0->yfiles_jupyter_graphs) (1.6.5)\n",
      "Requirement already satisfied: comm>=0.1.1 in /Users/daveih/Library/Python/3.10/lib/python/site-packages (from ipykernel>=4.5.1->ipywidgets>=7.6.0->yfiles_jupyter_graphs) (0.1.2)\n",
      "Requirement already satisfied: psutil in /Users/daveih/Library/Python/3.10/lib/python/site-packages (from ipykernel>=4.5.1->ipywidgets>=7.6.0->yfiles_jupyter_graphs) (5.9.4)\n",
      "Requirement already satisfied: appnope in /Users/daveih/Library/Python/3.10/lib/python/site-packages (from ipykernel>=4.5.1->ipywidgets>=7.6.0->yfiles_jupyter_graphs) (0.1.3)\n",
      "Requirement already satisfied: matplotlib-inline>=0.1 in /Users/daveih/Library/Python/3.10/lib/python/site-packages (from ipykernel>=4.5.1->ipywidgets>=7.6.0->yfiles_jupyter_graphs) (0.1.6)\n",
      "Requirement already satisfied: jupyter-client>=6.1.12 in /Users/daveih/Library/Python/3.10/lib/python/site-packages (from ipykernel>=4.5.1->ipywidgets>=7.6.0->yfiles_jupyter_graphs) (7.4.8)\n",
      "Requirement already satisfied: stack-data in /Users/daveih/Library/Python/3.10/lib/python/site-packages (from ipython>=6.1.0->ipywidgets>=7.6.0->yfiles_jupyter_graphs) (0.6.2)\n",
      "Requirement already satisfied: pickleshare in /Users/daveih/Library/Python/3.10/lib/python/site-packages (from ipython>=6.1.0->ipywidgets>=7.6.0->yfiles_jupyter_graphs) (0.7.5)\n",
      "Requirement already satisfied: pexpect>4.3 in /Users/daveih/Library/Python/3.10/lib/python/site-packages (from ipython>=6.1.0->ipywidgets>=7.6.0->yfiles_jupyter_graphs) (4.8.0)\n",
      "Requirement already satisfied: backcall in /Users/daveih/Library/Python/3.10/lib/python/site-packages (from ipython>=6.1.0->ipywidgets>=7.6.0->yfiles_jupyter_graphs) (0.2.0)\n",
      "Requirement already satisfied: prompt-toolkit<3.1.0,>=3.0.11 in /Users/daveih/Library/Python/3.10/lib/python/site-packages (from ipython>=6.1.0->ipywidgets>=7.6.0->yfiles_jupyter_graphs) (3.0.36)\n",
      "Requirement already satisfied: pygments>=2.4.0 in /Library/Frameworks/Python.framework/Versions/3.10/lib/python3.10/site-packages (from ipython>=6.1.0->ipywidgets>=7.6.0->yfiles_jupyter_graphs) (2.13.0)\n",
      "Requirement already satisfied: jedi>=0.16 in /Users/daveih/Library/Python/3.10/lib/python/site-packages (from ipython>=6.1.0->ipywidgets>=7.6.0->yfiles_jupyter_graphs) (0.18.2)\n",
      "Requirement already satisfied: decorator in /Users/daveih/Library/Python/3.10/lib/python/site-packages (from ipython>=6.1.0->ipywidgets>=7.6.0->yfiles_jupyter_graphs) (5.1.1)\n",
      "Requirement already satisfied: parso<0.9.0,>=0.8.0 in /Users/daveih/Library/Python/3.10/lib/python/site-packages (from jedi>=0.16->ipython>=6.1.0->ipywidgets>=7.6.0->yfiles_jupyter_graphs) (0.8.3)\n",
      "Requirement already satisfied: entrypoints in /Users/daveih/Library/Python/3.10/lib/python/site-packages (from jupyter-client>=6.1.12->ipykernel>=4.5.1->ipywidgets>=7.6.0->yfiles_jupyter_graphs) (0.4)\n",
      "Requirement already satisfied: jupyter-core>=4.9.2 in /Users/daveih/Library/Python/3.10/lib/python/site-packages (from jupyter-client>=6.1.12->ipykernel>=4.5.1->ipywidgets>=7.6.0->yfiles_jupyter_graphs) (5.1.3)\n",
      "Requirement already satisfied: python-dateutil>=2.8.2 in /Users/daveih/Library/Python/3.10/lib/python/site-packages (from jupyter-client>=6.1.12->ipykernel>=4.5.1->ipywidgets>=7.6.0->yfiles_jupyter_graphs) (2.8.2)\n",
      "Requirement already satisfied: ptyprocess>=0.5 in /Users/daveih/Library/Python/3.10/lib/python/site-packages (from pexpect>4.3->ipython>=6.1.0->ipywidgets>=7.6.0->yfiles_jupyter_graphs) (0.7.0)\n",
      "Requirement already satisfied: wcwidth in /Users/daveih/Library/Python/3.10/lib/python/site-packages (from prompt-toolkit<3.1.0,>=3.0.11->ipython>=6.1.0->ipywidgets>=7.6.0->yfiles_jupyter_graphs) (0.2.5)\n",
      "Requirement already satisfied: pyparsing!=3.0.5,>=2.0.2 in /Library/Frameworks/Python.framework/Versions/3.10/lib/python3.10/site-packages (from packaging->ipykernel>=4.5.1->ipywidgets>=7.6.0->yfiles_jupyter_graphs) (3.0.6)\n",
      "Requirement already satisfied: pure-eval in /Users/daveih/Library/Python/3.10/lib/python/site-packages (from stack-data->ipython>=6.1.0->ipywidgets>=7.6.0->yfiles_jupyter_graphs) (0.2.2)\n",
      "Requirement already satisfied: asttokens>=2.1.0 in /Users/daveih/Library/Python/3.10/lib/python/site-packages (from stack-data->ipython>=6.1.0->ipywidgets>=7.6.0->yfiles_jupyter_graphs) (2.2.1)\n",
      "Requirement already satisfied: executing>=1.2.0 in /Users/daveih/Library/Python/3.10/lib/python/site-packages (from stack-data->ipython>=6.1.0->ipywidgets>=7.6.0->yfiles_jupyter_graphs) (1.2.0)\n",
      "Requirement already satisfied: six in /Library/Frameworks/Python.framework/Versions/3.10/lib/python3.10/site-packages (from asttokens>=2.1.0->stack-data->ipython>=6.1.0->ipywidgets>=7.6.0->yfiles_jupyter_graphs) (1.16.0)\n",
      "Requirement already satisfied: platformdirs>=2.5 in /Users/daveih/Library/Python/3.10/lib/python/site-packages (from jupyter-core>=4.9.2->jupyter-client>=6.1.12->ipykernel>=4.5.1->ipywidgets>=7.6.0->yfiles_jupyter_graphs) (2.6.2)\n",
      "\n",
      "\u001b[1m[\u001b[0m\u001b[34;49mnotice\u001b[0m\u001b[1;39;49m]\u001b[0m\u001b[39;49m A new release of pip available: \u001b[0m\u001b[31;49m22.2.2\u001b[0m\u001b[39;49m -> \u001b[0m\u001b[32;49m22.3.1\u001b[0m\n",
      "\u001b[1m[\u001b[0m\u001b[34;49mnotice\u001b[0m\u001b[1;39;49m]\u001b[0m\u001b[39;49m To update, run: \u001b[0m\u001b[32;49mpip install --upgrade pip\u001b[0m\n",
      "Note: you may need to restart the kernel to use updated packages.\n"
     ]
    }
   ],
   "source": [
    "%pip install yfiles_jupyter_graphs"
   ]
  },
  {
   "cell_type": "code",
   "execution_count": 284,
   "metadata": {},
   "outputs": [],
   "source": [
    "from yfiles_jupyter_graphs import GraphWidget\n",
    "import xml.etree.ElementTree as ET\n",
    "import os "
   ]
  },
  {
   "cell_type": "code",
   "execution_count": 285,
   "metadata": {},
   "outputs": [],
   "source": [
    "namespaces = {\n",
    "  'ODM': \"http://www.cdisc.org/ns/odm/v1.3\",\n",
    "  'SDM':  \"http://www.cdisc.org/ns/studydesign/v1.0\"\n",
    "}\n",
    "\n",
    "def fully_qualified(ns, element):\n",
    "  return \"{%s}%s\" % (ns, element)\n",
    "\n",
    "def remove_ns(name):\n",
    "  for k, v in namespaces.items():\n",
    "    if v in name:\n",
    "      return name.replace(\"{%s}\" % (v), \"\")\n",
    "  return name\n",
    "\n",
    "node_types = { \n",
    "  fully_qualified(namespaces['ODM'], \"ODM\"): \"root\"\n",
    "}\n",
    "ignore_nodes = [ \n",
    "  fully_qualified(namespaces['SDM'], \"Summary\"), \n",
    "  fully_qualified(namespaces['ODM'], \"Description\"), \n",
    "  fully_qualified(namespaces['ODM'], \"ItemGroupDef\"),\n",
    "  fully_qualified(namespaces['ODM'], \"ItemGroupRef\"),\n",
    "  fully_qualified(namespaces['ODM'], \"ItemDef\") \n",
    "]\n",
    "edge_nodes = [ \n",
    "  fully_qualified(namespaces['SDM'], \"ActivityRef\"), \n",
    "  fully_qualified(namespaces['ODM'], \"FormRef\"),\n",
    "  fully_qualified(namespaces['SDM'], \"ArmRef\") \n",
    "]\n",
    "preserve_oid_nodes = [ \n",
    "  fully_qualified(namespaces['SDM'], \"ActivityDef\"), \n",
    "  fully_qualified(namespaces['ODM'], \"FormDef\"),\n",
    "  fully_qualified(namespaces['SDM'], \"Arm\") \n",
    "]\n",
    "link_by_oid_nodes = {\n",
    "  fully_qualified(namespaces['SDM'], \"Transition\"): { 'attribute': 'SourceActivityOID', 'label': 'source' }\n",
    "}\n",
    "  "
   ]
  },
  {
   "cell_type": "code",
   "execution_count": 286,
   "metadata": {},
   "outputs": [],
   "source": [
    "nodes = []\n",
    "node_index = 0\n",
    "edges = []\n",
    "edge_index = 0\n",
    "node_oid_map = {}\n",
    "save_edges = []\n",
    "\n",
    "def add_node(label, properties, node_type=None):\n",
    "  global node_index\n",
    "  global nodes\n",
    "  node_index += 1\n",
    "  properties['label'] = label\n",
    "  if not node_type == None:\n",
    "    properties['node_type'] = node_type\n",
    "  nodes.append({ 'id': node_index, 'properties': properties })\n",
    "  return node_index\n",
    "\n",
    "def add_edge(label, start, end):\n",
    "  global edge_index\n",
    "  global edges\n",
    "  edge_index += 1\n",
    "  edges.append( {id: edge_index, 'start': start, 'end': end, 'properties': { 'label': label } })\n",
    "  return edge_index\n",
    "\n",
    "def save_edge(index, oid, label):\n",
    "  global save_edges\n",
    "  if not index == None:\n",
    "    save_edges.append({ 'start': index, 'end_oid': oid, 'label': label })\n",
    "\n",
    "def save_oid_def(oid, node_index):\n",
    "  global node_oid_map\n",
    "  node_oid_map[oid] = node_index\n",
    "\n",
    "def find_oid_ref(properties):\n",
    "  for k,v in properties.items():\n",
    "    if \"OID\" in k:\n",
    "      return v\n",
    "  return None\n"
   ]
  },
  {
   "cell_type": "code",
   "execution_count": 287,
   "metadata": {},
   "outputs": [],
   "source": [
    "\n",
    "def process_element(element, parent_index=None):\n",
    "  element_index = None\n",
    "  node_type = None\n",
    "  if element.tag in edge_nodes:\n",
    "    attribs = element.attrib\n",
    "    label = remove_ns(element.tag)\n",
    "    oid = find_oid_ref(attribs)\n",
    "    save_edge(parent_index, oid, label)\n",
    "  else:\n",
    "    attribs = element.attrib\n",
    "    label = remove_ns(element.tag)\n",
    "    if element.tag in node_types:\n",
    "      node_type = node_types[element.tag]\n",
    "    element_index = add_node(label, attribs, node_type)\n",
    "  if element.tag in preserve_oid_nodes:\n",
    "    save_oid_def(attribs['OID'], element_index)\n",
    "  if element.tag in link_by_oid_nodes:\n",
    "    info = link_by_oid_nodes[element.tag]\n",
    "    save_edge(element_index, attribs[info['attribute']], info['label'])\n",
    "  for child in element:\n",
    "    if not child.tag in ignore_nodes:\n",
    "      child_index = process_element(child, element_index)\n",
    "      if not child_index == None:\n",
    "        child_edge_index = add_edge(\"\", element_index, child_index)\n",
    "  return element_index"
   ]
  },
  {
   "cell_type": "code",
   "execution_count": 288,
   "metadata": {},
   "outputs": [
    {
     "name": "stdout",
     "output_type": "stream",
     "text": [
      "NODES: [{'id': 1, 'properties': {'CreationDateTime': '2010-12-08T14:31:28+01:00', 'Description': 'LZZT Study Design, CDISC ODM version 1.3 format', 'FileOID': 'LZZT_STUDY', 'FileType': 'Snapshot', 'Granularity': 'Metadata', 'ODMVersion': '1.3', 'SourceSystem': 'XML4Pharma CDISC ODM Study Designer', 'SourceSystemVersion': '2010-R2', 'label': 'ODM', 'node_type': 'root'}}, {'id': 2, 'properties': {'OID': 'LZZT', 'label': 'Study'}}, {'id': 3, 'properties': {'label': 'GlobalVariables'}}, {'id': 4, 'properties': {'label': 'StudyName'}}, {'id': 5, 'properties': {'label': 'StudyDescription'}}, {'id': 6, 'properties': {'label': 'ProtocolName'}}, {'id': 7, 'properties': {'label': 'BasicDefinitions'}}, {'id': 8, 'properties': {'Description': 'LZZT study design version 1', 'Name': 'LZZT study design version 1', 'OID': 'LZZT_1', 'label': 'MetaDataVersion'}}, {'id': 9, 'properties': {'label': 'Protocol'}}, {'id': 10, 'properties': {'Mandatory': 'Yes', 'StudyEventOID': 'SE.SCREENING_VISIT', 'label': 'StudyEventRef'}}, {'id': 11, 'properties': {'Mandatory': 'Yes', 'StudyEventOID': 'SE.AMB_ECG_VISIT', 'label': 'StudyEventRef'}}, {'id': 12, 'properties': {'Mandatory': 'Yes', 'StudyEventOID': 'SE.RANDOMIZATION_VISIT', 'label': 'StudyEventRef'}}, {'id': 13, 'properties': {'label': 'InclusionExclusionCriteria'}}, {'id': 14, 'properties': {'label': 'InclusionCriteria'}}, {'id': 15, 'properties': {'ConditionOID': 'COND.MIN_AGE', 'Name': 'Inclusion criterion for age', 'OID': 'CRIT.MIN_AGE', 'label': 'Criterion'}}, {'id': 16, 'properties': {'ConditionOID': 'COND.ALZHEIMER_DISEASE', 'Name': 'Inclusion criterion: subject has AD', 'OID': 'CRIT.ALZHEIMER_DISEASE', 'label': 'Criterion'}}, {'id': 17, 'properties': {'ConditionOID': 'COND.MMSE_10-23', 'Name': 'Inclusion criterion: MMSE between 10 and 23', 'OID': 'CRIT.MMSE_10-23', 'label': 'Criterion'}}, {'id': 18, 'properties': {'ConditionOID': 'COND.HACHINSKI', 'Name': 'Inclusion criterion: Hachinski score <= 4', 'OID': 'CRIT.HACHINSKI', 'label': 'Criterion'}}, {'id': 19, 'properties': {'ConditionOID': 'COND.CNS_1_YEAR', 'Name': 'Inclusion criterion: CNS in past year compatibe with AD', 'OID': 'CRIT.CNS_1_YEAR', 'label': 'Criterion'}}, {'id': 20, 'properties': {'label': 'ExclusionCriteria'}}, {'id': 21, 'properties': {'ConditionOID': 'COND.MAX_AGE', 'Name': 'Exclusion criterion for age', 'OID': 'CRIT.MAX_AGE', 'label': 'Criterion'}}, {'id': 22, 'properties': {'label': 'Structure'}}, {'id': 23, 'properties': {'Name': 'Screening epoch', 'OID': 'EP.SCREPOCH', 'OrderNumber': '1', 'label': 'Epoch'}}, {'id': 24, 'properties': {'Name': 'Treatment epoch', 'OID': 'EP.TREPOCH', 'OrderNumber': '2', 'label': 'Epoch'}}, {'id': 25, 'properties': {'Name': 'Follow-up epoch', 'OID': 'EP.FUPEPOCH', 'OrderNumber': '3', 'label': 'Epoch'}}, {'id': 26, 'properties': {'Name': 'Placebo arm', 'OID': 'ARM.PLACEBO', 'label': 'Arm'}}, {'id': 27, 'properties': {'Name': 'Low dose arm', 'OID': 'ARM.LOWDOSE', 'label': 'Arm'}}, {'id': 28, 'properties': {'Name': 'High dose arm', 'OID': 'ARM.HIGHDOSE', 'label': 'Arm'}}, {'id': 29, 'properties': {'EpochOID': 'EP.SCREPOCH', 'Name': 'Screening Cell', 'OID': 'CELL.SCREEN', 'label': 'CellDef'}}, {'id': 30, 'properties': {'Type': 'Unblinded', 'label': 'ArmAssociation'}}, {'id': 31, 'properties': {'OrderNumber': '1', 'SegmentOID': 'SCREENSEG', 'label': 'SegmentRef'}}, {'id': 32, 'properties': {'EpochOID': 'EP.TREPOCH', 'Name': 'Treatment Cell', 'OID': 'CELL.TREATMENT', 'label': 'CellDef'}}, {'id': 33, 'properties': {'Type': 'Blinded', 'label': 'ArmAssociation'}}, {'id': 34, 'properties': {'OrderNumber': '1', 'SegmentOID': 'SEG.TREATMENT', 'label': 'SegmentRef'}}, {'id': 35, 'properties': {'EpochOID': 'EP.FUPEPOCH', 'Name': 'Follow-up Cell', 'OID': 'CELL.FOLLOWUP', 'label': 'CellDef'}}, {'id': 36, 'properties': {'Type': 'Blinded', 'label': 'ArmAssociation'}}, {'id': 37, 'properties': {'OrderNumber': '1', 'SegmentOID': 'SEG.FOLLOWUP', 'label': 'SegmentRef'}}, {'id': 38, 'properties': {'Name': 'Screening segment', 'OID': 'SCREENSEG', 'label': 'SegmentDef'}}, {'id': 39, 'properties': {'Name': 'Treatment segment', 'OID': 'SEG.TREATMENT', 'label': 'SegmentDef'}}, {'id': 40, 'properties': {'Name': 'Follow-up segment', 'OID': 'SEG.FOLLOWUP', 'label': 'SegmentDef'}}, {'id': 41, 'properties': {'Name': 'trial start activity', 'OID': 'ACT.TRIALSTART', 'label': 'ActivityDef'}}, {'id': 42, 'properties': {'Name': 'informed consent activity', 'OID': 'ACT.INFORMEDCONSENT', 'label': 'ActivityDef'}}, {'id': 43, 'properties': {'Name': 'patient number assignment activity', 'OID': 'ACT.PATIENTNUMBERASSIGNMENT', 'label': 'ActivityDef'}}, {'id': 44, 'properties': {'Name': 'Demographics, Education and Habits data collection activity', 'OID': 'ACT.DEMOGR_EDU_HABITS', 'label': 'ActivityDef'}}, {'id': 45, 'properties': {'Name': 'Mini-mental state activity', 'OID': 'ACT.MMS', 'label': 'ActivityDef'}}, {'id': 46, 'properties': {'Name': 'Hachinski test Activity', 'OID': 'ACT.HACHINSKI', 'label': 'ActivityDef'}}, {'id': 47, 'properties': {'Name': 'medical history activity', 'OID': 'ACT.MEDICALHISTORY_01', 'label': 'ActivityDef'}}, {'id': 48, 'properties': {'Name': 'vital signs activity', 'OID': 'ACT.VITALSIGNS_01', 'label': 'ActivityDef'}}, {'id': 49, 'properties': {'Name': 'ambulatory ECG placement activity', 'OID': 'ACT.AMB_ECG_PLACEMENT_01', 'label': 'ActivityDef'}}, {'id': 50, 'properties': {'Name': 'ambulatory ECG removal activity', 'OID': 'ACT.AMB_ECG_REMOVAL_01', 'label': 'ActivityDef'}}, {'id': 51, 'properties': {'Name': 'patient randomization activity', 'OID': 'ACT.PATIENTRANDOMIZATION', 'label': 'ActivityDef'}}, {'id': 52, 'properties': {'Name': 'vital signs activity', 'OID': 'ACT.VITALSIGNS_02', 'label': 'ActivityDef'}}, {'id': 53, 'properties': {'Name': 'trial finish activity', 'OID': 'ACT.TRIALFINISH', 'label': 'ActivityDef'}}, {'id': 54, 'properties': {'Name': 'assess fever activity', 'OID': 'ACT.ASSESS_FEVER', 'label': 'ActivityDef'}}, {'id': 55, 'properties': {'Name': 'assess high fever activity', 'OID': 'ACT.ASSESS_HIGH_FEVER', 'label': 'ActivityDef'}}, {'id': 56, 'properties': {'Name': 'ECG activity', 'OID': 'ACT.ECG_01', 'label': 'ActivityDef'}}, {'id': 57, 'properties': {'Name': 'Chest X-Ray Activity', 'OID': 'ACT.CHEST_X-RAY', 'label': 'ActivityDef'}}, {'id': 58, 'properties': {'Name': 'MRI of brain Activity', 'OID': 'ACT.MRI', 'label': 'ActivityDef'}}, {'id': 59, 'properties': {'Name': 'CT Scan Activity', 'OID': 'ACT.CT_SCAN', 'label': 'ActivityDef'}}, {'id': 60, 'properties': {'Name': 'Start of treatment visit 1 (visit 4)', 'OID': 'ACT.TRT_VISIT_01_START', 'label': 'ActivityDef'}}, {'id': 61, 'properties': {'Name': 'Start of treatment visit 2 (visit 5)', 'OID': 'ACT.TRT_VISIT_02_START', 'label': 'ActivityDef'}}, {'id': 62, 'properties': {'Name': 'Start of treatment visit 3 (visit 6)', 'OID': 'ACT.TRT_VISIT_03_START', 'label': 'ActivityDef'}}, {'id': 63, 'properties': {'Name': 'Start of treatment visit 4 (visit 7)', 'OID': 'ACT.TRT_VISIT_04_START', 'label': 'ActivityDef'}}, {'id': 64, 'properties': {'Name': 'Start of treatment visit 5 (visit 8)', 'OID': 'ACT.TRT_VISIT_05_START', 'label': 'ActivityDef'}}, {'id': 65, 'properties': {'Name': 'Start of treatment visit 6 (visit 9)', 'OID': 'ACT.TRT_VISIT_06_START', 'label': 'ActivityDef'}}, {'id': 66, 'properties': {'Name': 'Start of treatment visit 7 (visit 10)', 'OID': 'ACT.TRT_VISIT_07_START', 'label': 'ActivityDef'}}, {'id': 67, 'properties': {'Name': 'Start of treatment visit 8 (visit 11)', 'OID': 'ACT.TRT_VISIT_08_START', 'label': 'ActivityDef'}}, {'id': 68, 'properties': {'Name': 'Start of treatment visit 9 (visit 12)', 'OID': 'ACT.TRT_VISIT_09_START', 'label': 'ActivityDef'}}, {'id': 69, 'properties': {'Name': 'Start of treatment visit 10 (visit 9)', 'OID': 'ACT.TRT_VISIT_10_START', 'label': 'ActivityDef'}}, {'id': 70, 'properties': {'Name': 'Assess headache', 'OID': 'ACT.ASSESS_HEADACHE', 'label': 'ActivityDef'}}, {'id': 71, 'properties': {'label': 'Workflow'}}, {'id': 72, 'properties': {'label': 'StudyStart'}}, {'id': 73, 'properties': {'label': 'StudyFinish'}}, {'id': 74, 'properties': {'Name': 'Entry/exit criteria for treatment epoch', 'OID': 'CRIT.TREATMENT_EPOCH', 'StructuralElementOID': 'EP.TREPOCH', 'StructuralElementType': 'Epoch', 'label': 'EntryExitCriteria'}}, {'id': 75, 'properties': {'label': 'EntryCriteria'}}, {'id': 76, 'properties': {'label': 'IncludeInclusionExclusionCriteria'}}, {'id': 77, 'properties': {'ConditionOID': 'COND.TREATMENT_EPOCH_ENTRY', 'Name': 'Entry criterion for treatment epoch', 'OID': 'CRIT.TREATMENT_EPOCH_ENTRY', 'label': 'Criterion'}}, {'id': 78, 'properties': {'label': 'ExitCriteria'}}, {'id': 79, 'properties': {'ConditionOID': 'COND.TREATMENT_EPOCH_EXIT', 'Name': 'Exit criterion for treatment epoch', 'OID': 'CRIT.TREATMENT_EPOCH_EXIT', 'label': 'Criterion'}}, {'id': 80, 'properties': {'Name': 'Entry/exit criteria for ECG activity', 'OID': 'CRIT.AMB_ECG_PLACEMENT', 'StructuralElementOID': 'ACT.AMB_ECG_PLACEMENT_01', 'StructuralElementType': 'Activity', 'label': 'EntryExitCriteria'}}, {'id': 81, 'properties': {'label': 'EntryCriteria'}}, {'id': 82, 'properties': {'ConditionOID': 'COND.ECG_ACTIVITY_ENTRY', 'Name': 'Entry criterion for ECG activity', 'OID': 'CRIT.AMB_ECG_PLACEMENT_ENTRY', 'label': 'Criterion'}}, {'id': 83, 'properties': {'label': 'ExitCriteria'}}, {'id': 84, 'properties': {'ConditionOID': 'COND.ECG_ACTIVITY_EXIT', 'Name': 'Exit criterion for ECG activity', 'OID': 'CRIT.AMB_ECG_PLACEMENT_EXIT', 'label': 'Criterion'}}, {'id': 85, 'properties': {'OID': 'TRANS.TRIAL_START', 'Name': 'Trial start transition', 'SourceActivityOID': 'ACT.TRIALSTART', 'label': 'Transition'}}, {'id': 86, 'properties': {'label': 'Switch'}}, {'id': 87, 'properties': {'Name': '(default) transition to informed consent', 'OID': 'TRANS.TRIAL_START_TO_INFCONSENT', 'TargetActivityOID': 'ACT.INFORMEDCONSENT', 'label': 'TransitionDefault'}}, {'id': 88, 'properties': {'Name': 'Transition from informed consent activity', 'OID': 'TRANS.INFCONSENT', 'SourceActivityOID': 'ACT.INFORMEDCONSENT', 'label': 'Transition'}}, {'id': 89, 'properties': {'label': 'Switch'}}, {'id': 90, 'properties': {'ConditionOID': 'COND.INFCONSENT', 'Name': 'conditional transition from informed consent to patient number assigned', 'OID': 'TRANS.INFCONSENT_TO_PATIENTNUMBERASSIGNMENT', 'TargetActivityOID': 'ACT.PATIENTNUMBERASSIGNMENT', 'label': 'TransitionDestination'}}, {'id': 91, 'properties': {'Name': 'default transition from informed consent to study finish', 'OID': 'TRANS.INFCONSENT_TO_STUDYFINISH', 'TargetActivityOID': 'ACT.TRIALFINISH', 'label': 'TransitionDefault'}}, {'id': 92, 'properties': {'Name': 'transition to activity taking demographics, education and habits', 'OID': 'TRANS.DEMOGR_EDU_HABITS', 'SourceActivityOID': 'ACT.PATIENTNUMBERASSIGNMENT', 'label': 'Transition'}}, {'id': 93, 'properties': {'label': 'Switch'}}, {'id': 94, 'properties': {'Name': 'default transition to transition to activity taking demographics, education and habits', 'OID': 'TRD.DEMOGR_EDU_HABITS', 'TargetActivityOID': 'ACT.DEMOGR_EDU_HABITS', 'label': 'TransitionDefault'}}, {'id': 95, 'properties': {'Name': 'Transition to mini-mental state test activity', 'OID': 'TRANS.MMS', 'SourceActivityOID': 'ACT.DEMOGR_EDU_HABITS', 'label': 'Transition'}}, {'id': 96, 'properties': {'label': 'Switch'}}, {'id': 97, 'properties': {'Name': 'Default transition to mini-mental state test activity', 'OID': 'TRD.MMS', 'TargetActivityOID': 'ACT.MMS', 'label': 'TransitionDefault'}}, {'id': 98, 'properties': {'Name': 'transition to Hachinski test', 'OID': 'TRANS.HACHINSKI', 'SourceActivityOID': 'ACT.MMS', 'label': 'Transition'}}, {'id': 99, 'properties': {'label': 'Switch'}}, {'id': 100, 'properties': {'ConditionOID': 'COND.MMSE_10-23', 'Name': 'conditional transition to Hachinski test', 'OID': 'TRD.HACHINSKI', 'TargetActivityOID': 'ACT.HACHINSKI', 'label': 'TransitionDestination'}}, {'id': 101, 'properties': {'Name': 'Transition to Trial Finish as MMS leads to exclusion', 'OID': 'TRD.MMS_EXCLUSION', 'TargetActivityOID': 'ACT.TRIALFINISH', 'label': 'TransitionDefault'}}, {'id': 102, 'properties': {'Name': 'Transition between Hachinski test and Medical History', 'OID': 'TRANS.MEDICALHISTORY_01', 'SourceActivityOID': 'ACT.HACHINSKI', 'label': 'Transition'}}, {'id': 103, 'properties': {'label': 'Switch'}}, {'id': 104, 'properties': {'ConditionOID': 'COND.HACHINSKI', 'Name': 'Conditional Transition between Hachinski test and Medical History', 'OID': 'TRD.MEDICALHISTORY_01', 'TargetActivityOID': 'ACT.MEDICALHISTORY_01', 'label': 'TransitionDestination'}}, {'id': 105, 'properties': {'Name': 'Defaut transition to Trial Finish due to Hachinski score exclusion', 'OID': 'TRD.HACHINSKI_EXCLUSION', 'TargetActivityOID': 'ACT.TRIALFINISH', 'label': 'TransitionDefault'}}, {'id': 106, 'properties': {'Name': 'Transitions from Medical History Activity', 'OID': 'TRANS.MEDHISTORY', 'SourceActivityOID': 'ACT.MEDICALHISTORY_01', 'label': 'Transition'}}, {'id': 107, 'properties': {'label': 'Switch'}}, {'id': 108, 'properties': {'Name': 'Transition to Vital Signs Activity', 'OID': 'TRANS.MEDHISTORY_TO_VITAL_SIGNS', 'TargetActivityOID': 'ACT.VITALSIGNS_01', 'label': 'TransitionDefault'}}, {'id': 109, 'properties': {'Name': 'Trial finish due to high fever', 'OID': 'TRANS.HIGH_FEVER_TRIALFINISH', 'SourceActivityOID': 'ACT.ASSESS_HIGH_FEVER', 'label': 'Transition'}}, {'id': 110, 'properties': {'label': 'Switch'}}, {'id': 111, 'properties': {'Name': 'Trial finish due to high fever', 'OID': 'TRANSDEF.HIGH_FEVER_TRIALFINISH', 'TargetActivityOID': 'ACT.TRIALFINISH', 'label': 'TransitionDefault'}}, {'id': 112, 'properties': {'ConditionOID': 'COND.FEVER_OLD', 'Name': 'Fever trigger', 'OID': 'TRIG.FEVER', 'StructuralElementOID': 'EP.TREPOCH', 'StructuralElementType': 'Epoch', 'label': 'Trigger'}}, {'id': 113, 'properties': {'label': 'Switch'}}, {'id': 114, 'properties': {'ConditionOID': 'COND.HIGH_FEVER', 'Name': 'conditional transition when subject has high fever', 'OID': 'TRANS.HIGH_FEVER_TRIGGER', 'TargetActivityOID': 'ACT.ASSESS_HIGH_FEVER', 'label': 'TransitionDestination'}}, {'id': 115, 'properties': {'Name': 'default transition from when subject has fever', 'OID': 'TRANS.FEVER_TRIGGER', 'TargetActivityOID': 'ACT.ASSESS_FEVER', 'label': 'TransitionDefault'}}, {'id': 116, 'properties': {'ConditionOID': 'COND.HEADACHE', 'Name': 'Headache trigger', 'OID': 'TRIG.HEADACHE', 'StructuralElementOID': 'EP.TREPOCH', 'StructuralElementType': 'Epoch', 'label': 'Trigger'}}, {'id': 117, 'properties': {'label': 'Switch'}}, {'id': 118, 'properties': {'Name': 'Default transition upon headache', 'OID': 'TRANS.HEADACHE_TRIGGER', 'TargetActivityOID': 'ACT.ASSESS_HEADACHE', 'label': 'TransitionDefault'}}, {'id': 119, 'properties': {'label': 'Timing'}}, {'id': 120, 'properties': {'ActivityOID': 'ACT.INFORMEDCONSENT', 'Name': 'Absolute timing constraint on informed consent activity', 'OID': 'TCA.INFCONSENT', 'TimepointTarget': '2009-09-20T11:07:23-05:00', 'label': 'AbsoluteTimingConstraint'}}, {'id': 121, 'properties': {'Name': 'relative timing constraint between activity informed consent and activity patient number assignment', 'OID': 'TCR.INFCONSENT_TO_PATIENTNUMBERASSIGNMENT', 'PredecessorActivityOID': 'ACT.INFORMEDCONSENT', 'SuccessorActivityOID': 'ACT.PATIENTNUMBERASSIGNMENT', 'TimepointRelativeTarget': 'P7D', 'label': 'RelativeTimingConstraint'}}, {'id': 122, 'properties': {'Name': 'Timing constraint between ambulatory ECG placement and removal', 'OID': 'TCR.AMB_ECG_PLACEMENT_REMOVAL', 'PredecessorActivityOID': 'ACT.AMB_ECG_PLACEMENT_01', 'SuccessorActivityOID': 'ACT.AMB_ECG_REMOVAL_01', 'TimepointPreWindow': 'PT16H', 'TimepointRelativeTarget': 'PT24H', 'Type': 'StartToStart', 'label': 'RelativeTimingConstraint'}}, {'id': 123, 'properties': {'Name': 'Timing constraint for treatment visit 1 (visit 4)', 'OID': 'TCR.VISIT4', 'PredecessorActivityOID': 'ACT.PATIENTRANDOMIZATION', 'SuccessorActivityOID': 'ACT.TRT_VISIT_01_START', 'TimepointRelativeTarget': 'P14D', 'Type': 'StartToStart', 'label': 'RelativeTimingConstraint'}}, {'id': 124, 'properties': {'Name': 'Timing constraint for treatment visit 2 (visit 5)', 'OID': 'TCR.VISIT5', 'PredecessorActivityOID': 'ACT.PATIENTRANDOMIZATION', 'SuccessorActivityOID': 'ACT.TRT_VISIT_02_START', 'TimepointRelativeTarget': 'P28D', 'Type': 'StartToStart', 'label': 'RelativeTimingConstraint'}}, {'id': 125, 'properties': {'Name': 'Timing constraint for treatment visit 3 (visit 6)', 'OID': 'TCR.VISIT6', 'PredecessorActivityOID': 'ACT.PATIENTRANDOMIZATION', 'SuccessorActivityOID': 'ACT.TRT_VISIT_03_START', 'TimepointRelativeTarget': 'P42D', 'Type': 'StartToStart', 'label': 'RelativeTimingConstraint'}}, {'id': 126, 'properties': {'Name': 'Timing constraint for treatment visit 4 (visit 7)', 'OID': 'TCR.VISIT7', 'PredecessorActivityOID': 'ACT.PATIENTRANDOMIZATION', 'SuccessorActivityOID': 'ACT.TRT_VISIT_04_START', 'TimepointRelativeTarget': 'P56D', 'Type': 'StartToStart', 'label': 'RelativeTimingConstraint'}}, {'id': 127, 'properties': {'Name': 'Timing constraint for treatment visit 5 (visit 8)', 'OID': 'TCR.VISIT8', 'PredecessorActivityOID': 'ACT.TRT_VISIT_04_START', 'SuccessorActivityOID': 'ACT.TRT_VISIT_05_START', 'TimepointRelativeTarget': 'P28D', 'Type': 'StartToStart', 'label': 'RelativeTimingConstraint'}}, {'id': 128, 'properties': {'Name': 'Timing constraint for treatment visit 6 (visit 9)', 'OID': 'TCR.VISIT9', 'PredecessorActivityOID': 'ACT.TRT_VISIT_05_START', 'SuccessorActivityOID': 'ACT.TRT_VISIT_06_START', 'TimepointRelativeTarget': 'P28D', 'Type': 'StartToStart', 'label': 'RelativeTimingConstraint'}}, {'id': 129, 'properties': {'Name': 'Timing constraint for treatment visit 7 (visit 10)', 'OID': 'TCR.VISIT10', 'PredecessorActivityOID': 'ACT.TRT_VISIT_06_START', 'SuccessorActivityOID': 'ACT.TRT_VISIT_07_START', 'TimepointRelativeTarget': 'P28D', 'Type': 'StartToStart', 'label': 'RelativeTimingConstraint'}}, {'id': 130, 'properties': {'Name': 'Timing constraint for treatment visit 8 (visit 11)', 'OID': 'TCR.VISIT11', 'PredecessorActivityOID': 'ACT.TRT_VISIT_07_START', 'SuccessorActivityOID': 'ACT.TRT_VISIT_08_START', 'TimepointRelativeTarget': 'P28D', 'Type': 'StartToStart', 'label': 'RelativeTimingConstraint'}}, {'id': 131, 'properties': {'Name': 'Transition timing constraint 1 name', 'OID': 'TCT.INFCONSENT_TO_PATIENTNUMBERASSIGNMENT', 'TimepointRelativeTarget': 'PT24H', 'TransitionDestinationOID': 'TRANS.INFCONSENT_TO_PATIENTNUMBERASSIGNMENT', 'Type': 'StartToStart', 'label': 'TransitionTimingConstraint'}}, {'id': 132, 'properties': {'Name': 'Transition timing constraint 2', 'OID': 'TCT.FEVER_TRIGGER', 'TimepointRelativeTarget': 'PT1H', 'TransitionDestinationOID': 'TRANS.FEVER_TRIGGER', 'label': 'TransitionTimingConstraint'}}, {'id': 133, 'properties': {'Name': 'at high fever, go to trial finish within 1 day', 'OID': 'TCT.FEVER_TRIAL_FINISH', 'TimepointRelativeTarget': 'P1D', 'TransitionDestinationOID': 'TRANSDEF.HIGH_FEVER_TRIALFINISH', 'Type': 'StartToStart', 'label': 'TransitionTimingConstraint'}}, {'id': 134, 'properties': {'Name': 'Screening Visit (Visit 1)', 'OID': 'SE.SCREENING_VISIT', 'Repeating': 'No', 'Type': 'Scheduled', 'label': 'StudyEventDef'}}, {'id': 135, 'properties': {'Name': 'Ambulatory ECG (Visit 2)', 'OID': 'SE.AMB_ECG_VISIT', 'Repeating': 'No', 'Type': 'Scheduled', 'label': 'StudyEventDef'}}, {'id': 136, 'properties': {'Name': 'Randomization Visit (Visit 3)', 'OID': 'SE.RANDOMIZATION_VISIT', 'Repeating': 'No', 'Type': 'Scheduled', 'label': 'StudyEventDef'}}, {'id': 137, 'properties': {'Name': 'Treatment Visit 1 (Visit 4)', 'OID': 'SE.TRT_VISIT_01', 'Repeating': 'No', 'Type': 'Scheduled', 'label': 'StudyEventDef'}}, {'id': 138, 'properties': {'Name': 'Treatment Visit 2 (Visit 5)', 'OID': 'SE.TRT_VISIT_02', 'Repeating': 'No', 'Type': 'Scheduled', 'label': 'StudyEventDef'}}, {'id': 139, 'properties': {'Name': 'Treatment Visit 3 (Visit 6)', 'OID': 'SE.TRT_VISIT_03', 'Repeating': 'No', 'Type': 'Scheduled', 'label': 'StudyEventDef'}}, {'id': 140, 'properties': {'Name': 'Treatment Visit 4 (Visit 7)', 'OID': 'SE.TRT_VISIT_04', 'Repeating': 'No', 'Type': 'Scheduled', 'label': 'StudyEventDef'}}, {'id': 141, 'properties': {'Name': 'Treatment Visit 5 (Visit 8)', 'OID': 'SE.TRT_VISIT_05', 'Repeating': 'No', 'Type': 'Scheduled', 'label': 'StudyEventDef'}}, {'id': 142, 'properties': {'Name': 'Treatment Visit 6 (Visit 9)', 'OID': 'SE.TRT_VISIT_06', 'Repeating': 'No', 'Type': 'Scheduled', 'label': 'StudyEventDef'}}, {'id': 143, 'properties': {'Name': 'Treatment Visit 7 (Visit 10)', 'OID': 'SE.TRT_VISIT_07', 'Repeating': 'No', 'Type': 'Scheduled', 'label': 'StudyEventDef'}}, {'id': 144, 'properties': {'Name': 'Treatment Visit 8 (Visit 11)', 'OID': 'SE.TRT_VISIT_08', 'Repeating': 'No', 'Type': 'Scheduled', 'label': 'StudyEventDef'}}, {'id': 145, 'properties': {'Name': 'Treatment Visit 9 (Visit 12)', 'OID': 'SE.TRT_VISIT_09', 'Repeating': 'No', 'Type': 'Scheduled', 'label': 'StudyEventDef'}}, {'id': 146, 'properties': {'Name': 'Treatment Visit 10 (Visit 13)', 'OID': 'SE.TRT_VISIT_10', 'Repeating': 'No', 'Type': 'Scheduled', 'label': 'StudyEventDef'}}, {'id': 147, 'properties': {'Name': 'ECG Form', 'OID': 'FO.ECG', 'Repeating': 'No', 'label': 'FormDef'}}, {'id': 148, 'properties': {'Name': 'Vital Signs Form', 'OID': 'FO.VS', 'Repeating': 'No', 'label': 'FormDef'}}, {'id': 149, 'properties': {'Name': 'Informed Consent Form', 'OID': 'FO.INFORMEDCONSENT', 'Repeating': 'No', 'label': 'FormDef'}}, {'id': 150, 'properties': {'Name': 'Inclusion/Exclusion Form', 'OID': 'FO.INCLUSIONEXCLUSION', 'Repeating': 'No', 'label': 'FormDef'}}, {'id': 151, 'properties': {'Name': 'Mini-mental State Form', 'OID': 'FO.MMS', 'Repeating': 'No', 'label': 'FormDef'}}, {'id': 152, 'properties': {'Name': 'Demographics/Education/Habits form', 'OID': 'FO.DEMOGR_EDUC_HABITS', 'Repeating': 'No', 'label': 'FormDef'}}, {'id': 153, 'properties': {'Name': 'Modified Hachinski Ischemic Score Form', 'OID': 'FO.HACHINSKI', 'Repeating': 'No', 'label': 'FormDef'}}, {'id': 154, 'properties': {'Name': \"Medical History Form regarding Alzheimer's Disease\", 'OID': 'FO.MEDICALHISTORY', 'Repeating': 'No', 'label': 'FormDef'}}, {'id': 155, 'properties': {'Name': 'Chest X-Ray Form', 'OID': 'FO.CHEST_X-RAY', 'Repeating': 'No', 'label': 'FormDef'}}, {'id': 156, 'properties': {'Name': 'MRI of the brain Form', 'OID': 'FO.MRI', 'Repeating': 'No', 'label': 'FormDef'}}, {'id': 157, 'properties': {'Name': 'CT Scan Form', 'OID': 'FO.CT_SCAN', 'Repeating': 'No', 'label': 'FormDef'}}, {'id': 158, 'properties': {'Name': 'Minimum Age', 'OID': 'COND.MIN_AGE', 'label': 'ConditionDef'}}, {'id': 159, 'properties': {'Context': 'xpath', 'label': 'FormalExpression'}}, {'id': 160, 'properties': {'Name': 'Informed Consent condition', 'OID': 'COND.INFCONSENT', 'label': 'ConditionDef'}}, {'id': 161, 'properties': {'Context': 'xpath', 'label': 'FormalExpression'}}, {'id': 162, 'properties': {'Name': 'Maximum Age', 'OID': 'COND.MAX_AGE', 'label': 'ConditionDef'}}, {'id': 163, 'properties': {'Context': 'xpath', 'label': 'FormalExpression'}}, {'id': 164, 'properties': {'Name': 'Fever condition', 'OID': 'COND.FEVER_OLD', 'label': 'ConditionDef'}}, {'id': 165, 'properties': {'Name': 'Entry condition for treatment epoch', 'OID': 'COND.TREATMENT_EPOCH_ENTRY', 'label': 'ConditionDef'}}, {'id': 166, 'properties': {'Name': 'Exit condition for treatment epoch', 'OID': 'COND.TREATMENT_EPOCH_EXIT', 'label': 'ConditionDef'}}, {'id': 167, 'properties': {'Name': 'Entry condition for ECG activity', 'OID': 'COND.ECG_ACTIVITY_ENTRY', 'label': 'ConditionDef'}}, {'id': 168, 'properties': {'Name': 'Exit condition for ECG activity', 'OID': 'COND.ECG_ACTIVITY_EXIT', 'label': 'ConditionDef'}}, {'id': 169, 'properties': {'Name': \"Condition that subject is having Alzheimer's disease\", 'OID': 'COND.ALZHEIMER_DISEASE', 'label': 'ConditionDef'}}, {'id': 170, 'properties': {'Name': 'Condition that subject has MMSE score of 10 to 23', 'OID': 'COND.MMSE_10-23', 'label': 'ConditionDef'}}, {'id': 171, 'properties': {'Name': 'Condition Hachinski Ischemic Scale score of <= 4', 'OID': 'COND.HACHINSKI', 'label': 'ConditionDef'}}, {'id': 172, 'properties': {'Name': 'Consition CNS imaging (CT scan or MRI of brain) compatible with AD within past 1 year.', 'OID': 'COND.CNS_1_YEAR', 'label': 'ConditionDef'}}, {'id': 173, 'properties': {'Name': 'Condition that subject has fever', 'OID': 'COND.FEVER', 'label': 'ConditionDef'}}, {'id': 174, 'properties': {'Name': 'Condition that subject has high fever (>38.5C / 101.3F)', 'OID': 'COND.HIGH_FEVER', 'label': 'ConditionDef'}}, {'id': 175, 'properties': {'Name': 'Condition that subject suffers an headache', 'OID': 'COND.HEADACHE', 'label': 'ConditionDef'}}]\n",
      "\n",
      "\n",
      "EDGES: [{<built-in function id>: 1, 'start': 3, 'end': 4, 'properties': {'label': ''}}, {<built-in function id>: 2, 'start': 3, 'end': 5, 'properties': {'label': ''}}, {<built-in function id>: 3, 'start': 3, 'end': 6, 'properties': {'label': ''}}, {<built-in function id>: 4, 'start': 2, 'end': 3, 'properties': {'label': ''}}, {<built-in function id>: 5, 'start': 2, 'end': 7, 'properties': {'label': ''}}, {<built-in function id>: 6, 'start': 9, 'end': 10, 'properties': {'label': ''}}, {<built-in function id>: 7, 'start': 9, 'end': 11, 'properties': {'label': ''}}, {<built-in function id>: 8, 'start': 9, 'end': 12, 'properties': {'label': ''}}, {<built-in function id>: 9, 'start': 14, 'end': 15, 'properties': {'label': ''}}, {<built-in function id>: 10, 'start': 14, 'end': 16, 'properties': {'label': ''}}, {<built-in function id>: 11, 'start': 14, 'end': 17, 'properties': {'label': ''}}, {<built-in function id>: 12, 'start': 14, 'end': 18, 'properties': {'label': ''}}, {<built-in function id>: 13, 'start': 14, 'end': 19, 'properties': {'label': ''}}, {<built-in function id>: 14, 'start': 13, 'end': 14, 'properties': {'label': ''}}, {<built-in function id>: 15, 'start': 20, 'end': 21, 'properties': {'label': ''}}, {<built-in function id>: 16, 'start': 13, 'end': 20, 'properties': {'label': ''}}, {<built-in function id>: 17, 'start': 9, 'end': 13, 'properties': {'label': ''}}, {<built-in function id>: 18, 'start': 22, 'end': 23, 'properties': {'label': ''}}, {<built-in function id>: 19, 'start': 22, 'end': 24, 'properties': {'label': ''}}, {<built-in function id>: 20, 'start': 22, 'end': 25, 'properties': {'label': ''}}, {<built-in function id>: 21, 'start': 22, 'end': 26, 'properties': {'label': ''}}, {<built-in function id>: 22, 'start': 22, 'end': 27, 'properties': {'label': ''}}, {<built-in function id>: 23, 'start': 22, 'end': 28, 'properties': {'label': ''}}, {<built-in function id>: 24, 'start': 29, 'end': 30, 'properties': {'label': ''}}, {<built-in function id>: 25, 'start': 29, 'end': 31, 'properties': {'label': ''}}, {<built-in function id>: 26, 'start': 22, 'end': 29, 'properties': {'label': ''}}, {<built-in function id>: 27, 'start': 32, 'end': 33, 'properties': {'label': ''}}, {<built-in function id>: 28, 'start': 32, 'end': 34, 'properties': {'label': ''}}, {<built-in function id>: 29, 'start': 22, 'end': 32, 'properties': {'label': ''}}, {<built-in function id>: 30, 'start': 35, 'end': 36, 'properties': {'label': ''}}, {<built-in function id>: 31, 'start': 35, 'end': 37, 'properties': {'label': ''}}, {<built-in function id>: 32, 'start': 22, 'end': 35, 'properties': {'label': ''}}, {<built-in function id>: 33, 'start': 22, 'end': 38, 'properties': {'label': ''}}, {<built-in function id>: 34, 'start': 22, 'end': 39, 'properties': {'label': ''}}, {<built-in function id>: 35, 'start': 22, 'end': 40, 'properties': {'label': ''}}, {<built-in function id>: 36, 'start': 22, 'end': 41, 'properties': {'label': ''}}, {<built-in function id>: 37, 'start': 22, 'end': 42, 'properties': {'label': ''}}, {<built-in function id>: 38, 'start': 22, 'end': 43, 'properties': {'label': ''}}, {<built-in function id>: 39, 'start': 22, 'end': 44, 'properties': {'label': ''}}, {<built-in function id>: 40, 'start': 22, 'end': 45, 'properties': {'label': ''}}, {<built-in function id>: 41, 'start': 22, 'end': 46, 'properties': {'label': ''}}, {<built-in function id>: 42, 'start': 22, 'end': 47, 'properties': {'label': ''}}, {<built-in function id>: 43, 'start': 22, 'end': 48, 'properties': {'label': ''}}, {<built-in function id>: 44, 'start': 22, 'end': 49, 'properties': {'label': ''}}, {<built-in function id>: 45, 'start': 22, 'end': 50, 'properties': {'label': ''}}, {<built-in function id>: 46, 'start': 22, 'end': 51, 'properties': {'label': ''}}, {<built-in function id>: 47, 'start': 22, 'end': 52, 'properties': {'label': ''}}, {<built-in function id>: 48, 'start': 22, 'end': 53, 'properties': {'label': ''}}, {<built-in function id>: 49, 'start': 22, 'end': 54, 'properties': {'label': ''}}, {<built-in function id>: 50, 'start': 22, 'end': 55, 'properties': {'label': ''}}, {<built-in function id>: 51, 'start': 22, 'end': 56, 'properties': {'label': ''}}, {<built-in function id>: 52, 'start': 22, 'end': 57, 'properties': {'label': ''}}, {<built-in function id>: 53, 'start': 22, 'end': 58, 'properties': {'label': ''}}, {<built-in function id>: 54, 'start': 22, 'end': 59, 'properties': {'label': ''}}, {<built-in function id>: 55, 'start': 22, 'end': 60, 'properties': {'label': ''}}, {<built-in function id>: 56, 'start': 22, 'end': 61, 'properties': {'label': ''}}, {<built-in function id>: 57, 'start': 22, 'end': 62, 'properties': {'label': ''}}, {<built-in function id>: 58, 'start': 22, 'end': 63, 'properties': {'label': ''}}, {<built-in function id>: 59, 'start': 22, 'end': 64, 'properties': {'label': ''}}, {<built-in function id>: 60, 'start': 22, 'end': 65, 'properties': {'label': ''}}, {<built-in function id>: 61, 'start': 22, 'end': 66, 'properties': {'label': ''}}, {<built-in function id>: 62, 'start': 22, 'end': 67, 'properties': {'label': ''}}, {<built-in function id>: 63, 'start': 22, 'end': 68, 'properties': {'label': ''}}, {<built-in function id>: 64, 'start': 22, 'end': 69, 'properties': {'label': ''}}, {<built-in function id>: 65, 'start': 22, 'end': 70, 'properties': {'label': ''}}, {<built-in function id>: 66, 'start': 9, 'end': 22, 'properties': {'label': ''}}, {<built-in function id>: 67, 'start': 71, 'end': 72, 'properties': {'label': ''}}, {<built-in function id>: 68, 'start': 71, 'end': 73, 'properties': {'label': ''}}, {<built-in function id>: 69, 'start': 75, 'end': 76, 'properties': {'label': ''}}, {<built-in function id>: 70, 'start': 75, 'end': 77, 'properties': {'label': ''}}, {<built-in function id>: 71, 'start': 74, 'end': 75, 'properties': {'label': ''}}, {<built-in function id>: 72, 'start': 78, 'end': 79, 'properties': {'label': ''}}, {<built-in function id>: 73, 'start': 74, 'end': 78, 'properties': {'label': ''}}, {<built-in function id>: 74, 'start': 71, 'end': 74, 'properties': {'label': ''}}, {<built-in function id>: 75, 'start': 81, 'end': 82, 'properties': {'label': ''}}, {<built-in function id>: 76, 'start': 80, 'end': 81, 'properties': {'label': ''}}, {<built-in function id>: 77, 'start': 83, 'end': 84, 'properties': {'label': ''}}, {<built-in function id>: 78, 'start': 80, 'end': 83, 'properties': {'label': ''}}, {<built-in function id>: 79, 'start': 71, 'end': 80, 'properties': {'label': ''}}, {<built-in function id>: 80, 'start': 86, 'end': 87, 'properties': {'label': ''}}, {<built-in function id>: 81, 'start': 85, 'end': 86, 'properties': {'label': ''}}, {<built-in function id>: 82, 'start': 71, 'end': 85, 'properties': {'label': ''}}, {<built-in function id>: 83, 'start': 89, 'end': 90, 'properties': {'label': ''}}, {<built-in function id>: 84, 'start': 89, 'end': 91, 'properties': {'label': ''}}, {<built-in function id>: 85, 'start': 88, 'end': 89, 'properties': {'label': ''}}, {<built-in function id>: 86, 'start': 71, 'end': 88, 'properties': {'label': ''}}, {<built-in function id>: 87, 'start': 93, 'end': 94, 'properties': {'label': ''}}, {<built-in function id>: 88, 'start': 92, 'end': 93, 'properties': {'label': ''}}, {<built-in function id>: 89, 'start': 71, 'end': 92, 'properties': {'label': ''}}, {<built-in function id>: 90, 'start': 96, 'end': 97, 'properties': {'label': ''}}, {<built-in function id>: 91, 'start': 95, 'end': 96, 'properties': {'label': ''}}, {<built-in function id>: 92, 'start': 71, 'end': 95, 'properties': {'label': ''}}, {<built-in function id>: 93, 'start': 99, 'end': 100, 'properties': {'label': ''}}, {<built-in function id>: 94, 'start': 99, 'end': 101, 'properties': {'label': ''}}, {<built-in function id>: 95, 'start': 98, 'end': 99, 'properties': {'label': ''}}, {<built-in function id>: 96, 'start': 71, 'end': 98, 'properties': {'label': ''}}, {<built-in function id>: 97, 'start': 103, 'end': 104, 'properties': {'label': ''}}, {<built-in function id>: 98, 'start': 103, 'end': 105, 'properties': {'label': ''}}, {<built-in function id>: 99, 'start': 102, 'end': 103, 'properties': {'label': ''}}, {<built-in function id>: 100, 'start': 71, 'end': 102, 'properties': {'label': ''}}, {<built-in function id>: 101, 'start': 107, 'end': 108, 'properties': {'label': ''}}, {<built-in function id>: 102, 'start': 106, 'end': 107, 'properties': {'label': ''}}, {<built-in function id>: 103, 'start': 71, 'end': 106, 'properties': {'label': ''}}, {<built-in function id>: 104, 'start': 110, 'end': 111, 'properties': {'label': ''}}, {<built-in function id>: 105, 'start': 109, 'end': 110, 'properties': {'label': ''}}, {<built-in function id>: 106, 'start': 71, 'end': 109, 'properties': {'label': ''}}, {<built-in function id>: 107, 'start': 113, 'end': 114, 'properties': {'label': ''}}, {<built-in function id>: 108, 'start': 113, 'end': 115, 'properties': {'label': ''}}, {<built-in function id>: 109, 'start': 112, 'end': 113, 'properties': {'label': ''}}, {<built-in function id>: 110, 'start': 71, 'end': 112, 'properties': {'label': ''}}, {<built-in function id>: 111, 'start': 117, 'end': 118, 'properties': {'label': ''}}, {<built-in function id>: 112, 'start': 116, 'end': 117, 'properties': {'label': ''}}, {<built-in function id>: 113, 'start': 71, 'end': 116, 'properties': {'label': ''}}, {<built-in function id>: 114, 'start': 9, 'end': 71, 'properties': {'label': ''}}, {<built-in function id>: 115, 'start': 119, 'end': 120, 'properties': {'label': ''}}, {<built-in function id>: 116, 'start': 119, 'end': 121, 'properties': {'label': ''}}, {<built-in function id>: 117, 'start': 119, 'end': 122, 'properties': {'label': ''}}, {<built-in function id>: 118, 'start': 119, 'end': 123, 'properties': {'label': ''}}, {<built-in function id>: 119, 'start': 119, 'end': 124, 'properties': {'label': ''}}, {<built-in function id>: 120, 'start': 119, 'end': 125, 'properties': {'label': ''}}, {<built-in function id>: 121, 'start': 119, 'end': 126, 'properties': {'label': ''}}, {<built-in function id>: 122, 'start': 119, 'end': 127, 'properties': {'label': ''}}, {<built-in function id>: 123, 'start': 119, 'end': 128, 'properties': {'label': ''}}, {<built-in function id>: 124, 'start': 119, 'end': 129, 'properties': {'label': ''}}, {<built-in function id>: 125, 'start': 119, 'end': 130, 'properties': {'label': ''}}, {<built-in function id>: 126, 'start': 119, 'end': 131, 'properties': {'label': ''}}, {<built-in function id>: 127, 'start': 119, 'end': 132, 'properties': {'label': ''}}, {<built-in function id>: 128, 'start': 119, 'end': 133, 'properties': {'label': ''}}, {<built-in function id>: 129, 'start': 9, 'end': 119, 'properties': {'label': ''}}, {<built-in function id>: 130, 'start': 8, 'end': 9, 'properties': {'label': ''}}, {<built-in function id>: 131, 'start': 8, 'end': 134, 'properties': {'label': ''}}, {<built-in function id>: 132, 'start': 8, 'end': 135, 'properties': {'label': ''}}, {<built-in function id>: 133, 'start': 8, 'end': 136, 'properties': {'label': ''}}, {<built-in function id>: 134, 'start': 8, 'end': 137, 'properties': {'label': ''}}, {<built-in function id>: 135, 'start': 8, 'end': 138, 'properties': {'label': ''}}, {<built-in function id>: 136, 'start': 8, 'end': 139, 'properties': {'label': ''}}, {<built-in function id>: 137, 'start': 8, 'end': 140, 'properties': {'label': ''}}, {<built-in function id>: 138, 'start': 8, 'end': 141, 'properties': {'label': ''}}, {<built-in function id>: 139, 'start': 8, 'end': 142, 'properties': {'label': ''}}, {<built-in function id>: 140, 'start': 8, 'end': 143, 'properties': {'label': ''}}, {<built-in function id>: 141, 'start': 8, 'end': 144, 'properties': {'label': ''}}, {<built-in function id>: 142, 'start': 8, 'end': 145, 'properties': {'label': ''}}, {<built-in function id>: 143, 'start': 8, 'end': 146, 'properties': {'label': ''}}, {<built-in function id>: 144, 'start': 8, 'end': 147, 'properties': {'label': ''}}, {<built-in function id>: 145, 'start': 8, 'end': 148, 'properties': {'label': ''}}, {<built-in function id>: 146, 'start': 8, 'end': 149, 'properties': {'label': ''}}, {<built-in function id>: 147, 'start': 8, 'end': 150, 'properties': {'label': ''}}, {<built-in function id>: 148, 'start': 8, 'end': 151, 'properties': {'label': ''}}, {<built-in function id>: 149, 'start': 8, 'end': 152, 'properties': {'label': ''}}, {<built-in function id>: 150, 'start': 8, 'end': 153, 'properties': {'label': ''}}, {<built-in function id>: 151, 'start': 8, 'end': 154, 'properties': {'label': ''}}, {<built-in function id>: 152, 'start': 8, 'end': 155, 'properties': {'label': ''}}, {<built-in function id>: 153, 'start': 8, 'end': 156, 'properties': {'label': ''}}, {<built-in function id>: 154, 'start': 8, 'end': 157, 'properties': {'label': ''}}, {<built-in function id>: 155, 'start': 158, 'end': 159, 'properties': {'label': ''}}, {<built-in function id>: 156, 'start': 8, 'end': 158, 'properties': {'label': ''}}, {<built-in function id>: 157, 'start': 160, 'end': 161, 'properties': {'label': ''}}, {<built-in function id>: 158, 'start': 8, 'end': 160, 'properties': {'label': ''}}, {<built-in function id>: 159, 'start': 162, 'end': 163, 'properties': {'label': ''}}, {<built-in function id>: 160, 'start': 8, 'end': 162, 'properties': {'label': ''}}, {<built-in function id>: 161, 'start': 8, 'end': 164, 'properties': {'label': ''}}, {<built-in function id>: 162, 'start': 8, 'end': 165, 'properties': {'label': ''}}, {<built-in function id>: 163, 'start': 8, 'end': 166, 'properties': {'label': ''}}, {<built-in function id>: 164, 'start': 8, 'end': 167, 'properties': {'label': ''}}, {<built-in function id>: 165, 'start': 8, 'end': 168, 'properties': {'label': ''}}, {<built-in function id>: 166, 'start': 8, 'end': 169, 'properties': {'label': ''}}, {<built-in function id>: 167, 'start': 8, 'end': 170, 'properties': {'label': ''}}, {<built-in function id>: 168, 'start': 8, 'end': 171, 'properties': {'label': ''}}, {<built-in function id>: 169, 'start': 8, 'end': 172, 'properties': {'label': ''}}, {<built-in function id>: 170, 'start': 8, 'end': 173, 'properties': {'label': ''}}, {<built-in function id>: 171, 'start': 8, 'end': 174, 'properties': {'label': ''}}, {<built-in function id>: 172, 'start': 8, 'end': 175, 'properties': {'label': ''}}, {<built-in function id>: 173, 'start': 2, 'end': 8, 'properties': {'label': ''}}, {<built-in function id>: 174, 'start': 1, 'end': 2, 'properties': {'label': ''}}, {<built-in function id>: 175, 'start': 30, 'end': 26, 'properties': {'label': 'ArmRef'}}, {<built-in function id>: 176, 'start': 30, 'end': 27, 'properties': {'label': 'ArmRef'}}, {<built-in function id>: 177, 'start': 30, 'end': 28, 'properties': {'label': 'ArmRef'}}, {<built-in function id>: 178, 'start': 33, 'end': 26, 'properties': {'label': 'ArmRef'}}, {<built-in function id>: 179, 'start': 33, 'end': 27, 'properties': {'label': 'ArmRef'}}, {<built-in function id>: 180, 'start': 33, 'end': 28, 'properties': {'label': 'ArmRef'}}, {<built-in function id>: 181, 'start': 36, 'end': 26, 'properties': {'label': 'ArmRef'}}, {<built-in function id>: 182, 'start': 36, 'end': 27, 'properties': {'label': 'ArmRef'}}, {<built-in function id>: 183, 'start': 36, 'end': 28, 'properties': {'label': 'ArmRef'}}, {<built-in function id>: 184, 'start': 38, 'end': 42, 'properties': {'label': 'ActivityRef'}}, {<built-in function id>: 185, 'start': 38, 'end': 43, 'properties': {'label': 'ActivityRef'}}, {<built-in function id>: 186, 'start': 38, 'end': 47, 'properties': {'label': 'ActivityRef'}}, {<built-in function id>: 187, 'start': 38, 'end': 48, 'properties': {'label': 'ActivityRef'}}, {<built-in function id>: 188, 'start': 38, 'end': 49, 'properties': {'label': 'ActivityRef'}}, {<built-in function id>: 189, 'start': 38, 'end': 50, 'properties': {'label': 'ActivityRef'}}, {<built-in function id>: 190, 'start': 38, 'end': 52, 'properties': {'label': 'ActivityRef'}}, {<built-in function id>: 191, 'start': 38, 'end': 51, 'properties': {'label': 'ActivityRef'}}, {<built-in function id>: 192, 'start': 38, 'end': 46, 'properties': {'label': 'ActivityRef'}}, {<built-in function id>: 193, 'start': 41, 'end': 150, 'properties': {'label': 'FormRef'}}, {<built-in function id>: 194, 'start': 42, 'end': 149, 'properties': {'label': 'FormRef'}}, {<built-in function id>: 195, 'start': 44, 'end': 152, 'properties': {'label': 'FormRef'}}, {<built-in function id>: 196, 'start': 45, 'end': 151, 'properties': {'label': 'FormRef'}}, {<built-in function id>: 197, 'start': 46, 'end': 153, 'properties': {'label': 'FormRef'}}, {<built-in function id>: 198, 'start': 47, 'end': 154, 'properties': {'label': 'FormRef'}}, {<built-in function id>: 199, 'start': 48, 'end': 148, 'properties': {'label': 'FormRef'}}, {<built-in function id>: 200, 'start': 56, 'end': 147, 'properties': {'label': 'FormRef'}}, {<built-in function id>: 201, 'start': 57, 'end': 155, 'properties': {'label': 'FormRef'}}, {<built-in function id>: 202, 'start': 58, 'end': 156, 'properties': {'label': 'FormRef'}}, {<built-in function id>: 203, 'start': 59, 'end': 157, 'properties': {'label': 'FormRef'}}, {<built-in function id>: 204, 'start': 72, 'end': 41, 'properties': {'label': 'ActivityRef'}}, {<built-in function id>: 205, 'start': 73, 'end': 53, 'properties': {'label': 'ActivityRef'}}, {<built-in function id>: 206, 'start': 85, 'end': 41, 'properties': {'label': 'source'}}, {<built-in function id>: 207, 'start': 88, 'end': 42, 'properties': {'label': 'source'}}, {<built-in function id>: 208, 'start': 92, 'end': 43, 'properties': {'label': 'source'}}, {<built-in function id>: 209, 'start': 95, 'end': 44, 'properties': {'label': 'source'}}, {<built-in function id>: 210, 'start': 98, 'end': 45, 'properties': {'label': 'source'}}, {<built-in function id>: 211, 'start': 102, 'end': 46, 'properties': {'label': 'source'}}, {<built-in function id>: 212, 'start': 106, 'end': 47, 'properties': {'label': 'source'}}, {<built-in function id>: 213, 'start': 109, 'end': 55, 'properties': {'label': 'source'}}, {<built-in function id>: 214, 'start': 134, 'end': 41, 'properties': {'label': 'ActivityRef'}}, {<built-in function id>: 215, 'start': 134, 'end': 42, 'properties': {'label': 'ActivityRef'}}, {<built-in function id>: 216, 'start': 134, 'end': 43, 'properties': {'label': 'ActivityRef'}}, {<built-in function id>: 217, 'start': 134, 'end': 44, 'properties': {'label': 'ActivityRef'}}, {<built-in function id>: 218, 'start': 134, 'end': 45, 'properties': {'label': 'ActivityRef'}}, {<built-in function id>: 219, 'start': 134, 'end': 46, 'properties': {'label': 'ActivityRef'}}, {<built-in function id>: 220, 'start': 134, 'end': 47, 'properties': {'label': 'ActivityRef'}}, {<built-in function id>: 221, 'start': 134, 'end': 48, 'properties': {'label': 'ActivityRef'}}, {<built-in function id>: 222, 'start': 135, 'end': 49, 'properties': {'label': 'ActivityRef'}}, {<built-in function id>: 223, 'start': 136, 'end': 50, 'properties': {'label': 'ActivityRef'}}, {<built-in function id>: 224, 'start': 136, 'end': 51, 'properties': {'label': 'ActivityRef'}}, {<built-in function id>: 225, 'start': 136, 'end': 52, 'properties': {'label': 'ActivityRef'}}, {<built-in function id>: 226, 'start': 137, 'end': 148, 'properties': {'label': 'FormRef'}}, {<built-in function id>: 227, 'start': 137, 'end': 60, 'properties': {'label': 'ActivityRef'}}, {<built-in function id>: 228, 'start': 138, 'end': 148, 'properties': {'label': 'FormRef'}}, {<built-in function id>: 229, 'start': 139, 'end': 148, 'properties': {'label': 'FormRef'}}, {<built-in function id>: 230, 'start': 140, 'end': 148, 'properties': {'label': 'FormRef'}}, {<built-in function id>: 231, 'start': 140, 'end': 147, 'properties': {'label': 'FormRef'}}, {<built-in function id>: 232, 'start': 141, 'end': 148, 'properties': {'label': 'FormRef'}}, {<built-in function id>: 233, 'start': 141, 'end': 147, 'properties': {'label': 'FormRef'}}, {<built-in function id>: 234, 'start': 142, 'end': 148, 'properties': {'label': 'FormRef'}}, {<built-in function id>: 235, 'start': 143, 'end': 148, 'properties': {'label': 'FormRef'}}, {<built-in function id>: 236, 'start': 143, 'end': 147, 'properties': {'label': 'FormRef'}}, {<built-in function id>: 237, 'start': 144, 'end': 148, 'properties': {'label': 'FormRef'}}, {<built-in function id>: 238, 'start': 144, 'end': 147, 'properties': {'label': 'FormRef'}}, {<built-in function id>: 239, 'start': 145, 'end': 148, 'properties': {'label': 'FormRef'}}, {<built-in function id>: 240, 'start': 145, 'end': 147, 'properties': {'label': 'FormRef'}}, {<built-in function id>: 241, 'start': 146, 'end': 148, 'properties': {'label': 'FormRef'}}, {<built-in function id>: 242, 'start': 146, 'end': 147, 'properties': {'label': 'FormRef'}}]\n",
      "\n",
      "\n",
      "OID_MAP: {'ARM.PLACEBO': 26, 'ARM.LOWDOSE': 27, 'ARM.HIGHDOSE': 28, 'ACT.TRIALSTART': 41, 'ACT.INFORMEDCONSENT': 42, 'ACT.PATIENTNUMBERASSIGNMENT': 43, 'ACT.DEMOGR_EDU_HABITS': 44, 'ACT.MMS': 45, 'ACT.HACHINSKI': 46, 'ACT.MEDICALHISTORY_01': 47, 'ACT.VITALSIGNS_01': 48, 'ACT.AMB_ECG_PLACEMENT_01': 49, 'ACT.AMB_ECG_REMOVAL_01': 50, 'ACT.PATIENTRANDOMIZATION': 51, 'ACT.VITALSIGNS_02': 52, 'ACT.TRIALFINISH': 53, 'ACT.ASSESS_FEVER': 54, 'ACT.ASSESS_HIGH_FEVER': 55, 'ACT.ECG_01': 56, 'ACT.CHEST_X-RAY': 57, 'ACT.MRI': 58, 'ACT.CT_SCAN': 59, 'ACT.TRT_VISIT_01_START': 60, 'ACT.TRT_VISIT_02_START': 61, 'ACT.TRT_VISIT_03_START': 62, 'ACT.TRT_VISIT_04_START': 63, 'ACT.TRT_VISIT_05_START': 64, 'ACT.TRT_VISIT_06_START': 65, 'ACT.TRT_VISIT_07_START': 66, 'ACT.TRT_VISIT_08_START': 67, 'ACT.TRT_VISIT_09_START': 68, 'ACT.TRT_VISIT_10_START': 69, 'ACT.ASSESS_HEADACHE': 70, 'FO.ECG': 147, 'FO.VS': 148, 'FO.INFORMEDCONSENT': 149, 'FO.INCLUSIONEXCLUSION': 150, 'FO.MMS': 151, 'FO.DEMOGR_EDUC_HABITS': 152, 'FO.HACHINSKI': 153, 'FO.MEDICALHISTORY': 154, 'FO.CHEST_X-RAY': 155, 'FO.MRI': 156, 'FO.CT_SCAN': 157}\n",
      "\n",
      "\n",
      "SAVE_EDGES: [{'start': 30, 'end_oid': 'ARM.PLACEBO', 'label': 'ArmRef'}, {'start': 30, 'end_oid': 'ARM.LOWDOSE', 'label': 'ArmRef'}, {'start': 30, 'end_oid': 'ARM.HIGHDOSE', 'label': 'ArmRef'}, {'start': 33, 'end_oid': 'ARM.PLACEBO', 'label': 'ArmRef'}, {'start': 33, 'end_oid': 'ARM.LOWDOSE', 'label': 'ArmRef'}, {'start': 33, 'end_oid': 'ARM.HIGHDOSE', 'label': 'ArmRef'}, {'start': 36, 'end_oid': 'ARM.PLACEBO', 'label': 'ArmRef'}, {'start': 36, 'end_oid': 'ARM.LOWDOSE', 'label': 'ArmRef'}, {'start': 36, 'end_oid': 'ARM.HIGHDOSE', 'label': 'ArmRef'}, {'start': 38, 'end_oid': 'ACT.INFORMEDCONSENT', 'label': 'ActivityRef'}, {'start': 38, 'end_oid': 'ACT.PATIENTNUMBERASSIGNMENT', 'label': 'ActivityRef'}, {'start': 38, 'end_oid': 'ACT.MEDICALHISTORY_01', 'label': 'ActivityRef'}, {'start': 38, 'end_oid': 'ACT.VITALSIGNS_01', 'label': 'ActivityRef'}, {'start': 38, 'end_oid': 'ACT.AMB_ECG_PLACEMENT_01', 'label': 'ActivityRef'}, {'start': 38, 'end_oid': 'ACT.AMB_ECG_REMOVAL_01', 'label': 'ActivityRef'}, {'start': 38, 'end_oid': 'ACT.VITALSIGNS_02', 'label': 'ActivityRef'}, {'start': 38, 'end_oid': 'ACT.PATIENTRANDOMIZATION', 'label': 'ActivityRef'}, {'start': 38, 'end_oid': 'ACT.HACHINSKI', 'label': 'ActivityRef'}, {'start': 41, 'end_oid': 'FO.INCLUSIONEXCLUSION', 'label': 'FormRef'}, {'start': 42, 'end_oid': 'FO.INFORMEDCONSENT', 'label': 'FormRef'}, {'start': 44, 'end_oid': 'FO.DEMOGR_EDUC_HABITS', 'label': 'FormRef'}, {'start': 45, 'end_oid': 'FO.MMS', 'label': 'FormRef'}, {'start': 46, 'end_oid': 'FO.HACHINSKI', 'label': 'FormRef'}, {'start': 47, 'end_oid': 'FO.MEDICALHISTORY', 'label': 'FormRef'}, {'start': 48, 'end_oid': 'FO.VS', 'label': 'FormRef'}, {'start': 56, 'end_oid': 'FO.ECG', 'label': 'FormRef'}, {'start': 57, 'end_oid': 'FO.CHEST_X-RAY', 'label': 'FormRef'}, {'start': 58, 'end_oid': 'FO.MRI', 'label': 'FormRef'}, {'start': 59, 'end_oid': 'FO.CT_SCAN', 'label': 'FormRef'}, {'start': 72, 'end_oid': 'ACT.TRIALSTART', 'label': 'ActivityRef'}, {'start': 73, 'end_oid': 'ACT.TRIALFINISH', 'label': 'ActivityRef'}, {'start': 85, 'end_oid': 'ACT.TRIALSTART', 'label': 'source'}, {'start': 88, 'end_oid': 'ACT.INFORMEDCONSENT', 'label': 'source'}, {'start': 92, 'end_oid': 'ACT.PATIENTNUMBERASSIGNMENT', 'label': 'source'}, {'start': 95, 'end_oid': 'ACT.DEMOGR_EDU_HABITS', 'label': 'source'}, {'start': 98, 'end_oid': 'ACT.MMS', 'label': 'source'}, {'start': 102, 'end_oid': 'ACT.HACHINSKI', 'label': 'source'}, {'start': 106, 'end_oid': 'ACT.MEDICALHISTORY_01', 'label': 'source'}, {'start': 109, 'end_oid': 'ACT.ASSESS_HIGH_FEVER', 'label': 'source'}, {'start': 134, 'end_oid': 'ACT.TRIALSTART', 'label': 'ActivityRef'}, {'start': 134, 'end_oid': 'ACT.INFORMEDCONSENT', 'label': 'ActivityRef'}, {'start': 134, 'end_oid': 'ACT.PATIENTNUMBERASSIGNMENT', 'label': 'ActivityRef'}, {'start': 134, 'end_oid': 'ACT.DEMOGR_EDU_HABITS', 'label': 'ActivityRef'}, {'start': 134, 'end_oid': 'ACT.MMS', 'label': 'ActivityRef'}, {'start': 134, 'end_oid': 'ACT.HACHINSKI', 'label': 'ActivityRef'}, {'start': 134, 'end_oid': 'ACT.MEDICALHISTORY_01', 'label': 'ActivityRef'}, {'start': 134, 'end_oid': 'ACT.VITALSIGNS_01', 'label': 'ActivityRef'}, {'start': 135, 'end_oid': 'ACT.AMB_ECG_PLACEMENT_01', 'label': 'ActivityRef'}, {'start': 136, 'end_oid': 'ACT.AMB_ECG_REMOVAL_01', 'label': 'ActivityRef'}, {'start': 136, 'end_oid': 'ACT.PATIENTRANDOMIZATION', 'label': 'ActivityRef'}, {'start': 136, 'end_oid': 'ACT.VITALSIGNS_02', 'label': 'ActivityRef'}, {'start': 137, 'end_oid': 'FO.VS', 'label': 'FormRef'}, {'start': 137, 'end_oid': 'ACT.TRT_VISIT_01_START', 'label': 'ActivityRef'}, {'start': 138, 'end_oid': 'FO.VS', 'label': 'FormRef'}, {'start': 139, 'end_oid': 'FO.VS', 'label': 'FormRef'}, {'start': 140, 'end_oid': 'FO.VS', 'label': 'FormRef'}, {'start': 140, 'end_oid': 'FO.ECG', 'label': 'FormRef'}, {'start': 141, 'end_oid': 'FO.VS', 'label': 'FormRef'}, {'start': 141, 'end_oid': 'FO.ECG', 'label': 'FormRef'}, {'start': 142, 'end_oid': 'FO.VS', 'label': 'FormRef'}, {'start': 143, 'end_oid': 'FO.VS', 'label': 'FormRef'}, {'start': 143, 'end_oid': 'FO.ECG', 'label': 'FormRef'}, {'start': 144, 'end_oid': 'FO.VS', 'label': 'FormRef'}, {'start': 144, 'end_oid': 'FO.ECG', 'label': 'FormRef'}, {'start': 145, 'end_oid': 'FO.VS', 'label': 'FormRef'}, {'start': 145, 'end_oid': 'FO.ECG', 'label': 'FormRef'}, {'start': 146, 'end_oid': 'FO.VS', 'label': 'FormRef'}, {'start': 146, 'end_oid': 'FO.ECG', 'label': 'FormRef'}]\n"
     ]
    }
   ],
   "source": [
    "notebook_path = os.path.abspath(\"notebook.ipynb\")\n",
    "file_path = os.path.join(os.path.dirname(notebook_path), \"source_data/lzzt_trial.xml\")\n",
    "tree = ET.parse(file_path)\n",
    "\n",
    "root = tree.getroot()\n",
    "\n",
    "for item in root.findall('.'):\n",
    "  process_element(item)\n",
    "\n",
    "for edge in save_edges:\n",
    "  oid = edge['end_oid']\n",
    "  if oid in node_oid_map:\n",
    "    add_edge(edge['label'], edge['start'], node_oid_map[oid])\n",
    "  else:\n",
    "    print(\"Error: Cannot find oid %s for label %s\" % (oid, edge['label']))\n",
    "    \n",
    "print(\"NODES:\", nodes)\n",
    "print(\"\")\n",
    "print(\"\")\n",
    "print(\"EDGES:\", edges)\n",
    "print(\"\")\n",
    "print(\"\")\n",
    "print(\"OID_MAP:\", node_oid_map)\n",
    "print(\"\")\n",
    "print(\"\")\n",
    "print(\"SAVE_EDGES:\", save_edges)\n"
   ]
  },
  {
   "cell_type": "code",
   "execution_count": 289,
   "metadata": {},
   "outputs": [],
   "source": [
    "def custom_node_color(index: int, node: dict):\n",
    "  if 'node_type' in node['properties']:\n",
    "    if node['properties']['node_type'] == 'root':\n",
    "      return 'black'\n",
    "    elif node['properties']['node_type'] == 'anchor':\n",
    "      return '#999999'\n",
    "    elif node['properties']['node_type'] == 'condition':\n",
    "      return '#999999'\n",
    "    elif node['properties']['node_type'] == 'timepoint':\n",
    "      return '#555555'\n",
    "    elif node['properties']['node_type'] == 'visit':\n",
    "      return '#c1141a'\n",
    "    elif node['properties']['node_type'] == 'activity':\n",
    "      return '#1555bd'\n",
    "    elif node['properties']['node_type'] == 'bc':\n",
    "      return '#c0d6e4'\n",
    "    else:\n",
    "      return 'white'\n",
    "  else: \n",
    "    return 'white'\n",
    "\n",
    "def custom_node_style(index: int, node: dict):\n",
    "  if 'node_type' in node['properties']:\n",
    "    if node['properties']['node_type'] == 'root':\n",
    "      return { 'shape': 'round-rectangle' }\n",
    "    elif node['properties']['node_type'] == 'anchor':\n",
    "      return { 'shape': 'hexagon2' }\n",
    "    elif node['properties']['node_type'] == 'condition':\n",
    "      return { 'shape': 'diamond' }\n",
    "    elif node['properties']['node_type'] == 'timepoint':\n",
    "      return { 'shape': 'ellipse' }\n",
    "    elif node['properties']['node_type'] == 'visit':\n",
    "      return { 'shape': 'circle' }\n",
    "    elif node['properties']['node_type'] == 'activity':\n",
    "      return { 'shape': 'circle' }\n",
    "    elif node['properties']['node_type'] == 'bc':\n",
    "      return { 'shape': 'circle' }\n",
    "    else:\n",
    "      return { 'shape': 'circle' }\n",
    "  else: \n",
    "    return { 'shape': 'circle' }\n"
   ]
  },
  {
   "cell_type": "code",
   "execution_count": 290,
   "metadata": {},
   "outputs": [
    {
     "data": {
      "application/vnd.jupyter.widget-view+json": {
       "model_id": "e80ce9da5d1240cf9e88fab56b5e1933",
       "version_major": 2,
       "version_minor": 0
      },
      "text/plain": [
       "GraphWidget(layout=Layout(height='500px', width='100%'))"
      ]
     },
     "metadata": {},
     "output_type": "display_data"
    }
   ],
   "source": [
    "w = GraphWidget()\n",
    "w.set_directed(True)\n",
    "w.hierarchic_layout()\n",
    "\n",
    "w.set_nodes(nodes)\n",
    "w.set_edges(edges)\n",
    "\n",
    "w.set_node_color_mapping(custom_node_color)\n",
    "w.set_node_styles_mapping(custom_node_style)\n",
    "w"
   ]
  }
 ],
 "metadata": {
  "kernelspec": {
   "display_name": "Python 3",
   "language": "python",
   "name": "python3"
  },
  "language_info": {
   "codemirror_mode": {
    "name": "ipython",
    "version": 3
   },
   "file_extension": ".py",
   "mimetype": "text/x-python",
   "name": "python",
   "nbconvert_exporter": "python",
   "pygments_lexer": "ipython3",
   "version": "3.10.1"
  },
  "orig_nbformat": 4,
  "vscode": {
   "interpreter": {
    "hash": "aee8b7b246df8f9039afb4144a1f6fd8d2ca17a180786b69acc140d282b71a49"
   }
  }
 },
 "nbformat": 4,
 "nbformat_minor": 2
}
