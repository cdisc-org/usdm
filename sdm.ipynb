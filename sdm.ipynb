{
 "cells": [
  {
   "cell_type": "code",
   "execution_count": 186,
   "metadata": {},
   "outputs": [
    {
     "name": "stdout",
     "output_type": "stream",
     "text": [
      "Requirement already satisfied: yfiles_jupyter_graphs in /Library/Frameworks/Python.framework/Versions/3.10/lib/python3.10/site-packages (1.4.3)\n",
      "Requirement already satisfied: ipywidgets>=7.6.0 in /Users/daveih/Library/Python/3.10/lib/python/site-packages (from yfiles_jupyter_graphs) (8.0.4)\n",
      "Requirement already satisfied: widgetsnbextension~=4.0 in /Users/daveih/Library/Python/3.10/lib/python/site-packages (from ipywidgets>=7.6.0->yfiles_jupyter_graphs) (4.0.5)\n",
      "Requirement already satisfied: ipython>=6.1.0 in /Users/daveih/Library/Python/3.10/lib/python/site-packages (from ipywidgets>=7.6.0->yfiles_jupyter_graphs) (8.8.0)\n",
      "Requirement already satisfied: ipykernel>=4.5.1 in /Users/daveih/Library/Python/3.10/lib/python/site-packages (from ipywidgets>=7.6.0->yfiles_jupyter_graphs) (6.20.1)\n",
      "Requirement already satisfied: traitlets>=4.3.1 in /Users/daveih/Library/Python/3.10/lib/python/site-packages (from ipywidgets>=7.6.0->yfiles_jupyter_graphs) (5.8.1)\n",
      "Requirement already satisfied: jupyterlab-widgets~=3.0 in /Users/daveih/Library/Python/3.10/lib/python/site-packages (from ipywidgets>=7.6.0->yfiles_jupyter_graphs) (3.0.5)\n",
      "Requirement already satisfied: pyzmq>=17 in /Users/daveih/Library/Python/3.10/lib/python/site-packages (from ipykernel>=4.5.1->ipywidgets>=7.6.0->yfiles_jupyter_graphs) (25.0.0)\n",
      "Requirement already satisfied: nest-asyncio in /Users/daveih/Library/Python/3.10/lib/python/site-packages (from ipykernel>=4.5.1->ipywidgets>=7.6.0->yfiles_jupyter_graphs) (1.5.6)\n",
      "Requirement already satisfied: matplotlib-inline>=0.1 in /Users/daveih/Library/Python/3.10/lib/python/site-packages (from ipykernel>=4.5.1->ipywidgets>=7.6.0->yfiles_jupyter_graphs) (0.1.6)\n",
      "Requirement already satisfied: packaging in /Library/Frameworks/Python.framework/Versions/3.10/lib/python3.10/site-packages (from ipykernel>=4.5.1->ipywidgets>=7.6.0->yfiles_jupyter_graphs) (21.3)\n",
      "Requirement already satisfied: debugpy>=1.0 in /Users/daveih/Library/Python/3.10/lib/python/site-packages (from ipykernel>=4.5.1->ipywidgets>=7.6.0->yfiles_jupyter_graphs) (1.6.5)\n",
      "Requirement already satisfied: jupyter-client>=6.1.12 in /Users/daveih/Library/Python/3.10/lib/python/site-packages (from ipykernel>=4.5.1->ipywidgets>=7.6.0->yfiles_jupyter_graphs) (7.4.8)\n",
      "Requirement already satisfied: psutil in /Users/daveih/Library/Python/3.10/lib/python/site-packages (from ipykernel>=4.5.1->ipywidgets>=7.6.0->yfiles_jupyter_graphs) (5.9.4)\n",
      "Requirement already satisfied: comm>=0.1.1 in /Users/daveih/Library/Python/3.10/lib/python/site-packages (from ipykernel>=4.5.1->ipywidgets>=7.6.0->yfiles_jupyter_graphs) (0.1.2)\n",
      "Requirement already satisfied: appnope in /Users/daveih/Library/Python/3.10/lib/python/site-packages (from ipykernel>=4.5.1->ipywidgets>=7.6.0->yfiles_jupyter_graphs) (0.1.3)\n",
      "Requirement already satisfied: tornado>=6.1 in /Users/daveih/Library/Python/3.10/lib/python/site-packages (from ipykernel>=4.5.1->ipywidgets>=7.6.0->yfiles_jupyter_graphs) (6.2)\n",
      "Requirement already satisfied: decorator in /Users/daveih/Library/Python/3.10/lib/python/site-packages (from ipython>=6.1.0->ipywidgets>=7.6.0->yfiles_jupyter_graphs) (5.1.1)\n",
      "Requirement already satisfied: backcall in /Users/daveih/Library/Python/3.10/lib/python/site-packages (from ipython>=6.1.0->ipywidgets>=7.6.0->yfiles_jupyter_graphs) (0.2.0)\n",
      "Requirement already satisfied: pexpect>4.3 in /Users/daveih/Library/Python/3.10/lib/python/site-packages (from ipython>=6.1.0->ipywidgets>=7.6.0->yfiles_jupyter_graphs) (4.8.0)\n",
      "Requirement already satisfied: prompt-toolkit<3.1.0,>=3.0.11 in /Users/daveih/Library/Python/3.10/lib/python/site-packages (from ipython>=6.1.0->ipywidgets>=7.6.0->yfiles_jupyter_graphs) (3.0.36)\n",
      "Requirement already satisfied: stack-data in /Users/daveih/Library/Python/3.10/lib/python/site-packages (from ipython>=6.1.0->ipywidgets>=7.6.0->yfiles_jupyter_graphs) (0.6.2)\n",
      "Requirement already satisfied: jedi>=0.16 in /Users/daveih/Library/Python/3.10/lib/python/site-packages (from ipython>=6.1.0->ipywidgets>=7.6.0->yfiles_jupyter_graphs) (0.18.2)\n",
      "Requirement already satisfied: pygments>=2.4.0 in /Library/Frameworks/Python.framework/Versions/3.10/lib/python3.10/site-packages (from ipython>=6.1.0->ipywidgets>=7.6.0->yfiles_jupyter_graphs) (2.13.0)\n",
      "Requirement already satisfied: pickleshare in /Users/daveih/Library/Python/3.10/lib/python/site-packages (from ipython>=6.1.0->ipywidgets>=7.6.0->yfiles_jupyter_graphs) (0.7.5)\n",
      "Requirement already satisfied: parso<0.9.0,>=0.8.0 in /Users/daveih/Library/Python/3.10/lib/python/site-packages (from jedi>=0.16->ipython>=6.1.0->ipywidgets>=7.6.0->yfiles_jupyter_graphs) (0.8.3)\n",
      "Requirement already satisfied: python-dateutil>=2.8.2 in /Users/daveih/Library/Python/3.10/lib/python/site-packages (from jupyter-client>=6.1.12->ipykernel>=4.5.1->ipywidgets>=7.6.0->yfiles_jupyter_graphs) (2.8.2)\n",
      "Requirement already satisfied: entrypoints in /Users/daveih/Library/Python/3.10/lib/python/site-packages (from jupyter-client>=6.1.12->ipykernel>=4.5.1->ipywidgets>=7.6.0->yfiles_jupyter_graphs) (0.4)\n",
      "Requirement already satisfied: jupyter-core>=4.9.2 in /Users/daveih/Library/Python/3.10/lib/python/site-packages (from jupyter-client>=6.1.12->ipykernel>=4.5.1->ipywidgets>=7.6.0->yfiles_jupyter_graphs) (5.1.3)\n",
      "Requirement already satisfied: ptyprocess>=0.5 in /Users/daveih/Library/Python/3.10/lib/python/site-packages (from pexpect>4.3->ipython>=6.1.0->ipywidgets>=7.6.0->yfiles_jupyter_graphs) (0.7.0)\n",
      "Requirement already satisfied: wcwidth in /Users/daveih/Library/Python/3.10/lib/python/site-packages (from prompt-toolkit<3.1.0,>=3.0.11->ipython>=6.1.0->ipywidgets>=7.6.0->yfiles_jupyter_graphs) (0.2.5)\n",
      "Requirement already satisfied: pyparsing!=3.0.5,>=2.0.2 in /Library/Frameworks/Python.framework/Versions/3.10/lib/python3.10/site-packages (from packaging->ipykernel>=4.5.1->ipywidgets>=7.6.0->yfiles_jupyter_graphs) (3.0.6)\n",
      "Requirement already satisfied: executing>=1.2.0 in /Users/daveih/Library/Python/3.10/lib/python/site-packages (from stack-data->ipython>=6.1.0->ipywidgets>=7.6.0->yfiles_jupyter_graphs) (1.2.0)\n",
      "Requirement already satisfied: pure-eval in /Users/daveih/Library/Python/3.10/lib/python/site-packages (from stack-data->ipython>=6.1.0->ipywidgets>=7.6.0->yfiles_jupyter_graphs) (0.2.2)\n",
      "Requirement already satisfied: asttokens>=2.1.0 in /Users/daveih/Library/Python/3.10/lib/python/site-packages (from stack-data->ipython>=6.1.0->ipywidgets>=7.6.0->yfiles_jupyter_graphs) (2.2.1)\n",
      "Requirement already satisfied: six in /Library/Frameworks/Python.framework/Versions/3.10/lib/python3.10/site-packages (from asttokens>=2.1.0->stack-data->ipython>=6.1.0->ipywidgets>=7.6.0->yfiles_jupyter_graphs) (1.16.0)\n",
      "Requirement already satisfied: platformdirs>=2.5 in /Users/daveih/Library/Python/3.10/lib/python/site-packages (from jupyter-core>=4.9.2->jupyter-client>=6.1.12->ipykernel>=4.5.1->ipywidgets>=7.6.0->yfiles_jupyter_graphs) (2.6.2)\n",
      "\n",
      "\u001b[1m[\u001b[0m\u001b[34;49mnotice\u001b[0m\u001b[1;39;49m]\u001b[0m\u001b[39;49m A new release of pip available: \u001b[0m\u001b[31;49m22.2.2\u001b[0m\u001b[39;49m -> \u001b[0m\u001b[32;49m22.3.1\u001b[0m\n",
      "\u001b[1m[\u001b[0m\u001b[34;49mnotice\u001b[0m\u001b[1;39;49m]\u001b[0m\u001b[39;49m To update, run: \u001b[0m\u001b[32;49mpip install --upgrade pip\u001b[0m\n",
      "Note: you may need to restart the kernel to use updated packages.\n"
     ]
    }
   ],
   "source": [
    "%pip install yfiles_jupyter_graphs"
   ]
  },
  {
   "cell_type": "code",
   "execution_count": 187,
   "metadata": {},
   "outputs": [],
   "source": [
    "from yfiles_jupyter_graphs import GraphWidget\n",
    "import xml.etree.ElementTree as ET\n",
    "import os "
   ]
  },
  {
   "cell_type": "code",
   "execution_count": 188,
   "metadata": {},
   "outputs": [],
   "source": [
    "namespaces = {\n",
    "  'ODM': \"http://www.cdisc.org/ns/odm/v1.3\",\n",
    "  'SDM':  \"http://www.cdisc.org/ns/studydesign/v1.0\"\n",
    "}\n",
    "\n",
    "def fully_qualified(ns, element):\n",
    "  return \"{%s}%s\" % (ns, element)\n",
    "\n",
    "def remove_ns(name):\n",
    "  for k, v in namespaces.items():\n",
    "    if v in name:\n",
    "      return name.replace(\"{%s}\" % (v), \"\")\n",
    "  return name\n",
    "\n",
    "node_types = { \n",
    "  fully_qualified(namespaces['ODM'], \"ODM\"): \"root\"\n",
    "}\n",
    "ignore_nodes = [ \n",
    "  fully_qualified(namespaces['SDM'], \"Summary\"), \n",
    "  fully_qualified(namespaces['ODM'], \"Description\"), \n",
    "  fully_qualified(namespaces['ODM'], \"ItemGroupDef\"),\n",
    "  fully_qualified(namespaces['ODM'], \"ItemDef\") \n",
    "]\n",
    "edge_nodes = [ \n",
    "  fully_qualified(namespaces['SDM'], \"ActivityRef\"), \n",
    "  fully_qualified(namespaces['ODM'], \"FormRef\"),\n",
    "  fully_qualified(namespaces['SDM'], \"ArmRef\") \n",
    "]\n",
    "preserve_oid_nodes = [ \n",
    "  fully_qualified(namespaces['SDM'], \"ActivityDef\"), \n",
    "  fully_qualified(namespaces['ODM'], \"FormDef\"),\n",
    "  fully_qualified(namespaces['SDM'], \"Arm\") \n",
    "]"
   ]
  },
  {
   "cell_type": "code",
   "execution_count": 189,
   "metadata": {},
   "outputs": [],
   "source": [
    "nodes = []\n",
    "node_index = 0\n",
    "edges = []\n",
    "edge_index = 0\n",
    "node_oid_map = {}\n",
    "save_edges = []\n",
    "\n",
    "def add_node(label, properties, node_type=None):\n",
    "  global node_index\n",
    "  global nodes\n",
    "  node_index += 1\n",
    "  properties['label'] = label\n",
    "  if not node_type == None:\n",
    "    properties['node_type'] = node_type\n",
    "  nodes.append({ 'id': node_index, 'properties': properties })\n",
    "  return node_index\n",
    "\n",
    "def add_edge(label, start, end):\n",
    "  global edge_index\n",
    "  global edges\n",
    "  edge_index += 1\n",
    "  edges.append( {id: edge_index, 'start': start, 'end': end, 'properties': { 'label': label } })\n",
    "  return edge_index\n",
    "\n",
    "def save_edge(index, oid, label):\n",
    "  global save_edges\n",
    "  if not index == None:\n",
    "    save_edges.append({ 'start': index, 'end_oid': oid, 'label': label })\n",
    "\n",
    "def save_oid_def(oid, node_index):\n",
    "  global node_oid_map\n",
    "  node_oid_map[oid] = node_index\n",
    "\n",
    "def find_oid_ref(properties):\n",
    "  for k,v in properties.items():\n",
    "    if \"OID\" in k:\n",
    "      return v\n",
    "  return None"
   ]
  },
  {
   "cell_type": "code",
   "execution_count": 190,
   "metadata": {},
   "outputs": [],
   "source": [
    "\n",
    "def process_element(element, parent_index=None):\n",
    "  element_index = None\n",
    "  node_type = None\n",
    "  if element.tag in edge_nodes:\n",
    "    attribs = element.attrib\n",
    "    label = remove_ns(element.tag)\n",
    "    oid = find_oid_ref(attribs)\n",
    "    save_edge(parent_index, oid, label)\n",
    "  else:\n",
    "    attribs = element.attrib\n",
    "    label = remove_ns(element.tag)\n",
    "    if element.tag in node_types:\n",
    "      node_type = node_types[element.tag]\n",
    "    element_index = add_node(label, attribs, node_type)\n",
    "  if element.tag in preserve_oid_nodes:\n",
    "    save_oid_def(attribs['OID'], element_index)\n",
    "  for child in element:\n",
    "    if not child.tag in ignore_nodes:\n",
    "      child_index = process_element(child, element_index)\n",
    "      if not child_index == None:\n",
    "        child_edge_index = add_edge(\"child\", element_index, child_index)\n",
    "  return element_index"
   ]
  },
  {
   "cell_type": "code",
   "execution_count": 191,
   "metadata": {},
   "outputs": [
    {
     "name": "stdout",
     "output_type": "stream",
     "text": [
      "OID_MAP: {'ARM.PLACEBO': 26, 'ARM.LOWDOSE': 27, 'ARM.HIGHDOSE': 28, 'ACT.TRIALSTART': 41, 'ACT.INFORMEDCONSENT': 42, 'ACT.PATIENTNUMBERASSIGNMENT': 43, 'ACT.DEMOGR_EDU_HABITS': 44, 'ACT.MMS': 45, 'ACT.HACHINSKI': 46, 'ACT.MEDICALHISTORY_01': 47, 'ACT.VITALSIGNS_01': 48, 'ACT.AMB_ECG_PLACEMENT_01': 49, 'ACT.AMB_ECG_REMOVAL_01': 50, 'ACT.PATIENTRANDOMIZATION': 51, 'ACT.VITALSIGNS_02': 52, 'ACT.TRIALFINISH': 53, 'ACT.ASSESS_FEVER': 54, 'ACT.ASSESS_HIGH_FEVER': 55, 'ACT.ECG_01': 56, 'ACT.CHEST_X-RAY': 57, 'ACT.MRI': 58, 'ACT.CT_SCAN': 59, 'ACT.TRT_VISIT_01_START': 60, 'ACT.TRT_VISIT_02_START': 61, 'ACT.TRT_VISIT_03_START': 62, 'ACT.TRT_VISIT_04_START': 63, 'ACT.TRT_VISIT_05_START': 64, 'ACT.TRT_VISIT_06_START': 65, 'ACT.TRT_VISIT_07_START': 66, 'ACT.TRT_VISIT_08_START': 67, 'ACT.TRT_VISIT_09_START': 68, 'ACT.TRT_VISIT_10_START': 69, 'ACT.ASSESS_HEADACHE': 70, 'FO.ECG': 147, 'FO.VS': 149, 'FO.INFORMEDCONSENT': 150, 'FO.INCLUSIONEXCLUSION': 151, 'FO.MMS': 152, 'FO.DEMOGR_EDUC_HABITS': 153, 'FO.HACHINSKI': 154, 'FO.MEDICALHISTORY': 155, 'FO.CHEST_X-RAY': 156, 'FO.MRI': 157, 'FO.CT_SCAN': 158}\n",
      "SAVE_EDGES: [{'start': 30, 'end_oid': 'ARM.PLACEBO', 'label': 'ArmRef'}, {'start': 30, 'end_oid': 'ARM.LOWDOSE', 'label': 'ArmRef'}, {'start': 30, 'end_oid': 'ARM.HIGHDOSE', 'label': 'ArmRef'}, {'start': 33, 'end_oid': 'ARM.PLACEBO', 'label': 'ArmRef'}, {'start': 33, 'end_oid': 'ARM.LOWDOSE', 'label': 'ArmRef'}, {'start': 33, 'end_oid': 'ARM.HIGHDOSE', 'label': 'ArmRef'}, {'start': 36, 'end_oid': 'ARM.PLACEBO', 'label': 'ArmRef'}, {'start': 36, 'end_oid': 'ARM.LOWDOSE', 'label': 'ArmRef'}, {'start': 36, 'end_oid': 'ARM.HIGHDOSE', 'label': 'ArmRef'}, {'start': 38, 'end_oid': 'ACT.INFORMEDCONSENT', 'label': 'ActivityRef'}, {'start': 38, 'end_oid': 'ACT.PATIENTNUMBERASSIGNMENT', 'label': 'ActivityRef'}, {'start': 38, 'end_oid': 'ACT.MEDICALHISTORY_01', 'label': 'ActivityRef'}, {'start': 38, 'end_oid': 'ACT.VITALSIGNS_01', 'label': 'ActivityRef'}, {'start': 38, 'end_oid': 'ACT.AMB_ECG_PLACEMENT_01', 'label': 'ActivityRef'}, {'start': 38, 'end_oid': 'ACT.AMB_ECG_REMOVAL_01', 'label': 'ActivityRef'}, {'start': 38, 'end_oid': 'ACT.VITALSIGNS_02', 'label': 'ActivityRef'}, {'start': 38, 'end_oid': 'ACT.PATIENTRANDOMIZATION', 'label': 'ActivityRef'}, {'start': 38, 'end_oid': 'ACT.HACHINSKI', 'label': 'ActivityRef'}, {'start': 41, 'end_oid': 'FO.INCLUSIONEXCLUSION', 'label': 'FormRef'}, {'start': 42, 'end_oid': 'FO.INFORMEDCONSENT', 'label': 'FormRef'}, {'start': 44, 'end_oid': 'FO.DEMOGR_EDUC_HABITS', 'label': 'FormRef'}, {'start': 45, 'end_oid': 'FO.MMS', 'label': 'FormRef'}, {'start': 46, 'end_oid': 'FO.HACHINSKI', 'label': 'FormRef'}, {'start': 47, 'end_oid': 'FO.MEDICALHISTORY', 'label': 'FormRef'}, {'start': 48, 'end_oid': 'FO.VS', 'label': 'FormRef'}, {'start': 56, 'end_oid': 'FO.ECG', 'label': 'FormRef'}, {'start': 57, 'end_oid': 'FO.CHEST_X-RAY', 'label': 'FormRef'}, {'start': 58, 'end_oid': 'FO.MRI', 'label': 'FormRef'}, {'start': 59, 'end_oid': 'FO.CT_SCAN', 'label': 'FormRef'}, {'start': 72, 'end_oid': 'ACT.TRIALSTART', 'label': 'ActivityRef'}, {'start': 73, 'end_oid': 'ACT.TRIALFINISH', 'label': 'ActivityRef'}, {'start': 134, 'end_oid': 'ACT.TRIALSTART', 'label': 'ActivityRef'}, {'start': 134, 'end_oid': 'ACT.INFORMEDCONSENT', 'label': 'ActivityRef'}, {'start': 134, 'end_oid': 'ACT.PATIENTNUMBERASSIGNMENT', 'label': 'ActivityRef'}, {'start': 134, 'end_oid': 'ACT.DEMOGR_EDU_HABITS', 'label': 'ActivityRef'}, {'start': 134, 'end_oid': 'ACT.MMS', 'label': 'ActivityRef'}, {'start': 134, 'end_oid': 'ACT.HACHINSKI', 'label': 'ActivityRef'}, {'start': 134, 'end_oid': 'ACT.MEDICALHISTORY_01', 'label': 'ActivityRef'}, {'start': 134, 'end_oid': 'ACT.VITALSIGNS_01', 'label': 'ActivityRef'}, {'start': 135, 'end_oid': 'ACT.AMB_ECG_PLACEMENT_01', 'label': 'ActivityRef'}, {'start': 136, 'end_oid': 'ACT.AMB_ECG_REMOVAL_01', 'label': 'ActivityRef'}, {'start': 136, 'end_oid': 'ACT.PATIENTRANDOMIZATION', 'label': 'ActivityRef'}, {'start': 136, 'end_oid': 'ACT.VITALSIGNS_02', 'label': 'ActivityRef'}, {'start': 137, 'end_oid': 'FO.VS', 'label': 'FormRef'}, {'start': 137, 'end_oid': 'ACT.TRT_VISIT_01_START', 'label': 'ActivityRef'}, {'start': 138, 'end_oid': 'FO.VS', 'label': 'FormRef'}, {'start': 139, 'end_oid': 'FO.VS', 'label': 'FormRef'}, {'start': 140, 'end_oid': 'FO.VS', 'label': 'FormRef'}, {'start': 140, 'end_oid': 'FO.ECG', 'label': 'FormRef'}, {'start': 141, 'end_oid': 'FO.VS', 'label': 'FormRef'}, {'start': 141, 'end_oid': 'FO.ECG', 'label': 'FormRef'}, {'start': 142, 'end_oid': 'FO.VS', 'label': 'FormRef'}, {'start': 143, 'end_oid': 'FO.VS', 'label': 'FormRef'}, {'start': 143, 'end_oid': 'FO.ECG', 'label': 'FormRef'}, {'start': 144, 'end_oid': 'FO.VS', 'label': 'FormRef'}, {'start': 144, 'end_oid': 'FO.ECG', 'label': 'FormRef'}, {'start': 145, 'end_oid': 'FO.VS', 'label': 'FormRef'}, {'start': 145, 'end_oid': 'FO.ECG', 'label': 'FormRef'}, {'start': 146, 'end_oid': 'FO.VS', 'label': 'FormRef'}, {'start': 146, 'end_oid': 'FO.ECG', 'label': 'FormRef'}]\n"
     ]
    }
   ],
   "source": [
    "notebook_path = os.path.abspath(\"notebook.ipynb\")\n",
    "file_path = os.path.join(os.path.dirname(notebook_path), \"source_data/lzzt_trial.xml\")\n",
    "tree = ET.parse(file_path)\n",
    "\n",
    "root = tree.getroot()\n",
    "\n",
    "for item in root.findall('.'):\n",
    "  process_element(item)\n",
    "\n",
    "for edge in save_edges:\n",
    "  oid = edge['end_oid']\n",
    "  if oid in node_oid_map:\n",
    "    add_edge(edge['label'], edge['start'], node_oid_map[oid])\n",
    "    \n",
    "#print(\"NODES:\", nodes)\n",
    "print(\"OID_MAP:\", node_oid_map)\n",
    "print(\"SAVE_EDGES:\", save_edges)\n"
   ]
  },
  {
   "cell_type": "code",
   "execution_count": 192,
   "metadata": {},
   "outputs": [],
   "source": [
    "def custom_node_color(index: int, node: dict):\n",
    "  if 'node_type' in node['properties']:\n",
    "    if node['properties']['node_type'] == 'root':\n",
    "      return 'black'\n",
    "    elif node['properties']['node_type'] == 'anchor':\n",
    "      return '#999999'\n",
    "    elif node['properties']['node_type'] == 'condition':\n",
    "      return '#999999'\n",
    "    elif node['properties']['node_type'] == 'timepoint':\n",
    "      return '#555555'\n",
    "    elif node['properties']['node_type'] == 'visit':\n",
    "      return '#c1141a'\n",
    "    elif node['properties']['node_type'] == 'activity':\n",
    "      return '#1555bd'\n",
    "    elif node['properties']['node_type'] == 'bc':\n",
    "      return '#c0d6e4'\n",
    "    else:\n",
    "      return 'white'\n",
    "  else: \n",
    "    return 'white'\n",
    "\n",
    "def custom_node_style(index: int, node: dict):\n",
    "  if 'node_type' in node['properties']:\n",
    "    if node['properties']['node_type'] == 'root':\n",
    "      return { 'shape': 'round-rectangle' }\n",
    "    elif node['properties']['node_type'] == 'anchor':\n",
    "      return { 'shape': 'hexagon2' }\n",
    "    elif node['properties']['node_type'] == 'condition':\n",
    "      return { 'shape': 'diamond' }\n",
    "    elif node['properties']['node_type'] == 'timepoint':\n",
    "      return { 'shape': 'ellipse' }\n",
    "    elif node['properties']['node_type'] == 'visit':\n",
    "      return { 'shape': 'circle' }\n",
    "    elif node['properties']['node_type'] == 'activity':\n",
    "      return { 'shape': 'circle' }\n",
    "    elif node['properties']['node_type'] == 'bc':\n",
    "      return { 'shape': 'circle' }\n",
    "    else:\n",
    "      return { 'shape': 'circle' }\n",
    "  else: \n",
    "    return { 'shape': 'circle' }\n"
   ]
  },
  {
   "cell_type": "code",
   "execution_count": 193,
   "metadata": {},
   "outputs": [
    {
     "name": "stderr",
     "output_type": "stream",
     "text": [
      "/Users/daveih/Library/Python/3.10/lib/python/site-packages/jupyter_client/session.py:718: UserWarning: Message serialization failed with:\n",
      "keys must be str, int, float, bool or None, not builtin_function_or_method\n",
      "Supporting this message is deprecated in jupyter-client 7, please make sure your message is JSON-compliant\n",
      "  content = self.pack(content)\n"
     ]
    },
    {
     "data": {
      "application/vnd.jupyter.widget-view+json": {
       "model_id": "9137f13aeff7471a9107a866b3e1c1e6",
       "version_major": 2,
       "version_minor": 0
      },
      "text/plain": [
       "GraphWidget(layout=Layout(height='500px', width='100%'))"
      ]
     },
     "metadata": {},
     "output_type": "display_data"
    }
   ],
   "source": [
    "w = GraphWidget()\n",
    "w.set_directed(True)\n",
    "w.hierarchic_layout()\n",
    "\n",
    "w.set_nodes(nodes)\n",
    "w.set_edges(edges)\n",
    "\n",
    "w.set_node_color_mapping(custom_node_color)\n",
    "w.set_node_styles_mapping(custom_node_style)\n",
    "w"
   ]
  }
 ],
 "metadata": {
  "kernelspec": {
   "display_name": "Python 3",
   "language": "python",
   "name": "python3"
  },
  "language_info": {
   "codemirror_mode": {
    "name": "ipython",
    "version": 3
   },
   "file_extension": ".py",
   "mimetype": "text/x-python",
   "name": "python",
   "nbconvert_exporter": "python",
   "pygments_lexer": "ipython3",
   "version": "3.10.1"
  },
  "orig_nbformat": 4,
  "vscode": {
   "interpreter": {
    "hash": "aee8b7b246df8f9039afb4144a1f6fd8d2ca17a180786b69acc140d282b71a49"
   }
  }
 },
 "nbformat": 4,
 "nbformat_minor": 2
}
