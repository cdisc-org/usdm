{
 "cells": [
  {
   "cell_type": "code",
   "execution_count": null,
   "metadata": {},
   "outputs": [],
   "source": [
    "%pip install yfiles_jupyter_graphs"
   ]
  },
  {
   "cell_type": "code",
   "execution_count": 2,
   "metadata": {},
   "outputs": [],
   "source": [
    "import json\n",
    "\n",
    "def save_as_file(raw_json, filename):\n",
    "  with open('source_data/%s.json' % (filename), 'w', encoding='utf-8') as f:\n",
    "    json_object = json.loads(raw_json)\n",
    "    f.write(json.dumps(json_object, indent=2))"
   ]
  },
  {
   "cell_type": "code",
   "execution_count": 3,
   "metadata": {
    "scrolled": true
   },
   "outputs": [],
   "source": [
    "import sys\n",
    "import os\n",
    "\n",
    "sys.path.append(\"/Users/daveih/Documents/python/timepoints\")\n",
    "\n",
    "from usdm_excel.usdm_excel import USDMExcel\n",
    "\n",
    "study = \"simple_1\"\n",
    "program_path = os.path.abspath(\"usdm_simple.ipynb\")\n",
    "file_path = os.path.join(os.path.dirname(program_path), \"source_data/%s.xlsx\" % (study))\n",
    "x = USDMExcel(file_path)\n",
    "data = x.to_json()\n",
    "nodes, edges = x.to_nodes_and_edges()\n",
    "#print(\"JSON:\", json)\n",
    "#print(\"NODES:\", nodes)\n",
    "#print(\"EDGES:\", edges)\n",
    "save_as_file(data, study)"
   ]
  },
  {
   "cell_type": "code",
   "execution_count": 4,
   "metadata": {},
   "outputs": [
    {
     "data": {
      "application/vnd.jupyter.widget-view+json": {
       "model_id": "522e3213edcf4ad696df9ddedd20d8ec",
       "version_major": 2,
       "version_minor": 0
      },
      "text/plain": [
       "GraphWidget(layout=Layout(height='500px', width='100%'))"
      ]
     },
     "metadata": {},
     "output_type": "display_data"
    }
   ],
   "source": [
    "from yfiles_jupyter_graphs import GraphWidget\n",
    "\n",
    "def custom_node_color(index: int, node: dict):\n",
    "  if 'node_type' in node['properties']:\n",
    "    if node['properties']['node_type'] == 'Entry':\n",
    "      return 'black'\n",
    "    elif node['properties']['node_type'] == 'Exit':\n",
    "      return 'black'\n",
    "    elif node['properties']['node_type'] == 'Timeline':\n",
    "      return '#3F6AFC'\n",
    "    elif node['properties']['node_type'] == 'Condition':\n",
    "      return '#ABB2B9'\n",
    "    elif node['properties']['node_type'] == 'CycleStart':\n",
    "      return '#3F6AFC'\n",
    "    elif node['properties']['node_type'] == 'Timing':\n",
    "      return '#6495ED'\n",
    "    elif node['properties']['node_type'] == 'Timepoint':\n",
    "      return '#ABB2B9'\n",
    "    elif node['properties']['node_type'] == 'Activity':\n",
    "      return '#1BA62F'\n",
    "    elif node['properties']['node_type'] == 'BCSurrogate':\n",
    "      return '#1BA62F'\n",
    "    elif node['properties']['node_type'] == 'Encounter':\n",
    "      return '#E53F2F'\n",
    "    elif node['properties']['node_type'] == 'StudyDesign':\n",
    "      return '#E52FDA'\n",
    "    elif node['properties']['node_type'] == 'Study':\n",
    "      return '#E52FDA'\n",
    "    else:\n",
    "      return 'white'\n",
    "  else: \n",
    "    return 'white'\n",
    "\n",
    "def custom_node_style(index: int, node: dict):\n",
    "  if 'node_type' in node['properties']:\n",
    "    if node['properties']['node_type'] == 'Entry' or node['properties']['node_type'] == 'Exit':\n",
    "      return {'image': 'https://raw.githubusercontent.com/data4knowledge/timepoints/main/images/pill_black.svg'}\n",
    "    elif node['properties']['node_type'] == 'Timeline':\n",
    "      return { 'shape': 'ellipse' }\n",
    "    elif node['properties']['node_type'] == 'Timing':\n",
    "      return { 'shape': 'ellipse' }\n",
    "    elif node['properties']['node_type'] == 'Condition':\n",
    "      return { 'shape': 'diamond' }\n",
    "    elif node['properties']['node_type'] == 'CycleStart':\n",
    "      return { 'shape': 'hexagon2' }\n",
    "    elif node['properties']['node_type'] == 'Timepoint':\n",
    "      return { 'shape': 'ellipse' }\n",
    "    elif node['properties']['node_type'] == 'Activity':\n",
    "      return { 'shape': 'ellipse' }\n",
    "    else:\n",
    "      return { 'shape': 'ellipse' }\n",
    "  else: \n",
    "    return { 'shape': 'ellipse' }\n",
    "\n",
    "graph_widget = GraphWidget()\n",
    "graph_widget.orthogonal_layout()\n",
    "graph_widget.set_directed(True)\n",
    "\n",
    "graph_widget.set_nodes(nodes)\n",
    "graph_widget.set_edges(edges)\n",
    "graph_widget.set_node_color_mapping(custom_node_color)\n",
    "graph_widget.set_node_styles_mapping(custom_node_style)\n",
    "graph_widget"
   ]
  }
 ],
 "metadata": {
  "kernelspec": {
   "display_name": "Python 3 (ipykernel)",
   "language": "python",
   "name": "python3"
  },
  "language_info": {
   "codemirror_mode": {
    "name": "ipython",
    "version": 3
   },
   "file_extension": ".py",
   "mimetype": "text/x-python",
   "name": "python",
   "nbconvert_exporter": "python",
   "pygments_lexer": "ipython3",
   "version": "3.10.1"
  },
  "vscode": {
   "interpreter": {
    "hash": "cd128eb00d7d3f69b7bfbfdcc4e7f0c67a2eda7ab25ca8cb8c7708085581620b"
   }
  }
 },
 "nbformat": 4,
 "nbformat_minor": 2
}
