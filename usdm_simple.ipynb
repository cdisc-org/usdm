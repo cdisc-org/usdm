{
 "cells": [
  {
   "cell_type": "code",
   "execution_count": 1,
   "metadata": {},
   "outputs": [
    {
     "name": "stdout",
     "output_type": "stream",
     "text": [
      "Requirement already satisfied: yfiles_jupyter_graphs in ./.venv/lib/python3.10/site-packages (1.4.3)\n",
      "Requirement already satisfied: ipywidgets>=7.6.0 in ./.venv/lib/python3.10/site-packages (from yfiles_jupyter_graphs) (8.0.4)\n",
      "Requirement already satisfied: ipython>=6.1.0 in ./.venv/lib/python3.10/site-packages (from ipywidgets>=7.6.0->yfiles_jupyter_graphs) (8.10.0)\n",
      "Requirement already satisfied: traitlets>=4.3.1 in ./.venv/lib/python3.10/site-packages (from ipywidgets>=7.6.0->yfiles_jupyter_graphs) (5.9.0)\n",
      "Requirement already satisfied: jupyterlab-widgets~=3.0 in ./.venv/lib/python3.10/site-packages (from ipywidgets>=7.6.0->yfiles_jupyter_graphs) (3.0.5)\n",
      "Requirement already satisfied: ipykernel>=4.5.1 in ./.venv/lib/python3.10/site-packages (from ipywidgets>=7.6.0->yfiles_jupyter_graphs) (6.21.2)\n",
      "Requirement already satisfied: widgetsnbextension~=4.0 in ./.venv/lib/python3.10/site-packages (from ipywidgets>=7.6.0->yfiles_jupyter_graphs) (4.0.5)\n",
      "Requirement already satisfied: pyzmq>=20 in ./.venv/lib/python3.10/site-packages (from ipykernel>=4.5.1->ipywidgets>=7.6.0->yfiles_jupyter_graphs) (25.0.0)\n",
      "Requirement already satisfied: tornado>=6.1 in ./.venv/lib/python3.10/site-packages (from ipykernel>=4.5.1->ipywidgets>=7.6.0->yfiles_jupyter_graphs) (6.2)\n",
      "Requirement already satisfied: nest-asyncio in ./.venv/lib/python3.10/site-packages (from ipykernel>=4.5.1->ipywidgets>=7.6.0->yfiles_jupyter_graphs) (1.5.6)\n",
      "Requirement already satisfied: matplotlib-inline>=0.1 in ./.venv/lib/python3.10/site-packages (from ipykernel>=4.5.1->ipywidgets>=7.6.0->yfiles_jupyter_graphs) (0.1.6)\n",
      "Requirement already satisfied: jupyter-client>=6.1.12 in ./.venv/lib/python3.10/site-packages (from ipykernel>=4.5.1->ipywidgets>=7.6.0->yfiles_jupyter_graphs) (8.0.3)\n",
      "Requirement already satisfied: comm>=0.1.1 in ./.venv/lib/python3.10/site-packages (from ipykernel>=4.5.1->ipywidgets>=7.6.0->yfiles_jupyter_graphs) (0.1.2)\n",
      "Requirement already satisfied: jupyter-core!=5.0.*,>=4.12 in ./.venv/lib/python3.10/site-packages (from ipykernel>=4.5.1->ipywidgets>=7.6.0->yfiles_jupyter_graphs) (5.2.0)\n",
      "Requirement already satisfied: psutil in ./.venv/lib/python3.10/site-packages (from ipykernel>=4.5.1->ipywidgets>=7.6.0->yfiles_jupyter_graphs) (5.9.4)\n",
      "Requirement already satisfied: packaging in ./.venv/lib/python3.10/site-packages (from ipykernel>=4.5.1->ipywidgets>=7.6.0->yfiles_jupyter_graphs) (23.0)\n",
      "Requirement already satisfied: appnope in ./.venv/lib/python3.10/site-packages (from ipykernel>=4.5.1->ipywidgets>=7.6.0->yfiles_jupyter_graphs) (0.1.3)\n",
      "Requirement already satisfied: debugpy>=1.6.5 in ./.venv/lib/python3.10/site-packages (from ipykernel>=4.5.1->ipywidgets>=7.6.0->yfiles_jupyter_graphs) (1.6.6)\n",
      "Requirement already satisfied: stack-data in ./.venv/lib/python3.10/site-packages (from ipython>=6.1.0->ipywidgets>=7.6.0->yfiles_jupyter_graphs) (0.6.2)\n",
      "Requirement already satisfied: prompt-toolkit<3.1.0,>=3.0.30 in ./.venv/lib/python3.10/site-packages (from ipython>=6.1.0->ipywidgets>=7.6.0->yfiles_jupyter_graphs) (3.0.36)\n",
      "Requirement already satisfied: decorator in ./.venv/lib/python3.10/site-packages (from ipython>=6.1.0->ipywidgets>=7.6.0->yfiles_jupyter_graphs) (5.1.1)\n",
      "Requirement already satisfied: pygments>=2.4.0 in ./.venv/lib/python3.10/site-packages (from ipython>=6.1.0->ipywidgets>=7.6.0->yfiles_jupyter_graphs) (2.14.0)\n",
      "Requirement already satisfied: pexpect>4.3 in ./.venv/lib/python3.10/site-packages (from ipython>=6.1.0->ipywidgets>=7.6.0->yfiles_jupyter_graphs) (4.8.0)\n",
      "Requirement already satisfied: backcall in ./.venv/lib/python3.10/site-packages (from ipython>=6.1.0->ipywidgets>=7.6.0->yfiles_jupyter_graphs) (0.2.0)\n",
      "Requirement already satisfied: jedi>=0.16 in ./.venv/lib/python3.10/site-packages (from ipython>=6.1.0->ipywidgets>=7.6.0->yfiles_jupyter_graphs) (0.18.2)\n",
      "Requirement already satisfied: pickleshare in ./.venv/lib/python3.10/site-packages (from ipython>=6.1.0->ipywidgets>=7.6.0->yfiles_jupyter_graphs) (0.7.5)\n",
      "Requirement already satisfied: parso<0.9.0,>=0.8.0 in ./.venv/lib/python3.10/site-packages (from jedi>=0.16->ipython>=6.1.0->ipywidgets>=7.6.0->yfiles_jupyter_graphs) (0.8.3)\n",
      "Requirement already satisfied: python-dateutil>=2.8.2 in ./.venv/lib/python3.10/site-packages (from jupyter-client>=6.1.12->ipykernel>=4.5.1->ipywidgets>=7.6.0->yfiles_jupyter_graphs) (2.8.2)\n",
      "Requirement already satisfied: platformdirs>=2.5 in ./.venv/lib/python3.10/site-packages (from jupyter-core!=5.0.*,>=4.12->ipykernel>=4.5.1->ipywidgets>=7.6.0->yfiles_jupyter_graphs) (3.0.0)\n",
      "Requirement already satisfied: ptyprocess>=0.5 in ./.venv/lib/python3.10/site-packages (from pexpect>4.3->ipython>=6.1.0->ipywidgets>=7.6.0->yfiles_jupyter_graphs) (0.7.0)\n",
      "Requirement already satisfied: wcwidth in ./.venv/lib/python3.10/site-packages (from prompt-toolkit<3.1.0,>=3.0.30->ipython>=6.1.0->ipywidgets>=7.6.0->yfiles_jupyter_graphs) (0.2.6)\n",
      "Requirement already satisfied: pure-eval in ./.venv/lib/python3.10/site-packages (from stack-data->ipython>=6.1.0->ipywidgets>=7.6.0->yfiles_jupyter_graphs) (0.2.2)\n",
      "Requirement already satisfied: asttokens>=2.1.0 in ./.venv/lib/python3.10/site-packages (from stack-data->ipython>=6.1.0->ipywidgets>=7.6.0->yfiles_jupyter_graphs) (2.2.1)\n",
      "Requirement already satisfied: executing>=1.2.0 in ./.venv/lib/python3.10/site-packages (from stack-data->ipython>=6.1.0->ipywidgets>=7.6.0->yfiles_jupyter_graphs) (1.2.0)\n",
      "Requirement already satisfied: six in ./.venv/lib/python3.10/site-packages (from asttokens>=2.1.0->stack-data->ipython>=6.1.0->ipywidgets>=7.6.0->yfiles_jupyter_graphs) (1.16.0)\n",
      "Note: you may need to restart the kernel to use updated packages.\n"
     ]
    }
   ],
   "source": [
    "%pip install yfiles_jupyter_graphs"
   ]
  },
  {
   "cell_type": "code",
   "execution_count": 2,
   "metadata": {},
   "outputs": [
    {
     "name": "stdout",
     "output_type": "stream",
     "text": [
      "TA Not supported yet Not supported yet\n",
      "INTENT C15714=BASIC SCIENCE, C139174=DEVICE FEASIBILITY C15714=BASIC SCIENCE\n",
      "INTENT C15714=BASIC SCIENCE, C139174=DEVICE FEASIBILITY  C139174=DEVICE FEASIBILITY\n",
      "TTYPE C12345=Observational C12345=Observational\n",
      "A\n",
      "NODES: [{'id': 2, 'properties': {'codeId': 'Code_25', 'code': 'C98388', 'codeSystem': 'http://www.cdisc.org', 'codeSystemVersion': '2022-12-25', 'decode': 'Interventional Study', '_type': 'Code', 'node_type': 'Code', 'label': 'Code_25'}}, {'id': 4, 'properties': {'codeId': 'Code_24', 'code': 'C15602', 'codeSystem': 'http://www.cdisc.org', 'codeSystemVersion': '2022-12-25', 'decode': 'Phase III Trial', '_type': 'Code', 'node_type': 'Code', 'label': 'Code_24'}}, {'id': 3, 'properties': {'aliasCodeId': 'AliasCode_2', 'standardCodeAliases': [], '_type': 'AliasCode', 'node_type': 'AliasCode', 'label': 'AliasCode_2'}}, {'id': 7, 'properties': {'codeId': 'Code_1', 'code': 'C93453', 'codeSystem': 'http://www.cdisc.org', 'codeSystemVersion': '2022-12-25', 'decode': 'Study Registry', '_type': 'Code', 'node_type': 'Code', 'label': 'Code_1'}}, {'id': 6, 'properties': {'organisationId': 'Organisation_1', 'organisationIdentifierScheme': 'USGOV', 'organisationIdentifier': 'CT-GOV', 'organisationName': 'ClinicalTrials.gov', 'organizationLegalAddress': None, '_type': 'Organisation', 'node_type': 'Organisation', 'label': 'Organisation_1'}}, {'id': 5, 'properties': {'studyIdentifierId': 'StudyIdentifier_1', 'studyIdentifier': 'NCT12345678', '_type': 'StudyIdentifier', 'node_type': 'StudyIdentifier', 'label': 'StudyIdentifier_1'}}, {'id': 9, 'properties': {'codeId': 'Code_4', 'code': 'C15714', 'codeSystem': 'http://www.cdisc.org', 'codeSystemVersion': '2022-12-25', 'decode': 'BASIC SCIENCE', '_type': 'Code', 'node_type': 'Code', 'label': 'Code_4'}}, {'id': 10, 'properties': {'codeId': 'Code_5', 'code': 'C139174', 'codeSystem': 'http://www.cdisc.org', 'codeSystemVersion': '2022-12-25', 'decode': 'DEVICE FEASIBILITY', '_type': 'Code', 'node_type': 'Code', 'label': 'Code_5'}}, {'id': 11, 'properties': {'codeId': 'Code_6', 'code': 'C12345', 'codeSystem': 'http://www.cdisc.org', 'codeSystemVersion': '2022-12-25', 'decode': 'Observational', '_type': 'Code', 'node_type': 'Code', 'label': 'Code_6'}}, {'id': 12, 'properties': {'codeId': 'Code_7', 'code': 'C12346', 'codeSystem': 'http://www.cdisc.org', 'codeSystemVersion': '2022-12-25', 'decode': 'None', '_type': 'Code', 'node_type': 'Code', 'label': 'Code_7'}}, {'id': 15, 'properties': {'codeId': 'Code_12', 'code': 'C188866', 'codeSystem': 'http://www.cdisc.org', 'codeSystemVersion': '2022-12-25', 'decode': 'Data Generated Within Study', '_type': 'Code', 'node_type': 'Code', 'label': 'Code_12'}}, {'id': 14, 'properties': {'studyArmId': 'StudyArm_1', 'studyArmName': 'Active', 'studyArmDescription': 'Active', 'studyArmType': '', 'studyArmDataOriginDescription': '', '_type': 'StudyArm', 'node_type': 'StudyArm', 'label': 'StudyArm_1'}}, {'id': 17, 'properties': {'codeId': 'Code_8', 'code': 'C165873', 'codeSystem': 'http://www.cdisc.org', 'codeSystemVersion': '2022-12-25', 'decode': 'OBSERVATION', '_type': 'Code', 'node_type': 'Code', 'label': 'Code_8'}}, {'id': 16, 'properties': {'studyEpochId': 'StudyEpoch_1', 'studyEpochName': 'Screening', 'studyEpochDescription': 'Screening', 'previousStudyEpochId': None, 'nextStudyEpochId': None, 'encounters': [], '_type': 'StudyEpoch', 'node_type': 'StudyEpoch', 'label': 'StudyEpoch_1'}}, {'id': 13, 'properties': {'studyCellId': 'StudyCell_1', 'studyElements': [], '_type': 'StudyCell', 'node_type': 'StudyCell', 'label': 'StudyCell_1'}}, {'id': 20, 'properties': {'codeId': 'Code_9', 'code': 'C165873', 'codeSystem': 'http://www.cdisc.org', 'codeSystemVersion': '2022-12-25', 'decode': 'OBSERVATION', '_type': 'Code', 'node_type': 'Code', 'label': 'Code_9'}}, {'id': 19, 'properties': {'studyEpochId': 'StudyEpoch_2', 'studyEpochName': 'Baseline', 'studyEpochDescription': 'Baseline', 'previousStudyEpochId': None, 'nextStudyEpochId': None, 'encounters': [], '_type': 'StudyEpoch', 'node_type': 'StudyEpoch', 'label': 'StudyEpoch_2'}}, {'id': 18, 'properties': {'studyCellId': 'StudyCell_2', 'studyElements': [], '_type': 'StudyCell', 'node_type': 'StudyCell', 'label': 'StudyCell_2'}}, {'id': 23, 'properties': {'codeId': 'Code_10', 'code': 'C165873', 'codeSystem': 'http://www.cdisc.org', 'codeSystemVersion': '2022-12-25', 'decode': 'OBSERVATION', '_type': 'Code', 'node_type': 'Code', 'label': 'Code_10'}}, {'id': 22, 'properties': {'studyEpochId': 'StudyEpoch_3', 'studyEpochName': 'Treatment', 'studyEpochDescription': 'Treatment', 'previousStudyEpochId': None, 'nextStudyEpochId': None, 'encounters': [], '_type': 'StudyEpoch', 'node_type': 'StudyEpoch', 'label': 'StudyEpoch_3'}}, {'id': 21, 'properties': {'studyCellId': 'StudyCell_3', 'studyElements': [], '_type': 'StudyCell', 'node_type': 'StudyCell', 'label': 'StudyCell_3'}}, {'id': 26, 'properties': {'codeId': 'Code_11', 'code': 'C165873', 'codeSystem': 'http://www.cdisc.org', 'codeSystemVersion': '2022-12-25', 'decode': 'OBSERVATION', '_type': 'Code', 'node_type': 'Code', 'label': 'Code_11'}}, {'id': 25, 'properties': {'studyEpochId': 'StudyEpoch_4', 'studyEpochName': 'Follow-Up', 'studyEpochDescription': 'Follow-Up', 'previousStudyEpochId': None, 'nextStudyEpochId': None, 'encounters': [], '_type': 'StudyEpoch', 'node_type': 'StudyEpoch', 'label': 'StudyEpoch_4'}}, {'id': 24, 'properties': {'studyCellId': 'StudyCell_4', 'studyElements': [], '_type': 'StudyCell', 'node_type': 'StudyCell', 'label': 'StudyCell_4'}}, {'id': 29, 'properties': {'codeId': 'Code_13', 'code': 'C188866', 'codeSystem': 'http://www.cdisc.org', 'codeSystemVersion': '2022-12-25', 'decode': 'Data Generated Within Study', '_type': 'Code', 'node_type': 'Code', 'label': 'Code_13'}}, {'id': 28, 'properties': {'studyArmId': 'StudyArm_2', 'studyArmName': 'Placebo', 'studyArmDescription': 'Placebo', 'studyArmType': '', 'studyArmDataOriginDescription': '', '_type': 'StudyArm', 'node_type': 'StudyArm', 'label': 'StudyArm_2'}}, {'id': 27, 'properties': {'studyCellId': 'StudyCell_5', 'studyElements': [], '_type': 'StudyCell', 'node_type': 'StudyCell', 'label': 'StudyCell_5'}}, {'id': 30, 'properties': {'studyCellId': 'StudyCell_6', 'studyElements': [], '_type': 'StudyCell', 'node_type': 'StudyCell', 'label': 'StudyCell_6'}}, {'id': 31, 'properties': {'studyCellId': 'StudyCell_7', 'studyElements': [], '_type': 'StudyCell', 'node_type': 'StudyCell', 'label': 'StudyCell_7'}}, {'id': 32, 'properties': {'studyCellId': 'StudyCell_8', 'studyElements': [], '_type': 'StudyCell', 'node_type': 'StudyCell', 'label': 'StudyCell_8'}}, {'id': 34, 'properties': {'scheduleTimelineExitId': 'ScheduleTimelineExit_1', '_type': 'ScheduleTimelineExit', 'node_type': 'ScheduleTimelineExit', 'label': 'ScheduleTimelineExit_1'}}, {'id': 35, 'properties': {'scheduledInstanceId': 'ScheduledActivityInstance_1', 'scheduledInstanceType': 1, 'scheduleSequenceNumber': 0, 'scheduleTimelineExitId': '', 'scheduledInstanceEncounterId': '', 'scheduledInstanceTimingIds': [], 'scheduledInstanceTimelineId': '', 'activityIds': [], '_type': 'ScheduledActivityInstance', 'node_type': 'ScheduledActivityInstance', 'label': 'ScheduledActivityInstance_1'}}, {'id': 36, 'properties': {'scheduledInstanceId': 'ScheduledActivityInstance_2', 'scheduledInstanceType': 1, 'scheduleSequenceNumber': 0, 'scheduleTimelineExitId': '', 'scheduledInstanceEncounterId': '', 'scheduledInstanceTimingIds': [], 'scheduledInstanceTimelineId': '', 'activityIds': [], '_type': 'ScheduledActivityInstance', 'node_type': 'ScheduledActivityInstance', 'label': 'ScheduledActivityInstance_2'}}, {'id': 37, 'properties': {'scheduledInstanceId': 'ScheduledActivityInstance_3', 'scheduledInstanceType': 1, 'scheduleSequenceNumber': 0, 'scheduleTimelineExitId': '', 'scheduledInstanceEncounterId': '', 'scheduledInstanceTimingIds': [], 'scheduledInstanceTimelineId': '', 'activityIds': [], '_type': 'ScheduledActivityInstance', 'node_type': 'ScheduledActivityInstance', 'label': 'ScheduledActivityInstance_3'}}, {'id': 38, 'properties': {'scheduledInstanceId': 'ScheduledActivityInstance_4', 'scheduledInstanceType': 1, 'scheduleSequenceNumber': 0, 'scheduleTimelineExitId': '', 'scheduledInstanceEncounterId': '', 'scheduledInstanceTimingIds': [], 'scheduledInstanceTimelineId': '', 'activityIds': [], '_type': 'ScheduledActivityInstance', 'node_type': 'ScheduledActivityInstance', 'label': 'ScheduledActivityInstance_4'}}, {'id': 39, 'properties': {'scheduledInstanceId': 'ScheduledActivityInstance_5', 'scheduledInstanceType': 1, 'scheduleSequenceNumber': 0, 'scheduleTimelineExitId': '', 'scheduledInstanceEncounterId': '', 'scheduledInstanceTimingIds': [], 'scheduledInstanceTimelineId': '', 'activityIds': [], '_type': 'ScheduledActivityInstance', 'node_type': 'ScheduledActivityInstance', 'label': 'ScheduledActivityInstance_5'}}, {'id': 33, 'properties': {'scheduleTimelineId': 'ScheduleTimeline_1', 'scheduleTimelineName': 'Main Timeline', 'scheduleTimelineDescription': 'This is the main timeline for the study design.', 'entryCondition': 'Subject identifier', 'scheduleTimelineEntryId': 'ScheduledActivityInstance_1', '_type': 'ScheduleTimeline', 'node_type': 'ScheduleTimeline', 'label': 'ScheduleTimeline_1'}}, {'id': 41, 'properties': {'codeId': 'Code_3', 'code': 'C49659', 'codeSystem': 'http://www.cdisc.org', 'codeSystemVersion': '2022-12-25', 'decode': 'OPEN LABEL', '_type': 'Code', 'node_type': 'Code', 'label': 'Code_3'}}, {'id': 40, 'properties': {'aliasCodeId': 'AliasCode_1', 'standardCodeAliases': [], '_type': 'AliasCode', 'node_type': 'AliasCode', 'label': 'AliasCode_1'}}, {'id': 8, 'properties': {'studyDesignId': 'StudyDesign_1', 'studyDesignName': 'Excel Study', 'studyDesignDescription': '', 'studyIndications': [], 'studyInvestigationalInterventions': [], 'studyStudyDesignPopulations': [], 'studyObjectives': [], 'therapeuticAreas': [], 'studyEstimands': [], 'encounters': [], 'activities': [], 'studyDesignRationale': '\"Study design rationale put here\"', 'biomedicalConcepts': [], 'bcCategories': [], 'bcSurrogates': [], '_type': 'StudyDesign', 'node_type': 'StudyDesign', 'label': 'StudyDesign_1'}}, {'id': 1, 'properties': {'studyId': None, 'studyTitle': 'Simple Test 1', 'studyVersion': '1', 'businessTherapeuticAreas': [], 'studyProtocolVersions': [], 'studyRationale': '', 'studyAcronym': '', '_type': 'Study', 'node_type': 'Study', 'label': None}}]\n",
      "EDGES: [{'id': 1, 'start': 1, 'end': 2, 'properties': {'label': 'studyType'}}, {'id': 2, 'start': 3, 'end': 4, 'properties': {'label': 'standardCode'}}, {'id': 3, 'start': 1, 'end': 3, 'properties': {'label': 'studyPhase'}}, {'id': 4, 'start': 6, 'end': 7, 'properties': {'label': 'organisationType'}}, {'id': 5, 'start': 5, 'end': 6, 'properties': {'label': 'studyIdentifierScope'}}, {'id': 6, 'start': 1, 'end': 5, 'properties': {'label': 'studyIdentifiers'}}, {'id': 7, 'start': 8, 'end': 9, 'properties': {'label': 'trialIntentTypes'}}, {'id': 8, 'start': 8, 'end': 10, 'properties': {'label': 'trialIntentTypes'}}, {'id': 9, 'start': 8, 'end': 11, 'properties': {'label': 'trialType'}}, {'id': 10, 'start': 8, 'end': 12, 'properties': {'label': 'interventionModel'}}, {'id': 11, 'start': 14, 'end': 15, 'properties': {'label': 'studyArmDataOriginType'}}, {'id': 12, 'start': 13, 'end': 14, 'properties': {'label': 'studyArm'}}, {'id': 13, 'start': 16, 'end': 17, 'properties': {'label': 'studyEpochType'}}, {'id': 14, 'start': 13, 'end': 16, 'properties': {'label': 'studyEpoch'}}, {'id': 15, 'start': 18, 'end': 14, 'properties': {'label': 'studyArm'}}, {'id': 16, 'start': 19, 'end': 20, 'properties': {'label': 'studyEpochType'}}, {'id': 17, 'start': 18, 'end': 19, 'properties': {'label': 'studyEpoch'}}, {'id': 18, 'start': 21, 'end': 14, 'properties': {'label': 'studyArm'}}, {'id': 19, 'start': 22, 'end': 23, 'properties': {'label': 'studyEpochType'}}, {'id': 20, 'start': 21, 'end': 22, 'properties': {'label': 'studyEpoch'}}, {'id': 21, 'start': 24, 'end': 14, 'properties': {'label': 'studyArm'}}, {'id': 22, 'start': 25, 'end': 26, 'properties': {'label': 'studyEpochType'}}, {'id': 23, 'start': 24, 'end': 25, 'properties': {'label': 'studyEpoch'}}, {'id': 24, 'start': 28, 'end': 29, 'properties': {'label': 'studyArmDataOriginType'}}, {'id': 25, 'start': 27, 'end': 28, 'properties': {'label': 'studyArm'}}, {'id': 26, 'start': 27, 'end': 16, 'properties': {'label': 'studyEpoch'}}, {'id': 27, 'start': 30, 'end': 28, 'properties': {'label': 'studyArm'}}, {'id': 28, 'start': 30, 'end': 19, 'properties': {'label': 'studyEpoch'}}, {'id': 29, 'start': 31, 'end': 28, 'properties': {'label': 'studyArm'}}, {'id': 30, 'start': 31, 'end': 22, 'properties': {'label': 'studyEpoch'}}, {'id': 31, 'start': 32, 'end': 28, 'properties': {'label': 'studyArm'}}, {'id': 32, 'start': 32, 'end': 25, 'properties': {'label': 'studyEpoch'}}, {'id': 33, 'start': 8, 'end': 13, 'properties': {'label': 'studyCells'}}, {'id': 34, 'start': 8, 'end': 18, 'properties': {'label': 'studyCells'}}, {'id': 35, 'start': 8, 'end': 21, 'properties': {'label': 'studyCells'}}, {'id': 36, 'start': 8, 'end': 24, 'properties': {'label': 'studyCells'}}, {'id': 37, 'start': 8, 'end': 27, 'properties': {'label': 'studyCells'}}, {'id': 38, 'start': 8, 'end': 30, 'properties': {'label': 'studyCells'}}, {'id': 39, 'start': 8, 'end': 31, 'properties': {'label': 'studyCells'}}, {'id': 40, 'start': 8, 'end': 32, 'properties': {'label': 'studyCells'}}, {'id': 41, 'start': 33, 'end': 34, 'properties': {'label': 'scheduleTimelineExits'}}, {'id': 42, 'start': 33, 'end': 35, 'properties': {'label': 'scheduleTimelineInstances'}}, {'id': 43, 'start': 33, 'end': 36, 'properties': {'label': 'scheduleTimelineInstances'}}, {'id': 44, 'start': 33, 'end': 37, 'properties': {'label': 'scheduleTimelineInstances'}}, {'id': 45, 'start': 33, 'end': 38, 'properties': {'label': 'scheduleTimelineInstances'}}, {'id': 46, 'start': 33, 'end': 39, 'properties': {'label': 'scheduleTimelineInstances'}}, {'id': 47, 'start': 8, 'end': 33, 'properties': {'label': 'studyScheduleTimelines'}}, {'id': 48, 'start': 40, 'end': 41, 'properties': {'label': 'standardCode'}}, {'id': 49, 'start': 8, 'end': 40, 'properties': {'label': 'studyDesignBlindingScheme'}}, {'id': 50, 'start': 1, 'end': 8, 'properties': {'label': 'studyDesigns'}}]\n"
     ]
    }
   ],
   "source": [
    "import sys\n",
    "import os\n",
    "\n",
    "sys.path.append(\"/Users/daveih/Documents/python/timepoints\")\n",
    "\n",
    "from usdm_excel.usdm_excel import USDMExcel\n",
    "\n",
    "study = \"simple_1\"\n",
    "program_path = os.path.abspath(\"usdm_simple.ipynb\")\n",
    "file_path = os.path.join(os.path.dirname(program_path), \"source_data/%s.xlsx\" % (study))\n",
    "x = USDMExcel(file_path)\n",
    "json = x.to_json()\n",
    "nodes, edges = x.to_nodes_and_edges()\n",
    "#print(\"JSON:\", json)\n",
    "print(\"NODES:\", nodes)\n",
    "print(\"EDGES:\", edges)"
   ]
  },
  {
   "cell_type": "code",
   "execution_count": 3,
   "metadata": {},
   "outputs": [],
   "source": [
    "def save_as_file(data, filename):\n",
    "  with open('source_data/%s.json' % (filename), 'w', encoding='utf-8') as outfile:\n",
    "    json.dump(data, outfile, indent=2)"
   ]
  },
  {
   "cell_type": "code",
   "execution_count": 4,
   "metadata": {},
   "outputs": [
    {
     "data": {
      "application/vnd.jupyter.widget-view+json": {
       "model_id": "ed09a3c7a6a64a39bc0d461f74442360",
       "version_major": 2,
       "version_minor": 0
      },
      "text/plain": [
       "GraphWidget(layout=Layout(height='500px', width='100%'))"
      ]
     },
     "metadata": {},
     "output_type": "display_data"
    }
   ],
   "source": [
    "from yfiles_jupyter_graphs import GraphWidget\n",
    "\n",
    "def custom_node_color(index: int, node: dict):\n",
    "  if 'node_type' in node['properties']:\n",
    "    if node['properties']['node_type'] == 'Entry':\n",
    "      return 'black'\n",
    "    elif node['properties']['node_type'] == 'Exit':\n",
    "      return 'black'\n",
    "    elif node['properties']['node_type'] == 'Timeline':\n",
    "      return '#3F6AFC'\n",
    "    elif node['properties']['node_type'] == 'Condition':\n",
    "      return '#ABB2B9'\n",
    "    elif node['properties']['node_type'] == 'CycleStart':\n",
    "      return '#3F6AFC'\n",
    "    elif node['properties']['node_type'] == 'Timing':\n",
    "      return '#6495ED'\n",
    "    elif node['properties']['node_type'] == 'Timepoint':\n",
    "      return '#ABB2B9'\n",
    "    elif node['properties']['node_type'] == 'Activity':\n",
    "      return '#1BA62F'\n",
    "    elif node['properties']['node_type'] == 'BCSurrogate':\n",
    "      return '#1BA62F'\n",
    "    elif node['properties']['node_type'] == 'Encounter':\n",
    "      return '#E53F2F'\n",
    "    elif node['properties']['node_type'] == 'StudyDesign':\n",
    "      return '#E52FDA'\n",
    "    elif node['properties']['node_type'] == 'Study':\n",
    "      return '#E52FDA'\n",
    "    else:\n",
    "      return 'white'\n",
    "  else: \n",
    "    return 'white'\n",
    "\n",
    "def custom_node_style(index: int, node: dict):\n",
    "  if 'node_type' in node['properties']:\n",
    "    if node['properties']['node_type'] == 'Entry' or node['properties']['node_type'] == 'Exit':\n",
    "      return {'image': 'https://raw.githubusercontent.com/data4knowledge/timepoints/main/images/pill_black.svg'}\n",
    "    elif node['properties']['node_type'] == 'Timeline':\n",
    "      return { 'shape': 'ellipse' }\n",
    "    elif node['properties']['node_type'] == 'Timing':\n",
    "      return { 'shape': 'ellipse' }\n",
    "    elif node['properties']['node_type'] == 'Condition':\n",
    "      return { 'shape': 'diamond' }\n",
    "    elif node['properties']['node_type'] == 'CycleStart':\n",
    "      return { 'shape': 'hexagon2' }\n",
    "    elif node['properties']['node_type'] == 'Timepoint':\n",
    "      return { 'shape': 'ellipse' }\n",
    "    elif node['properties']['node_type'] == 'Activity':\n",
    "      return { 'shape': 'ellipse' }\n",
    "    else:\n",
    "      return { 'shape': 'ellipse' }\n",
    "  else: \n",
    "    return { 'shape': 'ellipse' }\n",
    "\n",
    "graph_widget = GraphWidget()\n",
    "graph_widget.orthogonal_layout()\n",
    "graph_widget.set_directed(True)\n",
    "\n",
    "graph_widget.set_nodes(nodes)\n",
    "graph_widget.set_edges(edges)\n",
    "graph_widget.set_node_color_mapping(custom_node_color)\n",
    "graph_widget.set_node_styles_mapping(custom_node_style)\n",
    "graph_widget"
   ]
  }
 ],
 "metadata": {
  "kernelspec": {
   "display_name": ".venv",
   "language": "python",
   "name": "python3"
  },
  "language_info": {
   "codemirror_mode": {
    "name": "ipython",
    "version": 3
   },
   "file_extension": ".py",
   "mimetype": "text/x-python",
   "name": "python",
   "nbconvert_exporter": "python",
   "pygments_lexer": "ipython3",
   "version": "3.10.1"
  },
  "orig_nbformat": 4,
  "vscode": {
   "interpreter": {
    "hash": "cd128eb00d7d3f69b7bfbfdcc4e7f0c67a2eda7ab25ca8cb8c7708085581620b"
   }
  }
 },
 "nbformat": 4,
 "nbformat_minor": 2
}
