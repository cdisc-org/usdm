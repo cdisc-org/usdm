{
 "cells": [
  {
   "cell_type": "code",
   "execution_count": 29,
   "metadata": {},
   "outputs": [
    {
     "name": "stdout",
     "output_type": "stream",
     "text": [
      "Requirement already satisfied: pandas in /Library/Frameworks/Python.framework/Versions/3.10/lib/python3.10/site-packages (1.5.2)\n",
      "Requirement already satisfied: python-dateutil>=2.8.1 in /Users/daveih/Library/Python/3.10/lib/python/site-packages (from pandas) (2.8.2)\n",
      "Requirement already satisfied: numpy>=1.21.0 in /Library/Frameworks/Python.framework/Versions/3.10/lib/python3.10/site-packages (from pandas) (1.24.1)\n",
      "Requirement already satisfied: pytz>=2020.1 in /Library/Frameworks/Python.framework/Versions/3.10/lib/python3.10/site-packages (from pandas) (2022.2.1)\n",
      "Requirement already satisfied: six>=1.5 in /Library/Frameworks/Python.framework/Versions/3.10/lib/python3.10/site-packages (from python-dateutil>=2.8.1->pandas) (1.16.0)\n",
      "\n",
      "\u001b[1m[\u001b[0m\u001b[34;49mnotice\u001b[0m\u001b[1;39;49m]\u001b[0m\u001b[39;49m A new release of pip available: \u001b[0m\u001b[31;49m22.2.2\u001b[0m\u001b[39;49m -> \u001b[0m\u001b[32;49m22.3.1\u001b[0m\n",
      "\u001b[1m[\u001b[0m\u001b[34;49mnotice\u001b[0m\u001b[1;39;49m]\u001b[0m\u001b[39;49m To update, run: \u001b[0m\u001b[32;49mpip install --upgrade pip\u001b[0m\n",
      "Requirement already satisfied: openpyxl in /Library/Frameworks/Python.framework/Versions/3.10/lib/python3.10/site-packages (3.0.10)\n",
      "Requirement already satisfied: et-xmlfile in /Library/Frameworks/Python.framework/Versions/3.10/lib/python3.10/site-packages (from openpyxl) (1.1.0)\n",
      "\n",
      "\u001b[1m[\u001b[0m\u001b[34;49mnotice\u001b[0m\u001b[1;39;49m]\u001b[0m\u001b[39;49m A new release of pip available: \u001b[0m\u001b[31;49m22.2.2\u001b[0m\u001b[39;49m -> \u001b[0m\u001b[32;49m22.3.1\u001b[0m\n",
      "\u001b[1m[\u001b[0m\u001b[34;49mnotice\u001b[0m\u001b[1;39;49m]\u001b[0m\u001b[39;49m To update, run: \u001b[0m\u001b[32;49mpip install --upgrade pip\u001b[0m\n",
      "Requirement already satisfied: yfiles_jupyter_graphs in /Library/Frameworks/Python.framework/Versions/3.10/lib/python3.10/site-packages (1.4.3)\n",
      "Requirement already satisfied: ipywidgets>=7.6.0 in /Users/daveih/Library/Python/3.10/lib/python/site-packages (from yfiles_jupyter_graphs) (8.0.4)\n",
      "Requirement already satisfied: widgetsnbextension~=4.0 in /Users/daveih/Library/Python/3.10/lib/python/site-packages (from ipywidgets>=7.6.0->yfiles_jupyter_graphs) (4.0.5)\n",
      "Requirement already satisfied: jupyterlab-widgets~=3.0 in /Users/daveih/Library/Python/3.10/lib/python/site-packages (from ipywidgets>=7.6.0->yfiles_jupyter_graphs) (3.0.5)\n",
      "Requirement already satisfied: traitlets>=4.3.1 in /Users/daveih/Library/Python/3.10/lib/python/site-packages (from ipywidgets>=7.6.0->yfiles_jupyter_graphs) (5.8.1)\n",
      "Requirement already satisfied: ipython>=6.1.0 in /Users/daveih/Library/Python/3.10/lib/python/site-packages (from ipywidgets>=7.6.0->yfiles_jupyter_graphs) (8.8.0)\n",
      "Requirement already satisfied: ipykernel>=4.5.1 in /Users/daveih/Library/Python/3.10/lib/python/site-packages (from ipywidgets>=7.6.0->yfiles_jupyter_graphs) (6.20.1)\n",
      "Requirement already satisfied: matplotlib-inline>=0.1 in /Users/daveih/Library/Python/3.10/lib/python/site-packages (from ipykernel>=4.5.1->ipywidgets>=7.6.0->yfiles_jupyter_graphs) (0.1.6)\n",
      "Requirement already satisfied: tornado>=6.1 in /Users/daveih/Library/Python/3.10/lib/python/site-packages (from ipykernel>=4.5.1->ipywidgets>=7.6.0->yfiles_jupyter_graphs) (6.2)\n",
      "Requirement already satisfied: psutil in /Users/daveih/Library/Python/3.10/lib/python/site-packages (from ipykernel>=4.5.1->ipywidgets>=7.6.0->yfiles_jupyter_graphs) (5.9.4)\n",
      "Requirement already satisfied: appnope in /Users/daveih/Library/Python/3.10/lib/python/site-packages (from ipykernel>=4.5.1->ipywidgets>=7.6.0->yfiles_jupyter_graphs) (0.1.3)\n",
      "Requirement already satisfied: debugpy>=1.0 in /Users/daveih/Library/Python/3.10/lib/python/site-packages (from ipykernel>=4.5.1->ipywidgets>=7.6.0->yfiles_jupyter_graphs) (1.6.5)\n",
      "Requirement already satisfied: jupyter-client>=6.1.12 in /Users/daveih/Library/Python/3.10/lib/python/site-packages (from ipykernel>=4.5.1->ipywidgets>=7.6.0->yfiles_jupyter_graphs) (7.4.8)\n",
      "Requirement already satisfied: nest-asyncio in /Users/daveih/Library/Python/3.10/lib/python/site-packages (from ipykernel>=4.5.1->ipywidgets>=7.6.0->yfiles_jupyter_graphs) (1.5.6)\n",
      "Requirement already satisfied: pyzmq>=17 in /Users/daveih/Library/Python/3.10/lib/python/site-packages (from ipykernel>=4.5.1->ipywidgets>=7.6.0->yfiles_jupyter_graphs) (25.0.0)\n",
      "Requirement already satisfied: packaging in /Library/Frameworks/Python.framework/Versions/3.10/lib/python3.10/site-packages (from ipykernel>=4.5.1->ipywidgets>=7.6.0->yfiles_jupyter_graphs) (21.3)\n",
      "Requirement already satisfied: comm>=0.1.1 in /Users/daveih/Library/Python/3.10/lib/python/site-packages (from ipykernel>=4.5.1->ipywidgets>=7.6.0->yfiles_jupyter_graphs) (0.1.2)\n",
      "Requirement already satisfied: stack-data in /Users/daveih/Library/Python/3.10/lib/python/site-packages (from ipython>=6.1.0->ipywidgets>=7.6.0->yfiles_jupyter_graphs) (0.6.2)\n",
      "Requirement already satisfied: backcall in /Users/daveih/Library/Python/3.10/lib/python/site-packages (from ipython>=6.1.0->ipywidgets>=7.6.0->yfiles_jupyter_graphs) (0.2.0)\n",
      "Requirement already satisfied: jedi>=0.16 in /Users/daveih/Library/Python/3.10/lib/python/site-packages (from ipython>=6.1.0->ipywidgets>=7.6.0->yfiles_jupyter_graphs) (0.18.2)\n",
      "Requirement already satisfied: pygments>=2.4.0 in /Library/Frameworks/Python.framework/Versions/3.10/lib/python3.10/site-packages (from ipython>=6.1.0->ipywidgets>=7.6.0->yfiles_jupyter_graphs) (2.13.0)\n",
      "Requirement already satisfied: prompt-toolkit<3.1.0,>=3.0.11 in /Users/daveih/Library/Python/3.10/lib/python/site-packages (from ipython>=6.1.0->ipywidgets>=7.6.0->yfiles_jupyter_graphs) (3.0.36)\n",
      "Requirement already satisfied: pexpect>4.3 in /Users/daveih/Library/Python/3.10/lib/python/site-packages (from ipython>=6.1.0->ipywidgets>=7.6.0->yfiles_jupyter_graphs) (4.8.0)\n",
      "Requirement already satisfied: pickleshare in /Users/daveih/Library/Python/3.10/lib/python/site-packages (from ipython>=6.1.0->ipywidgets>=7.6.0->yfiles_jupyter_graphs) (0.7.5)\n",
      "Requirement already satisfied: decorator in /Users/daveih/Library/Python/3.10/lib/python/site-packages (from ipython>=6.1.0->ipywidgets>=7.6.0->yfiles_jupyter_graphs) (5.1.1)\n",
      "Requirement already satisfied: parso<0.9.0,>=0.8.0 in /Users/daveih/Library/Python/3.10/lib/python/site-packages (from jedi>=0.16->ipython>=6.1.0->ipywidgets>=7.6.0->yfiles_jupyter_graphs) (0.8.3)\n",
      "Requirement already satisfied: entrypoints in /Users/daveih/Library/Python/3.10/lib/python/site-packages (from jupyter-client>=6.1.12->ipykernel>=4.5.1->ipywidgets>=7.6.0->yfiles_jupyter_graphs) (0.4)\n",
      "Requirement already satisfied: jupyter-core>=4.9.2 in /Users/daveih/Library/Python/3.10/lib/python/site-packages (from jupyter-client>=6.1.12->ipykernel>=4.5.1->ipywidgets>=7.6.0->yfiles_jupyter_graphs) (5.1.3)\n",
      "Requirement already satisfied: python-dateutil>=2.8.2 in /Users/daveih/Library/Python/3.10/lib/python/site-packages (from jupyter-client>=6.1.12->ipykernel>=4.5.1->ipywidgets>=7.6.0->yfiles_jupyter_graphs) (2.8.2)\n",
      "Requirement already satisfied: ptyprocess>=0.5 in /Users/daveih/Library/Python/3.10/lib/python/site-packages (from pexpect>4.3->ipython>=6.1.0->ipywidgets>=7.6.0->yfiles_jupyter_graphs) (0.7.0)\n",
      "Requirement already satisfied: wcwidth in /Users/daveih/Library/Python/3.10/lib/python/site-packages (from prompt-toolkit<3.1.0,>=3.0.11->ipython>=6.1.0->ipywidgets>=7.6.0->yfiles_jupyter_graphs) (0.2.5)\n",
      "Requirement already satisfied: pyparsing!=3.0.5,>=2.0.2 in /Library/Frameworks/Python.framework/Versions/3.10/lib/python3.10/site-packages (from packaging->ipykernel>=4.5.1->ipywidgets>=7.6.0->yfiles_jupyter_graphs) (3.0.6)\n",
      "Requirement already satisfied: executing>=1.2.0 in /Users/daveih/Library/Python/3.10/lib/python/site-packages (from stack-data->ipython>=6.1.0->ipywidgets>=7.6.0->yfiles_jupyter_graphs) (1.2.0)\n",
      "Requirement already satisfied: pure-eval in /Users/daveih/Library/Python/3.10/lib/python/site-packages (from stack-data->ipython>=6.1.0->ipywidgets>=7.6.0->yfiles_jupyter_graphs) (0.2.2)\n",
      "Requirement already satisfied: asttokens>=2.1.0 in /Users/daveih/Library/Python/3.10/lib/python/site-packages (from stack-data->ipython>=6.1.0->ipywidgets>=7.6.0->yfiles_jupyter_graphs) (2.2.1)\n",
      "Requirement already satisfied: six in /Library/Frameworks/Python.framework/Versions/3.10/lib/python3.10/site-packages (from asttokens>=2.1.0->stack-data->ipython>=6.1.0->ipywidgets>=7.6.0->yfiles_jupyter_graphs) (1.16.0)\n",
      "Requirement already satisfied: platformdirs>=2.5 in /Users/daveih/Library/Python/3.10/lib/python/site-packages (from jupyter-core>=4.9.2->jupyter-client>=6.1.12->ipykernel>=4.5.1->ipywidgets>=7.6.0->yfiles_jupyter_graphs) (2.6.2)\n",
      "\n",
      "\u001b[1m[\u001b[0m\u001b[34;49mnotice\u001b[0m\u001b[1;39;49m]\u001b[0m\u001b[39;49m A new release of pip available: \u001b[0m\u001b[31;49m22.2.2\u001b[0m\u001b[39;49m -> \u001b[0m\u001b[32;49m22.3.1\u001b[0m\n",
      "\u001b[1m[\u001b[0m\u001b[34;49mnotice\u001b[0m\u001b[1;39;49m]\u001b[0m\u001b[39;49m To update, run: \u001b[0m\u001b[32;49mpip install --upgrade pip\u001b[0m\n",
      "Requirement already satisfied: networkx in /Library/Frameworks/Python.framework/Versions/3.10/lib/python3.10/site-packages (3.0)\n",
      "\n",
      "\u001b[1m[\u001b[0m\u001b[34;49mnotice\u001b[0m\u001b[1;39;49m]\u001b[0m\u001b[39;49m A new release of pip available: \u001b[0m\u001b[31;49m22.2.2\u001b[0m\u001b[39;49m -> \u001b[0m\u001b[32;49m22.3.1\u001b[0m\n",
      "\u001b[1m[\u001b[0m\u001b[34;49mnotice\u001b[0m\u001b[1;39;49m]\u001b[0m\u001b[39;49m To update, run: \u001b[0m\u001b[32;49mpip install --upgrade pip\u001b[0m\n"
     ]
    }
   ],
   "source": [
    "!pip install pandas\n",
    "!pip install openpyxl\n",
    "!pip install yfiles_jupyter_graphs\n",
    "!pip install networkx\n"
   ]
  },
  {
   "cell_type": "code",
   "execution_count": 30,
   "metadata": {},
   "outputs": [],
   "source": [
    "import pandas as pd\n",
    "import os\n",
    "from yfiles_jupyter_graphs import GraphWidget\n"
   ]
  },
  {
   "cell_type": "code",
   "execution_count": 31,
   "metadata": {},
   "outputs": [],
   "source": [
    "notebook_path = os.path.abspath(\"notebook.ipynb\")\n",
    "file_path = os.path.join(os.path.dirname(notebook_path), \"source_data/berber_1.xlsx\")\n",
    "\n",
    "df = pd.read_excel(file_path, header=None)"
   ]
  },
  {
   "cell_type": "code",
   "execution_count": 32,
   "metadata": {},
   "outputs": [],
   "source": [
    "\n",
    "# shows empty widget\n",
    "w = GraphWidget()\n",
    "\n",
    "w.orthogonal_layout()"
   ]
  },
  {
   "cell_type": "code",
   "execution_count": 61,
   "metadata": {},
   "outputs": [
    {
     "name": "stdout",
     "output_type": "stream",
     "text": [
      "activities: ['Informed Consent', 'Inclusion / Exclusion Criteria', 'Physical Examination']\n",
      "activity_bc: {'Physical Examination': {'bc': ['PE 1', 'PE 2', 'Weight', 'Height']}}\n",
      "activity_row [{'name': 'Informed Consent', 'present': True}, {'name': 'Inclusion / Exclusion Criteria', 'present': True}, {'name': 'Physical Examination', 'present': True}, {'name': 'Physical Examination', 'present': False}, {'name': 'Physical Examination', 'present': False}, {'name': 'Physical Examination', 'present': False}]\n",
      "timepoints: [{'name': 'tp_1', 'condition_type': 'next', 'condition': '0..30 Days', 'anchor': False}, {'name': 'tp_2', 'condition_type': 'anchor', 'condition': '', 'anchor': True}, {'name': 'tp_3', 'condition_type': 'previous', 'condition': '+14 Days', 'anchor': False}, {'name': 'tp_4', 'condition_type': 'previous', 'condition': '+N Days', 'anchor': False}, {'name': 'tp_5', 'condition_type': 'previous', 'condition': '+14 Days', 'anchor': False}, {'name': 'tp_6', 'condition_type': 'previous', 'condition': '+N Days', 'anchor': False}, {'name': 'tp_7', 'condition_type': 'previous', 'condition': '+14 Days', 'anchor': False}, {'name': 'tp_8', 'condition_type': 'previous', 'condition': '+N Days', 'anchor': False}, {'name': 'tp_9', 'condition_type': 'previous', 'condition': '+N Days', 'anchor': False}, {'name': 'tp_10', 'condition_type': 'previous', 'condition': 'Witin 30 days of last dose', 'anchor': False}, {'name': 'tp_11', 'condition_type': 'unknown', 'condition': '', 'anchor': False}]\n",
      "visits: [{'name': nan, 'window': ''}, {'name': 'Day 1', 'window': ''}, {'name': 'Day 15', 'window': '-2..2 Days'}, {'name': 'Day 1', 'window': '-2..2 Days'}, {'name': 'Day 15', 'window': '-2..2 Days'}, {'name': 'Day 1', 'window': '-2..2 Days'}, {'name': 'Day 15', 'window': '-2..2 Days'}, {'name': 'Day 1', 'window': '-2..2 Days'}, {'name': 'Day 1', 'window': '-2..2 Days'}, {'name': 'EOT Visit', 'window': '0..5 Days'}, {'name': nan, 'window': '0..2 Weeks'}]\n",
      "tp_activity: {'tp_1': {'Informed Consent': True, 'Inclusion / Exclusion Criteria': True, 'Physical Examination': True}, 'tp_2': {'Informed Consent': False, 'Inclusion / Exclusion Criteria': True, 'Physical Examination': True}, 'tp_3': {'Informed Consent': False, 'Inclusion / Exclusion Criteria': False, 'Physical Examination': True}, 'tp_4': {'Informed Consent': False, 'Inclusion / Exclusion Criteria': False, 'Physical Examination': True}, 'tp_5': {'Informed Consent': False, 'Inclusion / Exclusion Criteria': False, 'Physical Examination': True}, 'tp_6': {'Informed Consent': False, 'Inclusion / Exclusion Criteria': False, 'Physical Examination': True}, 'tp_7': {'Informed Consent': False, 'Inclusion / Exclusion Criteria': False, 'Physical Examination': False}, 'tp_8': {'Informed Consent': False, 'Inclusion / Exclusion Criteria': False, 'Physical Examination': True}, 'tp_9': {'Informed Consent': False, 'Inclusion / Exclusion Criteria': False, 'Physical Examination': True}, 'tp_10': {'Informed Consent': False, 'Inclusion / Exclusion Criteria': False, 'Physical Examination': True}, 'tp_11': {'Informed Consent': False, 'Inclusion / Exclusion Criteria': False, 'Physical Examination': False}}\n"
     ]
    }
   ],
   "source": [
    "#for (index, colname) in enumerate(df):\n",
    "#  if index > 2:\n",
    "#    print(index, df[colname].values[2])\n",
    "\n",
    "EPOCH_ROW = 0\n",
    "CYCLE_ROW = 1\n",
    "CYCLE_RULE_ROW = 2\n",
    "VISIT_LABEL_ROW = 3\n",
    "CONDITION_ROW = 4\n",
    "VISIT_WINDOW_ROW = 5\n",
    "FIRST_ACTIVITY_ROW = 7\n",
    "\n",
    "FIRST_VISIT_COL = 3\n",
    "\n",
    "tp_index = 1\n",
    "timepoints = []\n",
    "visits = []\n",
    "activities = []\n",
    "activity_bc = {}\n",
    "activity_row = []\n",
    "\n",
    "activity = None\n",
    "for index, col_def in df.iterrows():\n",
    "  #print(\"ACT1:\", index, df.iloc[index, 1])\n",
    "  if index >= 7:\n",
    "    activity_present = not pd.isnull(df.iloc[index, 1])\n",
    "    if activity_present:\n",
    "      activity = df.iloc[index, 1]\n",
    "      activities.append(activity)\n",
    "    activity_row.append({ 'name': activity, 'present': activity_present })\n",
    "    bc_present = not pd.isnull(df.iloc[index, 2])\n",
    "    if bc_present:\n",
    "      if not activity in activity_bc:\n",
    "        activity_bc[activity] = { 'bc': [] }  \n",
    "      activity_bc[activity]['bc'].append(df.iloc[index, 2])\n",
    "print(\"activities:\", activities)\n",
    "print(\"activity_bc:\", activity_bc)\n",
    "print(\"activity_row\", activity_row)\n",
    "\n",
    "for index in range(df.shape[1]):\n",
    "  if index >= FIRST_VISIT_COL:\n",
    "    anchor = False\n",
    "    condition_type = None\n",
    "    label = df.iloc[VISIT_LABEL_ROW, index]\n",
    "    if pd.isnull(df.iloc[CONDITION_ROW,index]):\n",
    "      condition_info = \"\"\n",
    "      condition_type = \"unknown\"\n",
    "      condition = \"\"\n",
    "    else:\n",
    "      condition_info = df.iloc[CONDITION_ROW, index]\n",
    "      condition_parts = condition_info.split(\":\")\n",
    "      #print (\"CPs:\", condition_parts)\n",
    "      if condition_parts[0].upper() == \"A\":\n",
    "        anchor = True\n",
    "        condition_type = \"anchor\"\n",
    "      if condition_parts[0].upper() == \"P\":\n",
    "        condition_type = \"previous\"\n",
    "      elif condition_parts[0].upper() == \"N\":\n",
    "        condition_type = \"next\"\n",
    "      if len(condition_parts) == 2:\n",
    "        condition = condition_parts[1].strip()\n",
    "      else:\n",
    "        condition = \"\"\n",
    "    #print(\"C:\", condition_type)\n",
    "    window = df.iloc[VISIT_WINDOW_ROW, index]\n",
    "    window_is_null = pd.isnull(df.iloc[VISIT_WINDOW_ROW,index])\n",
    "    if window_is_null:\n",
    "      window = \"\"\n",
    "    visits.append({ 'name': label, 'window': window })\n",
    "    timepoints.append({ 'name': \"tp_%s\" % (tp_index), 'condition_type': condition_type, 'condition': condition, 'anchor': anchor})\n",
    "    tp_index += 1\n",
    "print(\"timepoints:\", timepoints)\n",
    "print(\"visits:\", visits)\n",
    "\n",
    "tp_activity = {}\n",
    "for tp in timepoints:\n",
    "  tp_name = tp['name']\n",
    "  tp_activity[tp_name] = {}\n",
    "  for activity in activities:\n",
    "    tp_activity[tp_name][activity] = False\n",
    "for index in range(df.shape[1]):\n",
    "  if index >= FIRST_VISIT_COL:\n",
    "    column = df.iloc[:, index]\n",
    "    row = 0\n",
    "    for x in column:\n",
    "      if row >= FIRST_ACTIVITY_ROW:\n",
    "        if not pd.isnull(x):\n",
    "          #print(\"X ROW:\", index, row, x)\n",
    "          if x.upper() == \"X\":\n",
    "            if activity_row[row - FIRST_ACTIVITY_ROW]['present']:\n",
    "              activity = activity_row[row - FIRST_ACTIVITY_ROW]['name']\n",
    "              tp = timepoints[index - FIRST_VISIT_COL]['name']\n",
    "              tp_activity[tp][activity] = True\n",
    "      row += 1\n",
    "print(\"tp_activity:\", tp_activity) "
   ]
  },
  {
   "cell_type": "code",
   "execution_count": 66,
   "metadata": {},
   "outputs": [
    {
     "name": "stderr",
     "output_type": "stream",
     "text": [
      "/Users/daveih/Library/Python/3.10/lib/python/site-packages/jupyter_client/session.py:718: UserWarning: Message serialization failed with:\n",
      "keys must be str, int, float, bool or None, not builtin_function_or_method\n",
      "Supporting this message is deprecated in jupyter-client 7, please make sure your message is JSON-compliant\n",
      "  content = self.pack(content)\n"
     ]
    },
    {
     "data": {
      "application/vnd.jupyter.widget-view+json": {
       "model_id": "1877bf081cf442fbb036fe9f2531b2fc",
       "version_major": 2,
       "version_minor": 0
      },
      "text/plain": [
       "GraphWidget(layout=Layout(height='500px', width='100%'))"
      ]
     },
     "metadata": {},
     "output_type": "display_data"
    }
   ],
   "source": [
    "ENTRY_NODE_INDEX = 0\n",
    "EXIT_NODE_INDEX = 99999\n",
    "\n",
    "nodes = [\n",
    "  {'id': ENTRY_NODE_INDEX, 'properties': {'label': 'Entry'}},\n",
    "  {'id': EXIT_NODE_INDEX, 'properties': {'label': 'Exit'}}\n",
    "]\n",
    "edges = []\n",
    "node_index = 1\n",
    "edge_index = 0\n",
    "prev_node = None\n",
    "activity_nodes = {}\n",
    "tp_nodes = {}\n",
    "\n",
    "# Add base timeline, the timepoints\n",
    "for tp in timepoints:\n",
    "  if tp['anchor']:\n",
    "    label = \"%s : ANCHOR\" % (tp['name'])\n",
    "  else:\n",
    "    label = tp['name']\n",
    "  nodes.append({ 'id': node_index, 'properties': {'label': label} })\n",
    "  tp_nodes[tp['name']] = node_index\n",
    "  if prev_node == None:\n",
    "    edges.append( {id: edge_index, 'start': ENTRY_NODE_INDEX, 'end': node_index, 'properties': {'label': \"entry\"}})\n",
    "  else:\n",
    "    edges.append( {id: edge_index, 'start': prev_node, 'end': node_index, 'properties': {'label': \"next\"}})\n",
    "  prev_node = node_index\n",
    "  node_index += 1\n",
    "  edge_index += 1\n",
    "edges.append( {id: edge_index, 'start': prev_node, 'end': EXIT_NODE_INDEX, 'properties': {'label': \"exit\"}})\n",
    "\n",
    "# Add conditions\n",
    "for index, tp in enumerate(timepoints):\n",
    "  start_name = tp['name']\n",
    "  start_index = tp_nodes[start_name]\n",
    "  if tp['condition_type'] == \"next\":\n",
    "    end_name = timepoints[index + 1]['name']\n",
    "    end_index = tp_nodes[end_name]\n",
    "    edges.append( {id: edge_index, 'start': start_index, 'end': end_index, 'properties': {'label': tp['condition']}})\n",
    "  elif tp['condition_type'] == \"previous\":\n",
    "    end_name = timepoints[index - 1]['name']\n",
    "    end_index = tp_nodes[end_name]\n",
    "    edges.append( {id: edge_index, 'start': start_index, 'end': end_index, 'properties': {'label': tp['condition']}})\n",
    "  edge_index += 1\n",
    "\n",
    "# Add links to visits\n",
    "for index, tp in enumerate(timepoints):\n",
    "  visit_index = node_index\n",
    "  visit = visits[index]\n",
    "  nodes.append({ 'id': visit_index, 'properties': { 'label': \"%s, %s\" % (visit['name'], visit['window']) }})\n",
    "  node_index += 1\n",
    "  edges.append( {id: edge_index, 'start': tp_nodes[tp['name']], 'end': visit_index, 'properties': {'label': \"contains_visit\"}})\n",
    "  edge_index += 1\n",
    "\n",
    "# Add links to activities (a fresh copy for each, not shared, makes the diagram better to understand)\n",
    "for tp, value in tp_activity.items():\n",
    "  for activity, required in value.items():\n",
    "    if required:\n",
    "      activity_index = node_index\n",
    "      nodes.append({ 'id': activity_index, 'properties': { 'label': activity }})\n",
    "      #activity_nodes[activity] = activity_index\n",
    "      node_index += 1\n",
    "      if activity in activity_bc:\n",
    "        for bc in activity_bc[activity]['bc']:\n",
    "          bc_index = node_index\n",
    "          nodes.append({ 'id': bc_index, 'properties': { 'label': bc }})\n",
    "          node_index += 1\n",
    "          edges.append( {id: edge_index, 'start': activity_index, 'end': bc_index, 'properties': {'label': \"contains_bc\"}})\n",
    "          edge_index += 1\n",
    "      edges.append( {id: edge_index, 'start': tp_nodes[tp], 'end': activity_index, 'properties': {'label': \"contains_activity\"}})\n",
    "      edge_index += 1\n",
    "\n",
    "# Display\n",
    "w.set_directed(True)\n",
    "w.set_nodes(nodes)\n",
    "w.set_edges(edges)\n",
    "w"
   ]
  },
  {
   "cell_type": "code",
   "execution_count": 35,
   "metadata": {},
   "outputs": [
    {
     "name": "stdout",
     "output_type": "stream",
     "text": [
      "{'algorithm': 'orthogonal', 'options': {}}\n"
     ]
    }
   ],
   "source": [
    "a = w.get_graph_layout()\n",
    "print(a)"
   ]
  }
 ],
 "metadata": {
  "kernelspec": {
   "display_name": "Python 3",
   "language": "python",
   "name": "python3"
  },
  "language_info": {
   "codemirror_mode": {
    "name": "ipython",
    "version": 3
   },
   "file_extension": ".py",
   "mimetype": "text/x-python",
   "name": "python",
   "nbconvert_exporter": "python",
   "pygments_lexer": "ipython3",
   "version": "3.10.1"
  },
  "orig_nbformat": 4,
  "vscode": {
   "interpreter": {
    "hash": "aee8b7b246df8f9039afb4144a1f6fd8d2ca17a180786b69acc140d282b71a49"
   }
  }
 },
 "nbformat": 4,
 "nbformat_minor": 2
}
