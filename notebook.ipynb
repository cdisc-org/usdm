{
 "cells": [
  {
   "cell_type": "code",
   "execution_count": 16,
   "metadata": {},
   "outputs": [
    {
     "name": "stdout",
     "output_type": "stream",
     "text": [
      "Requirement already satisfied: pandas in /Library/Frameworks/Python.framework/Versions/3.10/lib/python3.10/site-packages (1.5.2)\n",
      "Requirement already satisfied: numpy>=1.21.0 in /Library/Frameworks/Python.framework/Versions/3.10/lib/python3.10/site-packages (from pandas) (1.24.1)\n",
      "Requirement already satisfied: python-dateutil>=2.8.1 in /Users/daveih/Library/Python/3.10/lib/python/site-packages (from pandas) (2.8.2)\n",
      "Requirement already satisfied: pytz>=2020.1 in /Library/Frameworks/Python.framework/Versions/3.10/lib/python3.10/site-packages (from pandas) (2022.2.1)\n",
      "Requirement already satisfied: six>=1.5 in /Library/Frameworks/Python.framework/Versions/3.10/lib/python3.10/site-packages (from python-dateutil>=2.8.1->pandas) (1.16.0)\n",
      "\n",
      "\u001b[1m[\u001b[0m\u001b[34;49mnotice\u001b[0m\u001b[1;39;49m]\u001b[0m\u001b[39;49m A new release of pip available: \u001b[0m\u001b[31;49m22.2.2\u001b[0m\u001b[39;49m -> \u001b[0m\u001b[32;49m22.3.1\u001b[0m\n",
      "\u001b[1m[\u001b[0m\u001b[34;49mnotice\u001b[0m\u001b[1;39;49m]\u001b[0m\u001b[39;49m To update, run: \u001b[0m\u001b[32;49mpip install --upgrade pip\u001b[0m\n",
      "Requirement already satisfied: openpyxl in /Library/Frameworks/Python.framework/Versions/3.10/lib/python3.10/site-packages (3.0.10)\n",
      "Requirement already satisfied: et-xmlfile in /Library/Frameworks/Python.framework/Versions/3.10/lib/python3.10/site-packages (from openpyxl) (1.1.0)\n",
      "\n",
      "\u001b[1m[\u001b[0m\u001b[34;49mnotice\u001b[0m\u001b[1;39;49m]\u001b[0m\u001b[39;49m A new release of pip available: \u001b[0m\u001b[31;49m22.2.2\u001b[0m\u001b[39;49m -> \u001b[0m\u001b[32;49m22.3.1\u001b[0m\n",
      "\u001b[1m[\u001b[0m\u001b[34;49mnotice\u001b[0m\u001b[1;39;49m]\u001b[0m\u001b[39;49m To update, run: \u001b[0m\u001b[32;49mpip install --upgrade pip\u001b[0m\n",
      "Requirement already satisfied: yfiles_jupyter_graphs in /Library/Frameworks/Python.framework/Versions/3.10/lib/python3.10/site-packages (1.4.3)\n",
      "Requirement already satisfied: ipywidgets>=7.6.0 in /Users/daveih/Library/Python/3.10/lib/python/site-packages (from yfiles_jupyter_graphs) (8.0.4)\n",
      "Requirement already satisfied: widgetsnbextension~=4.0 in /Users/daveih/Library/Python/3.10/lib/python/site-packages (from ipywidgets>=7.6.0->yfiles_jupyter_graphs) (4.0.5)\n",
      "Requirement already satisfied: ipython>=6.1.0 in /Users/daveih/Library/Python/3.10/lib/python/site-packages (from ipywidgets>=7.6.0->yfiles_jupyter_graphs) (8.8.0)\n",
      "Requirement already satisfied: traitlets>=4.3.1 in /Users/daveih/Library/Python/3.10/lib/python/site-packages (from ipywidgets>=7.6.0->yfiles_jupyter_graphs) (5.8.1)\n",
      "Requirement already satisfied: jupyterlab-widgets~=3.0 in /Users/daveih/Library/Python/3.10/lib/python/site-packages (from ipywidgets>=7.6.0->yfiles_jupyter_graphs) (3.0.5)\n",
      "Requirement already satisfied: ipykernel>=4.5.1 in /Users/daveih/Library/Python/3.10/lib/python/site-packages (from ipywidgets>=7.6.0->yfiles_jupyter_graphs) (6.20.1)\n",
      "Requirement already satisfied: debugpy>=1.0 in /Users/daveih/Library/Python/3.10/lib/python/site-packages (from ipykernel>=4.5.1->ipywidgets>=7.6.0->yfiles_jupyter_graphs) (1.6.5)\n",
      "Requirement already satisfied: matplotlib-inline>=0.1 in /Users/daveih/Library/Python/3.10/lib/python/site-packages (from ipykernel>=4.5.1->ipywidgets>=7.6.0->yfiles_jupyter_graphs) (0.1.6)\n",
      "Requirement already satisfied: packaging in /Library/Frameworks/Python.framework/Versions/3.10/lib/python3.10/site-packages (from ipykernel>=4.5.1->ipywidgets>=7.6.0->yfiles_jupyter_graphs) (21.3)\n",
      "Requirement already satisfied: tornado>=6.1 in /Users/daveih/Library/Python/3.10/lib/python/site-packages (from ipykernel>=4.5.1->ipywidgets>=7.6.0->yfiles_jupyter_graphs) (6.2)\n",
      "Requirement already satisfied: jupyter-client>=6.1.12 in /Users/daveih/Library/Python/3.10/lib/python/site-packages (from ipykernel>=4.5.1->ipywidgets>=7.6.0->yfiles_jupyter_graphs) (7.4.8)\n",
      "Requirement already satisfied: nest-asyncio in /Users/daveih/Library/Python/3.10/lib/python/site-packages (from ipykernel>=4.5.1->ipywidgets>=7.6.0->yfiles_jupyter_graphs) (1.5.6)\n",
      "Requirement already satisfied: comm>=0.1.1 in /Users/daveih/Library/Python/3.10/lib/python/site-packages (from ipykernel>=4.5.1->ipywidgets>=7.6.0->yfiles_jupyter_graphs) (0.1.2)\n",
      "Requirement already satisfied: appnope in /Users/daveih/Library/Python/3.10/lib/python/site-packages (from ipykernel>=4.5.1->ipywidgets>=7.6.0->yfiles_jupyter_graphs) (0.1.3)\n",
      "Requirement already satisfied: psutil in /Users/daveih/Library/Python/3.10/lib/python/site-packages (from ipykernel>=4.5.1->ipywidgets>=7.6.0->yfiles_jupyter_graphs) (5.9.4)\n",
      "Requirement already satisfied: pyzmq>=17 in /Users/daveih/Library/Python/3.10/lib/python/site-packages (from ipykernel>=4.5.1->ipywidgets>=7.6.0->yfiles_jupyter_graphs) (25.0.0)\n",
      "Requirement already satisfied: pexpect>4.3 in /Users/daveih/Library/Python/3.10/lib/python/site-packages (from ipython>=6.1.0->ipywidgets>=7.6.0->yfiles_jupyter_graphs) (4.8.0)\n",
      "Requirement already satisfied: prompt-toolkit<3.1.0,>=3.0.11 in /Users/daveih/Library/Python/3.10/lib/python/site-packages (from ipython>=6.1.0->ipywidgets>=7.6.0->yfiles_jupyter_graphs) (3.0.36)\n",
      "Requirement already satisfied: backcall in /Users/daveih/Library/Python/3.10/lib/python/site-packages (from ipython>=6.1.0->ipywidgets>=7.6.0->yfiles_jupyter_graphs) (0.2.0)\n",
      "Requirement already satisfied: pygments>=2.4.0 in /Library/Frameworks/Python.framework/Versions/3.10/lib/python3.10/site-packages (from ipython>=6.1.0->ipywidgets>=7.6.0->yfiles_jupyter_graphs) (2.13.0)\n",
      "Requirement already satisfied: jedi>=0.16 in /Users/daveih/Library/Python/3.10/lib/python/site-packages (from ipython>=6.1.0->ipywidgets>=7.6.0->yfiles_jupyter_graphs) (0.18.2)\n",
      "Requirement already satisfied: pickleshare in /Users/daveih/Library/Python/3.10/lib/python/site-packages (from ipython>=6.1.0->ipywidgets>=7.6.0->yfiles_jupyter_graphs) (0.7.5)\n",
      "Requirement already satisfied: stack-data in /Users/daveih/Library/Python/3.10/lib/python/site-packages (from ipython>=6.1.0->ipywidgets>=7.6.0->yfiles_jupyter_graphs) (0.6.2)\n",
      "Requirement already satisfied: decorator in /Users/daveih/Library/Python/3.10/lib/python/site-packages (from ipython>=6.1.0->ipywidgets>=7.6.0->yfiles_jupyter_graphs) (5.1.1)\n",
      "Requirement already satisfied: parso<0.9.0,>=0.8.0 in /Users/daveih/Library/Python/3.10/lib/python/site-packages (from jedi>=0.16->ipython>=6.1.0->ipywidgets>=7.6.0->yfiles_jupyter_graphs) (0.8.3)\n",
      "Requirement already satisfied: python-dateutil>=2.8.2 in /Users/daveih/Library/Python/3.10/lib/python/site-packages (from jupyter-client>=6.1.12->ipykernel>=4.5.1->ipywidgets>=7.6.0->yfiles_jupyter_graphs) (2.8.2)\n",
      "Requirement already satisfied: entrypoints in /Users/daveih/Library/Python/3.10/lib/python/site-packages (from jupyter-client>=6.1.12->ipykernel>=4.5.1->ipywidgets>=7.6.0->yfiles_jupyter_graphs) (0.4)\n",
      "Requirement already satisfied: jupyter-core>=4.9.2 in /Users/daveih/Library/Python/3.10/lib/python/site-packages (from jupyter-client>=6.1.12->ipykernel>=4.5.1->ipywidgets>=7.6.0->yfiles_jupyter_graphs) (5.1.3)\n",
      "Requirement already satisfied: ptyprocess>=0.5 in /Users/daveih/Library/Python/3.10/lib/python/site-packages (from pexpect>4.3->ipython>=6.1.0->ipywidgets>=7.6.0->yfiles_jupyter_graphs) (0.7.0)\n",
      "Requirement already satisfied: wcwidth in /Users/daveih/Library/Python/3.10/lib/python/site-packages (from prompt-toolkit<3.1.0,>=3.0.11->ipython>=6.1.0->ipywidgets>=7.6.0->yfiles_jupyter_graphs) (0.2.5)\n",
      "Requirement already satisfied: pyparsing!=3.0.5,>=2.0.2 in /Library/Frameworks/Python.framework/Versions/3.10/lib/python3.10/site-packages (from packaging->ipykernel>=4.5.1->ipywidgets>=7.6.0->yfiles_jupyter_graphs) (3.0.6)\n",
      "Requirement already satisfied: executing>=1.2.0 in /Users/daveih/Library/Python/3.10/lib/python/site-packages (from stack-data->ipython>=6.1.0->ipywidgets>=7.6.0->yfiles_jupyter_graphs) (1.2.0)\n",
      "Requirement already satisfied: asttokens>=2.1.0 in /Users/daveih/Library/Python/3.10/lib/python/site-packages (from stack-data->ipython>=6.1.0->ipywidgets>=7.6.0->yfiles_jupyter_graphs) (2.2.1)\n",
      "Requirement already satisfied: pure-eval in /Users/daveih/Library/Python/3.10/lib/python/site-packages (from stack-data->ipython>=6.1.0->ipywidgets>=7.6.0->yfiles_jupyter_graphs) (0.2.2)\n",
      "Requirement already satisfied: six in /Library/Frameworks/Python.framework/Versions/3.10/lib/python3.10/site-packages (from asttokens>=2.1.0->stack-data->ipython>=6.1.0->ipywidgets>=7.6.0->yfiles_jupyter_graphs) (1.16.0)\n",
      "Requirement already satisfied: platformdirs>=2.5 in /Users/daveih/Library/Python/3.10/lib/python/site-packages (from jupyter-core>=4.9.2->jupyter-client>=6.1.12->ipykernel>=4.5.1->ipywidgets>=7.6.0->yfiles_jupyter_graphs) (2.6.2)\n",
      "\n",
      "\u001b[1m[\u001b[0m\u001b[34;49mnotice\u001b[0m\u001b[1;39;49m]\u001b[0m\u001b[39;49m A new release of pip available: \u001b[0m\u001b[31;49m22.2.2\u001b[0m\u001b[39;49m -> \u001b[0m\u001b[32;49m22.3.1\u001b[0m\n",
      "\u001b[1m[\u001b[0m\u001b[34;49mnotice\u001b[0m\u001b[1;39;49m]\u001b[0m\u001b[39;49m To update, run: \u001b[0m\u001b[32;49mpip install --upgrade pip\u001b[0m\n",
      "Collecting networkx\n",
      "  Downloading networkx-3.0-py3-none-any.whl (2.0 MB)\n",
      "\u001b[2K     \u001b[90m━━━━━━━━━━━━━━━━━━━━━━━━━━━━━━━━━━━━━━━━\u001b[0m \u001b[32m2.0/2.0 MB\u001b[0m \u001b[31m10.0 MB/s\u001b[0m eta \u001b[36m0:00:00\u001b[0ma \u001b[36m0:00:01\u001b[0m\n",
      "\u001b[?25hInstalling collected packages: networkx\n",
      "Successfully installed networkx-3.0\n",
      "\n",
      "\u001b[1m[\u001b[0m\u001b[34;49mnotice\u001b[0m\u001b[1;39;49m]\u001b[0m\u001b[39;49m A new release of pip available: \u001b[0m\u001b[31;49m22.2.2\u001b[0m\u001b[39;49m -> \u001b[0m\u001b[32;49m22.3.1\u001b[0m\n",
      "\u001b[1m[\u001b[0m\u001b[34;49mnotice\u001b[0m\u001b[1;39;49m]\u001b[0m\u001b[39;49m To update, run: \u001b[0m\u001b[32;49mpip install --upgrade pip\u001b[0m\n"
     ]
    }
   ],
   "source": [
    "!pip install pandas\n",
    "!pip install openpyxl\n",
    "!pip install yfiles_jupyter_graphs\n",
    "!pip install networkx\n"
   ]
  },
  {
   "cell_type": "code",
   "execution_count": 12,
   "metadata": {},
   "outputs": [],
   "source": [
    "import pandas as pd\n",
    "import os\n",
    "from yfiles_jupyter_graphs import GraphWidget\n"
   ]
  },
  {
   "cell_type": "code",
   "execution_count": 13,
   "metadata": {},
   "outputs": [
    {
     "name": "stdout",
     "output_type": "stream",
     "text": [
      "                                         Unnamed: 1           Epoch  \\\n",
      "0               NaN                             NaN           Cycle   \n",
      "1               NaN                             NaN  Cycle End Rule   \n",
      "2               NaN                             NaN     Visit Label   \n",
      "3               NaN                             NaN       Condition   \n",
      "4               NaN                             NaN    Visit Window   \n",
      "5   Parent Activity                  Child Activity             BCs   \n",
      "6               NaN                Informed Consent             NaN   \n",
      "7               NaN  Inclusion / Exclusion Criteria             NaN   \n",
      "8               NaN            Physical Examination            PE 1   \n",
      "9               NaN                             NaN            PE 2   \n",
      "10              NaN                             NaN          Weight   \n",
      "11              NaN                             NaN          Height   \n",
      "\n",
      "        Screening Treatment   Unnamed: 5  Unnamed: 6   Unnamed: 7  Unnamed: 8  \\\n",
      "0             NaN         1          NaN           2          NaN           3   \n",
      "1             NaN       NaN          NaN         NaN          NaN         NaN   \n",
      "2             NaN     Day 1       Day 15       Day 1       Day 15       Day 1   \n",
      "3   N: 0..30 Days        A:  P: +14 Days  P: +N Days  P: +14 Days  P: +N Days   \n",
      "4             NaN       NaN   -2..2 Days  -2..2 Days   -2..2 Days  -2..2 Days   \n",
      "5             NaN       NaN          NaN         NaN          NaN         NaN   \n",
      "6               X       NaN          NaN         NaN          NaN         NaN   \n",
      "7               X         X          NaN         NaN          NaN         NaN   \n",
      "8               X         X            X           X            X           X   \n",
      "9             NaN       NaN          NaN         NaN          NaN         NaN   \n",
      "10            NaN       NaN          NaN         NaN          NaN         NaN   \n",
      "11            NaN       NaN          NaN         NaN          NaN         NaN   \n",
      "\n",
      "     Unnamed: 9 Unnamed: 10   Unnamed: 11                    Unnamed: 12  \\\n",
      "0           NaN       4..12  13..N step 3                            NaN   \n",
      "1           NaN         NaN           NaN                            NaN   \n",
      "2        Day 15       Day 1         Day 1                      EOT Visit   \n",
      "3   P: +14 Days  P: +N Days    P: +N Days  P: Witin 30 days of last dose   \n",
      "4    -2..2 Days  -2..2 Days    -2..2 Days                      0..5 Days   \n",
      "5           NaN         NaN           NaN                            NaN   \n",
      "6           NaN         NaN           NaN                            NaN   \n",
      "7           NaN         NaN           NaN                            NaN   \n",
      "8           NaN           X             X                              X   \n",
      "9           NaN         NaN           NaN                            NaN   \n",
      "10          NaN         NaN           NaN                            NaN   \n",
      "11          NaN         NaN           NaN                            NaN   \n",
      "\n",
      "     Follow Up  \n",
      "0          NaN  \n",
      "1          NaN  \n",
      "2          NaN  \n",
      "3          NaN  \n",
      "4   0..2 Weeks  \n",
      "5          NaN  \n",
      "6          NaN  \n",
      "7          NaN  \n",
      "8          NaN  \n",
      "9          NaN  \n",
      "10         NaN  \n",
      "11         NaN  \n"
     ]
    }
   ],
   "source": [
    "notebook_path = os.path.abspath(\"notebook.ipynb\")\n",
    "file_path = os.path.join(os.path.dirname(notebook_path), \"source_data/berber_1.xlsx\")\n",
    "\n",
    "dataframe1 = pd.read_excel(file_path)\n",
    "print(dataframe1)"
   ]
  },
  {
   "cell_type": "code",
   "execution_count": 18,
   "metadata": {},
   "outputs": [
    {
     "data": {
      "application/vnd.jupyter.widget-view+json": {
       "model_id": "a0020ce2cde44d0e9f0ebac52ac6874f",
       "version_major": 2,
       "version_minor": 0
      },
      "text/plain": [
       "GraphWidget(layout=Layout(height='500px', width='100%'))"
      ]
     },
     "metadata": {},
     "output_type": "display_data"
    }
   ],
   "source": [
    "\n",
    "# shows empty widget\n",
    "w = GraphWidget()\n",
    "w.set_nodes([\n",
    "            {'id': 0, 'properties': {'label': 'Hello World'}},\n",
    "            {'id': 1, 'properties': {'label': 'This is a second node.'}}\n",
    "        ])\n",
    "w"
   ]
  },
  {
   "cell_type": "code",
   "execution_count": 17,
   "metadata": {},
   "outputs": [
    {
     "data": {
      "application/vnd.jupyter.widget-view+json": {
       "model_id": "462fcb47e78142778f883afd425dbfd1",
       "version_major": 2,
       "version_minor": 0
      },
      "text/plain": [
       "GraphWidget(layout=Layout(height='500px', width='100%'))"
      ]
     },
     "metadata": {},
     "output_type": "display_data"
    }
   ],
   "source": [
    "from networkx import florentine_families_graph\n",
    "from yfiles_jupyter_graphs import GraphWidget\n",
    "w = GraphWidget()\n",
    "w.import_graph(florentine_families_graph())\n",
    "w\n"
   ]
  },
  {
   "cell_type": "code",
   "execution_count": null,
   "metadata": {},
   "outputs": [],
   "source": [
    "w.circular_layout()\n",
    "w"
   ]
  }
 ],
 "metadata": {
  "kernelspec": {
   "display_name": "Python 3",
   "language": "python",
   "name": "python3"
  },
  "language_info": {
   "codemirror_mode": {
    "name": "ipython",
    "version": 3
   },
   "file_extension": ".py",
   "mimetype": "text/x-python",
   "name": "python",
   "nbconvert_exporter": "python",
   "pygments_lexer": "ipython3",
   "version": "3.10.1"
  },
  "orig_nbformat": 4,
  "vscode": {
   "interpreter": {
    "hash": "aee8b7b246df8f9039afb4144a1f6fd8d2ca17a180786b69acc140d282b71a49"
   }
  }
 },
 "nbformat": 4,
 "nbformat_minor": 2
}
