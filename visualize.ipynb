{
 "cells": [
  {
   "cell_type": "code",
   "execution_count": null,
   "metadata": {
    "scrolled": true
   },
   "outputs": [],
   "source": [
    "%pip install yfiles_jupyter_graphs"
   ]
  },
  {
   "cell_type": "code",
   "execution_count": 5,
   "metadata": {
    "scrolled": false
   },
   "outputs": [],
   "source": [
    "import sys\n",
    "import os\n",
    "import yaml\n",
    "\n",
    "sys.path.append(\"/Users/daveih/Documents/python/timepoints\")\n",
    "\n",
    "program_path = os.path.abspath(\"usdm_simple.ipynb\")\n",
    "\n",
    "def read_yaml_file(file_path):\n",
    "  with open(file_path, \"r\") as stream:\n",
    "    return yaml.safe_load(stream)\n",
    "\n",
    "def read_nodes(study):\n",
    "  file_path = os.path.join(os.path.dirname(program_path), \"source_data/%s_nodes.yaml\" % (study))\n",
    "  return read_yaml_file(file_path)\n",
    "\n",
    "def read_edges(study):\n",
    "  file_path = os.path.join(os.path.dirname(program_path), \"source_data/%s_edges.yaml\" % (study))\n",
    "  return read_yaml_file(file_path)\n",
    "\n",
    "studies = [\n",
    "  \"Roche Phase 3 NCT04320615\",\n",
    "  \"cycles_1\",\n",
    "  \"simple_1\",\n",
    "  \"simple_2\"\n",
    "]\n",
    "\n",
    "study = studies[1]\n",
    "nodes = read_nodes(study)\n",
    "edges = read_edges(study)"
   ]
  },
  {
   "cell_type": "code",
   "execution_count": null,
   "metadata": {
    "scrolled": true
   },
   "outputs": [],
   "source": [
    "from yfiles_jupyter_graphs import GraphWidget\n",
    "\n",
    "config = read_yaml_file(file_path = os.path.join(os.path.dirname(program_path), \"data/yfiles_config.yaml\"))\n",
    "colour_map = config['colour_map']\n",
    "shape_map = config['shape_map']\n",
    "\n",
    "def custom_node_color(index: int, node: dict):\n",
    "  if '_type' in node['properties'] and node['properties']['_type'] in colour_map:\n",
    "    result = colour_map[node['properties']['_type']]\n",
    "    return result\n",
    "  else: \n",
    "    return 'white'\n",
    "\n",
    "def custom_node_style(index: int, node: dict):\n",
    "  if '_type' in node['properties'] and node['properties']['_type'] in shape_map:\n",
    "    return { 'shape': shape_map[node['properties']['_type']] }\n",
    "  else: \n",
    "    return { 'shape': 'ellipse' }\n",
    "\n",
    "graph_widget = GraphWidget()\n",
    "graph_widget.hierarchic_layout()\n",
    "graph_widget.set_directed(True)\n",
    "\n",
    "graph_widget.set_nodes(nodes)\n",
    "graph_widget.set_edges(edges)\n",
    "graph_widget.set_node_color_mapping(custom_node_color)\n",
    "graph_widget.set_node_styles_mapping(custom_node_style)\n",
    "graph_widget"
   ]
  }
 ],
 "metadata": {
  "kernelspec": {
   "display_name": "Python 3 (ipykernel)",
   "language": "python",
   "name": "python3"
  },
  "language_info": {
   "codemirror_mode": {
    "name": "ipython",
    "version": 3
   },
   "file_extension": ".py",
   "mimetype": "text/x-python",
   "name": "python",
   "nbconvert_exporter": "python",
   "pygments_lexer": "ipython3",
   "version": "3.10.1"
  },
  "vscode": {
   "interpreter": {
    "hash": "cd128eb00d7d3f69b7bfbfdcc4e7f0c67a2eda7ab25ca8cb8c7708085581620b"
   }
  }
 },
 "nbformat": 4,
 "nbformat_minor": 2
}
